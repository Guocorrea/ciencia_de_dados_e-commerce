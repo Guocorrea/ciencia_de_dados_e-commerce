{
 "cells": [
  {
   "cell_type": "code",
   "execution_count": 311,
   "id": "8b7a3faf",
   "metadata": {
    "ExecuteTime": {
     "end_time": "2022-05-04T19:09:02.415322Z",
     "start_time": "2022-05-04T19:09:02.392349Z"
    }
   },
   "outputs": [
    {
     "data": {
      "text/html": [
       "<style>.container { width:80% !important; }</style>"
      ],
      "text/plain": [
       "<IPython.core.display.HTML object>"
      ]
     },
     "metadata": {},
     "output_type": "display_data"
    }
   ],
   "source": [
    "import pandas as pd\n",
    "import pyodbc\n",
    "from datetime import datetime\n",
    "import numpy as np\n",
    "import matplotlib.pyplot as plt\n",
    "import seaborn as sns\n",
    "from IPython.core.display import display, HTML\n",
    "display(HTML(\"<style>.container { width:80% !important; }</style>\"))\n",
    "from datetime import date\n",
    "from datetime import timedelta\n",
    "from sklearn.preprocessing import StandardScaler, OneHotEncoder\n",
    "from sklearn.model_selection import train_test_split\n",
    "from sklearn.metrics import mean_squared_error\n",
    "import catboost as cat\n",
    "from sklearn import datasets\n",
    "from sklearn.decomposition import PCA\n",
    "from sklearn.model_selection import GridSearchCV"
   ]
  },
  {
   "cell_type": "markdown",
   "id": "6791282f",
   "metadata": {},
   "source": [
    "##### Os dados do projeto são de uma empresa real, as informações privadas serão ocultas.\n",
    "---\n",
    "##### A principal função dessa análise é facilitar a visualização de resultados da segunda-feira comparado com outras semanas. A partir desse resultado uma ferramenta de machine learning faz a previsão de demanda.\n",
    "---\n",
    "##### Esse código é rodado toda terça-feira no primeiro horário e enviado para o comercial da empresa."
   ]
  },
  {
   "cell_type": "markdown",
   "id": "6ed8f4c3",
   "metadata": {},
   "source": [
    "# Conexão SQL"
   ]
  },
  {
   "cell_type": "code",
   "execution_count": 2,
   "id": "6f45c750",
   "metadata": {
    "ExecuteTime": {
     "end_time": "2022-05-04T12:39:38.319360Z",
     "start_time": "2022-05-04T12:39:38.305052Z"
    }
   },
   "outputs": [],
   "source": [
    "server = ######## \n",
    "database = ######## \n",
    "username = ########  \n",
    "password = ######## "
   ]
  },
  {
   "cell_type": "code",
   "execution_count": 7,
   "id": "92b51a9c",
   "metadata": {
    "ExecuteTime": {
     "end_time": "2022-05-04T13:03:06.984798Z",
     "start_time": "2022-05-04T13:03:06.729883Z"
    }
   },
   "outputs": [],
   "source": [
    "cnxn = pyodbc.connect('DRIVER={SQL Server Native Client 11.0};SERVER='+server+';DATABASE='+database+';UID='+username+';PWD='+ password)"
   ]
  },
  {
   "cell_type": "code",
   "execution_count": 8,
   "id": "686af9dd",
   "metadata": {
    "ExecuteTime": {
     "end_time": "2022-05-04T13:03:08.469367Z",
     "start_time": "2022-05-04T13:03:08.426481Z"
    }
   },
   "outputs": [
    {
     "name": "stdout",
     "output_type": "stream",
     "text": [
      "Microsoft SQL Server 2019 (RTM) - 15.0.2000.5 (X64) \n",
      "\tSep 24 2019 13:48:23 \n",
      "\tCopyright (C) 2019 Microsoft Corporation\n",
      "\tExpress Edition (64-bit) on Windows Server 2016 Standard 10.0 <X64> (Build 14393: ) (Hypervisor)\n",
      "\n"
     ]
    }
   ],
   "source": [
    "cursor = cnxn.cursor()\n",
    "# Sample select query \n",
    "cursor.execute(\"SELECT @@version;\") \n",
    "row = cursor.fetchone() \n",
    "while row: \n",
    "    print(row[0]) \n",
    "    row = cursor.fetchone()"
   ]
  },
  {
   "cell_type": "code",
   "execution_count": 9,
   "id": "9b23c8f3",
   "metadata": {
    "ExecuteTime": {
     "end_time": "2022-05-04T13:51:11.082391Z",
     "start_time": "2022-05-04T13:03:10.878751Z"
    }
   },
   "outputs": [],
   "source": [
    "query_ecm_full = '''\n",
    "select *,\n",
    "\n",
    "CASE\n",
    "WHEN Vendedor = 'AMERICANAS' THEN 'B2W'\n",
    "WHEN Vendedor = 'SHOPTIME' THEN 'B2W'\n",
    "WHEN Vendedor = 'SUBMARINO' THEN 'B2W'\n",
    "WHEN Vendedor = 'AMAZON' THEN 'AMAZON'\n",
    "WHEN Vendedor = 'CARREFOUR' THEN 'MKTPLACE'\n",
    "WHEN Vendedor = 'CONECTA_LA' THEN 'CONECTA LA'\n",
    "WHEN Vendedor = 'KABUM' THEN 'KABUM'\n",
    "WHEN Vendedor = 'LOJA_VIVO' THEN 'MKTPLACE'\n",
    "WHEN Vendedor = 'MADEIRA MADEIRA' THEN 'MKTPLACE'\n",
    "WHEN Vendedor = 'NOVO MUNDO' THEN 'MKTPLACE'\n",
    "WHEN Vendedor = 'OLIST' THEN 'OLIST'\n",
    "WHEN Vendedor = 'RAPPI' THEN 'MKTPLACE'\n",
    "WHEN Vendedor = 'SHOPEE' THEN 'SHOPEE'\n",
    "WHEN Vendedor = 'VIA VAREJO (CNOVA)' THEN 'VIA VAREJO (CNOVA)'\n",
    "WHEN Vendedor = 'ECM EMPRESAS' THEN 'ECM EMPRESAS'\n",
    "WHEN Vendedor = 'KAZUK' THEN 'KAZUK'\n",
    "WHEN Vendedor = 'KZK ML' THEN 'KAZUK'\n",
    "WHEN Vendedor = 'MAGAZINE LUIZA' THEN 'MAGALU'\n",
    "WHEN Vendedor = 'MERCADO LIVRE' THEN 'MERCADO LIVRE'\n",
    "WHEN Vendedor = 'ML FULL' THEN 'MERCADO LIVRE FULL'\n",
    "WHEN Vendedor = 'BACKUP' THEN 'OUTROS'\n",
    "WHEN Vendedor = 'CD PRESENCIAL' THEN 'ESPACO ECMSCREEN'\n",
    "WHEN Vendedor = 'INDICAÇÃO' THEN 'OUTROS'\n",
    "WHEN Vendedor = 'ALICE LEAL' THEN 'REVENDA'\n",
    "WHEN Vendedor = 'ALINE DIAS' THEN 'REVENDA'\n",
    "WHEN Vendedor = 'BRUNO T' THEN 'REVENDA'\n",
    "WHEN Vendedor = 'FERNANDO M' THEN 'REVENDA'\n",
    "WHEN Vendedor = 'FLAVIO' THEN 'REVENDA'\n",
    "WHEN Vendedor = 'JOSIANE' THEN 'REVENDA'\n",
    "WHEN Vendedor = 'LEANDRO' THEN 'REVENDA'\n",
    "WHEN Vendedor = 'WESLEY' THEN 'REVENDA'\n",
    "WHEN Vendedor = 'REENVIO' THEN 'RMA'\n",
    "WHEN Vendedor = 'RMA' THEN 'RMA'\n",
    "WHEN Vendedor = 'MAGENTO' THEN 'MAGENTO'\n",
    "WHEN Vendedor = 'PJ SITE' THEN 'SITE'\n",
    "WHEN Vendedor = 'REVENDA SITE' THEN 'SITE'\n",
    "WHEN Vendedor = 'SITE' THEN 'SITE'\n",
    "END as 'MÉDIO_CANAL'\n",
    "\n",
    "\n",
    "from base_hist_custo_fixo \n",
    "\n",
    "'''\n",
    "df_hist = pd.read_sql_query(query_ecm_full, cnxn)"
   ]
  },
  {
   "cell_type": "markdown",
   "id": "7db5683a",
   "metadata": {},
   "source": [
    "# Criando DF com informações válidas"
   ]
  },
  {
   "cell_type": "code",
   "execution_count": 10,
   "id": "b84c8768",
   "metadata": {
    "ExecuteTime": {
     "end_time": "2022-05-04T13:51:37.668453Z",
     "start_time": "2022-05-04T13:51:34.611838Z"
    }
   },
   "outputs": [],
   "source": [
    "mask_dev = df_hist['Devolução'] == 0\n",
    "ecm_full = df_hist[mask_dev]\n",
    "\n",
    "mask_tipo = ecm_full['Tipo'] == 'Real'\n",
    "ecm_full = ecm_full[mask_tipo].reset_index()\n",
    "\n",
    "ecm_full = ecm_full.sort_values(by = 'Data Emissão').reset_index()"
   ]
  },
  {
   "cell_type": "markdown",
   "id": "fd88c06b",
   "metadata": {
    "ExecuteTime": {
     "end_time": "2022-05-06T15:56:22.521884Z",
     "start_time": "2022-05-06T15:56:22.503348Z"
    }
   },
   "source": [
    "# Criando DF para análise dos dados:\n",
    "## DF criado:\n",
    "    - ecm_vendas = todas as vendas da empresa\n",
    "    - vends_ontem = df com as vendas realizadas ontem (segunda-feira)\n",
    "    - relatorio_segunda = relatório final. Uma visualização do relatório está disponibilizada no final do código"
   ]
  },
  {
   "cell_type": "code",
   "execution_count": 635,
   "id": "b459ebc9",
   "metadata": {
    "ExecuteTime": {
     "end_time": "2022-05-06T15:57:23.336515Z",
     "start_time": "2022-05-06T15:57:17.403388Z"
    }
   },
   "outputs": [],
   "source": [
    "# Selecionado as colunas que vou utilizar da base de dados\n",
    "ecm_vendas = ecm_full[['Tipo', 'Data Emissão',\n",
    "                       'MÉDIO_CANAL', 'Código', 'Volume / Mês', 'Vr Unitário', 'Margem Contribuição Sem Imposto (R$)']]\n",
    "\n",
    "# Na coluna tipo, existem pedidos de teste para testar o sistema. Vou filtrar apenas para os pedidos reais\n",
    "mask_tipo = ecm_full['Tipo'] == 'Real'\n",
    "ecm_vendas = ecm_vendas[mask_tipo]\n",
    "# Transformando o preço em float\n",
    "ecm_vendas['Vr Unitário'] = ecm_vendas['Vr Unitário'].map(float)\n",
    "# Mudando o  nome da data do pedido\n",
    "ecm_vendas = ecm_vendas.rename(columns={'Data Emissão' : 'data'})\n",
    "# dropando a coluna Tipo\n",
    "ecm_vendas = ecm_vendas.drop(columns = ['Tipo'])\n",
    "\n",
    "# Colocando a coluna de data apenas para data, sem horário. Para evitar problemas mais para frente\n",
    "ecm_vendas['data'] = [datetime.date(data) for data in ecm_vendas['data']]"
   ]
  },
  {
   "cell_type": "code",
   "execution_count": 646,
   "id": "af2ac9a2",
   "metadata": {
    "ExecuteTime": {
     "end_time": "2022-05-06T16:02:39.821159Z",
     "start_time": "2022-05-06T16:02:39.619365Z"
    }
   },
   "outputs": [
    {
     "name": "stderr",
     "output_type": "stream",
     "text": [
      "<ipython-input-646-56a7488aeea2>:11: SettingWithCopyWarning: \n",
      "A value is trying to be set on a copy of a slice from a DataFrame.\n",
      "Try using .loc[row_indexer,col_indexer] = value instead\n",
      "\n",
      "See the caveats in the documentation: https://pandas.pydata.org/pandas-docs/stable/user_guide/indexing.html#returning-a-view-versus-a-copy\n",
      "  df_ontem['Margem Contribuição Sem Imposto (R$)'] = df_ontem['Margem Contribuição Sem Imposto (R$)'].map(float)\n",
      "<ipython-input-646-56a7488aeea2>:42: SettingWithCopyWarning: \n",
      "A value is trying to be set on a copy of a slice from a DataFrame.\n",
      "Try using .loc[row_indexer,col_indexer] = value instead\n",
      "\n",
      "See the caveats in the documentation: https://pandas.pydata.org/pandas-docs/stable/user_guide/indexing.html#returning-a-view-versus-a-copy\n",
      "  df_1s['Margem Contribuição Sem Imposto (R$)'] = df_1s['Margem Contribuição Sem Imposto (R$)'].map(float)\n",
      "<ipython-input-646-56a7488aeea2>:43: SettingWithCopyWarning: \n",
      "A value is trying to be set on a copy of a slice from a DataFrame.\n",
      "Try using .loc[row_indexer,col_indexer] = value instead\n",
      "\n",
      "See the caveats in the documentation: https://pandas.pydata.org/pandas-docs/stable/user_guide/indexing.html#returning-a-view-versus-a-copy\n",
      "  df_2s['Margem Contribuição Sem Imposto (R$)'] = df_2s['Margem Contribuição Sem Imposto (R$)'].map(float)\n",
      "<ipython-input-646-56a7488aeea2>:44: SettingWithCopyWarning: \n",
      "A value is trying to be set on a copy of a slice from a DataFrame.\n",
      "Try using .loc[row_indexer,col_indexer] = value instead\n",
      "\n",
      "See the caveats in the documentation: https://pandas.pydata.org/pandas-docs/stable/user_guide/indexing.html#returning-a-view-versus-a-copy\n",
      "  df_3s['Margem Contribuição Sem Imposto (R$)'] = df_3s['Margem Contribuição Sem Imposto (R$)'].map(float)\n"
     ]
    }
   ],
   "source": [
    "# Criando um DF com as informações de ontem\n",
    "# estou usando uma terça-feira aleatória para fazer o modelo\n",
    "hoje = date(2022, 4, 26)\n",
    "# hoje = datetime.today()\n",
    "delta = timedelta(days = 1)\n",
    "ontem = hoje - delta\n",
    "#ontem = datetime.date(ontem)\n",
    "mask_ontem = ecm_vendas['data'] == ontem\n",
    "df_ontem = ecm_vendas[mask_ontem]\n",
    "\n",
    "# Transformando a margem de contribuição em float\n",
    "df_ontem['Margem Contribuição Sem Imposto (R$)'] = df_ontem['Margem Contribuição Sem Imposto (R$)'].map(float)\n",
    "\n",
    "# Agrupando as vendas ontem por SKU e por canal de venda:\n",
    "    # total de vendas ontem\n",
    "    # média de preço ontem\n",
    "    # Margem de contribuição total de ontem\n",
    "vendas_ontem = df_ontem.groupby(by = ['MÉDIO_CANAL', 'Código'], as_index = False).agg(\n",
    "    vendas_ontem = pd.NamedAgg(column = 'Volume / Mês', aggfunc = 'sum'),\n",
    "    preço_unid_ontem = pd.NamedAgg(column = 'Vr Unitário', aggfunc = 'mean'),\n",
    "    Total_MC_ontem = pd.NamedAgg(column = 'Margem Contribuição Sem Imposto (R$)', aggfunc = 'sum'))\n",
    "\n",
    "# Replicando o que fiz acima para 1, 2 e 3 segundas antes\n",
    "    # Criando DF para 1 segunda antes\n",
    "delta_1s = timedelta(days = 8)\n",
    "delta_1s = hoje - delta_1s\n",
    "mask_1s = ecm_vendas['data'] == delta_1s\n",
    "df_1s = ecm_vendas[mask_1s]\n",
    "\n",
    "    # Criando DF para 2 segundas antes\n",
    "delta_2s = timedelta(days = 15)\n",
    "delta_2s = hoje - delta_2s\n",
    "mask_2s = ecm_vendas['data'] == delta_2s\n",
    "df_2s = ecm_vendas[mask_2s]\n",
    "\n",
    " # Criando DF para 3 segundas antes\n",
    "delta_3s = timedelta(days = 22)\n",
    "delta_3s = hoje - delta_3s\n",
    "mask_3s = ecm_vendas['data'] == delta_3s\n",
    "df_3s = ecm_vendas[mask_3s]\n",
    "\n",
    "# Transformando margem de contribuição em float\n",
    "df_1s['Margem Contribuição Sem Imposto (R$)'] = df_1s['Margem Contribuição Sem Imposto (R$)'].map(float)\n",
    "df_2s['Margem Contribuição Sem Imposto (R$)'] = df_2s['Margem Contribuição Sem Imposto (R$)'].map(float)\n",
    "df_3s['Margem Contribuição Sem Imposto (R$)'] = df_3s['Margem Contribuição Sem Imposto (R$)'].map(float)\n",
    "\n",
    "# Agrupando as vendas de 1 segunda por SKU e por canal de venda:\n",
    "    # total de vendas \n",
    "    # média de preço \n",
    "    # Margem de contribuição total \n",
    "vendas_1s = df_1s.groupby(by = ['MÉDIO_CANAL', 'Código'], as_index = False).agg(\n",
    "    vendas_1s = pd.NamedAgg(column = 'Volume / Mês', aggfunc = 'sum'),\n",
    "    preço_unid_1s = pd.NamedAgg(column = 'Vr Unitário', aggfunc = 'mean'),\n",
    "    Total_MC_1s = pd.NamedAgg(column = 'Margem Contribuição Sem Imposto (R$)', aggfunc = 'sum'))\n",
    "\n",
    "# Agrupando as vendas de 2 segundas atrás por SKU e por canal de venda:\n",
    "    # total de vendas \n",
    "    # média de preço \n",
    "    # Margem de contribuição total\n",
    "vendas_2s = df_2s.groupby(by = ['MÉDIO_CANAL', 'Código'], as_index = False).agg(\n",
    "    vendas_2s = pd.NamedAgg(column = 'Volume / Mês', aggfunc = 'sum'),\n",
    "    preço_unid_2s = pd.NamedAgg(column = 'Vr Unitário', aggfunc = 'mean'),\n",
    "    Total_MC_2s = pd.NamedAgg(column = 'Margem Contribuição Sem Imposto (R$)', aggfunc = 'sum'))\n",
    "\n",
    "# Agrupando as vendas de 3 segundas atrás por SKU e por canal de venda:\n",
    "    # total de vendas \n",
    "    # média de preço \n",
    "    # Margem de contribuição total\n",
    "vendas_3s = df_3s.groupby(by = ['MÉDIO_CANAL', 'Código'], as_index = False).agg(\n",
    "    vendas_3s = pd.NamedAgg(column = 'Volume / Mês', aggfunc = 'sum'),\n",
    "    preço_unid_3s = pd.NamedAgg(column = 'Vr Unitário', aggfunc = 'mean'),\n",
    "    Total_MC_3s = pd.NamedAgg(column = 'Margem Contribuição Sem Imposto (R$)', aggfunc = 'sum'))\n",
    "\n",
    "# Utilizando merge para agrupadar todas as informações em um único DF\n",
    "t = vendas_ontem.merge(vendas_1s, on = ['MÉDIO_CANAL', 'Código'], how = 'left')\n",
    "t1 = t.merge(vendas_2s, on = ['MÉDIO_CANAL', 'Código'], how = 'left')\n",
    "t2 = t1.merge(vendas_3s, on = ['MÉDIO_CANAL', 'Código'], how = 'left')\n",
    "\n",
    "# Criando o relatório das segundas em uma ordem que facilite a visualização dos dados:\n",
    "relatorio_segunda = pd.DataFrame({'Canal' : t2['MÉDIO_CANAL'], 'Código' : t2['Código'],\n",
    "                                  'Vendas Ontem' : t2['vendas_ontem'], \n",
    "                                  'Vendas 1seg' : t2['vendas_1s'], \n",
    "                                  'Vendas 2seg' : t2['vendas_2s'],\n",
    "                                  'Vendas 3seg' : t2['vendas_3s'],\n",
    "                                  'Preço Ontem' : t2['preço_unid_ontem'],                                  \n",
    "                                  'Preço 1seg' : t2['preço_unid_1s'],\n",
    "                                  'Preço 2seg' : t2['preço_unid_1s'], \n",
    "                                  'Preço 3seg' : t2['preço_unid_3s'],\n",
    "                                  'MC Ontem' : t2['Total_MC_ontem'],\n",
    "                                  'MC 1seg' : t2['Total_MC_1s'],\n",
    "                                  'MC 2seg' : t2['Total_MC_2s'],\n",
    "                                  'MC 3seg' : t2['Total_MC_3s']})\n",
    "\n",
    "# zerando os valores com NA no relatório\n",
    "relatorio_segunda = relatorio_segunda.fillna(0)\n",
    "\n",
    "# Ordenar pelos produtos que tiveram maios margem de contribuição negativa para análise mais urgente\n",
    "relatorio_segunda['Diferença MC (Ontem / 1seg)'] =  relatorio_segunda['MC Ontem'] - relatorio_segunda['MC 1seg']\n",
    "relatorio_segunda = relatorio_segunda.sort_values(by = 'Diferença MC (Ontem / 1seg)')\n",
    "\n",
    "# Arrumando a visualização do relatório\n",
    "relatorio_segunda['Vendas 1seg'] = relatorio_segunda['Vendas 1seg'].map(int)\n",
    "relatorio_segunda['Vendas 2seg'] = relatorio_segunda['Vendas 2seg'].map(int)\n",
    "relatorio_segunda['Vendas 3seg'] = relatorio_segunda['Vendas 3seg'].map(int)\n",
    "relatorio_segunda['Vendas Ontem'] = relatorio_segunda['Vendas Ontem'].map(int)\n",
    "relatorio_segunda['Preço Ontem'] = relatorio_segunda['Preço Ontem'].round(2)\n",
    "relatorio_segunda['Preço 1seg'] = relatorio_segunda['Preço 1seg'].round(2)\n",
    "relatorio_segunda['Preço 2seg'] = relatorio_segunda['Preço 2seg'].round(2)\n",
    "relatorio_segunda['Preço 3seg'] = relatorio_segunda['Preço 3seg'].round(2)"
   ]
  },
  {
   "cell_type": "code",
   "execution_count": 647,
   "id": "6a64d9bf",
   "metadata": {
    "ExecuteTime": {
     "end_time": "2022-05-06T16:02:48.233613Z",
     "start_time": "2022-05-06T16:02:48.192725Z"
    }
   },
   "outputs": [
    {
     "data": {
      "text/html": [
       "<div>\n",
       "<style scoped>\n",
       "    .dataframe tbody tr th:only-of-type {\n",
       "        vertical-align: middle;\n",
       "    }\n",
       "\n",
       "    .dataframe tbody tr th {\n",
       "        vertical-align: top;\n",
       "    }\n",
       "\n",
       "    .dataframe thead th {\n",
       "        text-align: right;\n",
       "    }\n",
       "</style>\n",
       "<table border=\"1\" class=\"dataframe\">\n",
       "  <thead>\n",
       "    <tr style=\"text-align: right;\">\n",
       "      <th></th>\n",
       "      <th>Canal</th>\n",
       "      <th>Código</th>\n",
       "      <th>Vendas Ontem</th>\n",
       "      <th>Vendas 1seg</th>\n",
       "      <th>Vendas 2seg</th>\n",
       "      <th>Vendas 3seg</th>\n",
       "      <th>Preço Ontem</th>\n",
       "      <th>Preço 1seg</th>\n",
       "      <th>Preço 2seg</th>\n",
       "      <th>Preço 3seg</th>\n",
       "      <th>MC Ontem</th>\n",
       "      <th>MC 1seg</th>\n",
       "      <th>MC 2seg</th>\n",
       "      <th>MC 3seg</th>\n",
       "      <th>Diferença MC (Ontem / 1seg)</th>\n",
       "    </tr>\n",
       "  </thead>\n",
       "  <tbody>\n",
       "    <tr>\n",
       "      <th>178</th>\n",
       "      <td>MERCADO LIVRE FULL</td>\n",
       "      <td>121465</td>\n",
       "      <td>2</td>\n",
       "      <td>12</td>\n",
       "      <td>9</td>\n",
       "      <td>8</td>\n",
       "      <td>703.14</td>\n",
       "      <td>742.72</td>\n",
       "      <td>742.72</td>\n",
       "      <td>738.71</td>\n",
       "      <td>290.84</td>\n",
       "      <td>2156.88</td>\n",
       "      <td>1777.28</td>\n",
       "      <td>1459.98</td>\n",
       "      <td>-1866.04</td>\n",
       "    </tr>\n",
       "    <tr>\n",
       "      <th>317</th>\n",
       "      <td>SITE</td>\n",
       "      <td>100763</td>\n",
       "      <td>1</td>\n",
       "      <td>9</td>\n",
       "      <td>3</td>\n",
       "      <td>5</td>\n",
       "      <td>258.95</td>\n",
       "      <td>258.95</td>\n",
       "      <td>258.95</td>\n",
       "      <td>258.95</td>\n",
       "      <td>92.67</td>\n",
       "      <td>900.58</td>\n",
       "      <td>256.33</td>\n",
       "      <td>478.89</td>\n",
       "      <td>-807.91</td>\n",
       "    </tr>\n",
       "    <tr>\n",
       "      <th>15</th>\n",
       "      <td>B2W</td>\n",
       "      <td>100763</td>\n",
       "      <td>3</td>\n",
       "      <td>12</td>\n",
       "      <td>11</td>\n",
       "      <td>9</td>\n",
       "      <td>289.48</td>\n",
       "      <td>278.20</td>\n",
       "      <td>278.20</td>\n",
       "      <td>278.20</td>\n",
       "      <td>237.74</td>\n",
       "      <td>800.32</td>\n",
       "      <td>749.45</td>\n",
       "      <td>546.37</td>\n",
       "      <td>-562.58</td>\n",
       "    </tr>\n",
       "    <tr>\n",
       "      <th>162</th>\n",
       "      <td>MERCADO LIVRE FULL</td>\n",
       "      <td>101000</td>\n",
       "      <td>10</td>\n",
       "      <td>23</td>\n",
       "      <td>15</td>\n",
       "      <td>7</td>\n",
       "      <td>78.57</td>\n",
       "      <td>78.57</td>\n",
       "      <td>78.57</td>\n",
       "      <td>78.57</td>\n",
       "      <td>176.31</td>\n",
       "      <td>556.41</td>\n",
       "      <td>278.31</td>\n",
       "      <td>130.01</td>\n",
       "      <td>-380.10</td>\n",
       "    </tr>\n",
       "    <tr>\n",
       "      <th>90</th>\n",
       "      <td>MERCADO LIVRE</td>\n",
       "      <td>100588</td>\n",
       "      <td>3</td>\n",
       "      <td>23</td>\n",
       "      <td>9</td>\n",
       "      <td>8</td>\n",
       "      <td>184.29</td>\n",
       "      <td>159.40</td>\n",
       "      <td>159.40</td>\n",
       "      <td>184.29</td>\n",
       "      <td>112.74</td>\n",
       "      <td>475.83</td>\n",
       "      <td>178.09</td>\n",
       "      <td>141.87</td>\n",
       "      <td>-363.09</td>\n",
       "    </tr>\n",
       "    <tr>\n",
       "      <th>...</th>\n",
       "      <td>...</td>\n",
       "      <td>...</td>\n",
       "      <td>...</td>\n",
       "      <td>...</td>\n",
       "      <td>...</td>\n",
       "      <td>...</td>\n",
       "      <td>...</td>\n",
       "      <td>...</td>\n",
       "      <td>...</td>\n",
       "      <td>...</td>\n",
       "      <td>...</td>\n",
       "      <td>...</td>\n",
       "      <td>...</td>\n",
       "      <td>...</td>\n",
       "      <td>...</td>\n",
       "    </tr>\n",
       "    <tr>\n",
       "      <th>74</th>\n",
       "      <td>MERCADO LIVRE</td>\n",
       "      <td>100059</td>\n",
       "      <td>1</td>\n",
       "      <td>19</td>\n",
       "      <td>2</td>\n",
       "      <td>1</td>\n",
       "      <td>447.17</td>\n",
       "      <td>471.40</td>\n",
       "      <td>471.40</td>\n",
       "      <td>677.36</td>\n",
       "      <td>8.21</td>\n",
       "      <td>-366.80</td>\n",
       "      <td>221.09</td>\n",
       "      <td>109.43</td>\n",
       "      <td>375.01</td>\n",
       "    </tr>\n",
       "    <tr>\n",
       "      <th>237</th>\n",
       "      <td>RMA</td>\n",
       "      <td>100097</td>\n",
       "      <td>2</td>\n",
       "      <td>0</td>\n",
       "      <td>0</td>\n",
       "      <td>1</td>\n",
       "      <td>649.13</td>\n",
       "      <td>0.00</td>\n",
       "      <td>0.00</td>\n",
       "      <td>754.29</td>\n",
       "      <td>430.48</td>\n",
       "      <td>0.00</td>\n",
       "      <td>0.00</td>\n",
       "      <td>320.21</td>\n",
       "      <td>430.48</td>\n",
       "    </tr>\n",
       "    <tr>\n",
       "      <th>128</th>\n",
       "      <td>MERCADO LIVRE FULL</td>\n",
       "      <td>100059</td>\n",
       "      <td>7</td>\n",
       "      <td>8</td>\n",
       "      <td>2</td>\n",
       "      <td>7</td>\n",
       "      <td>544.82</td>\n",
       "      <td>447.17</td>\n",
       "      <td>447.17</td>\n",
       "      <td>609.12</td>\n",
       "      <td>223.83</td>\n",
       "      <td>-224.42</td>\n",
       "      <td>252.72</td>\n",
       "      <td>466.40</td>\n",
       "      <td>448.25</td>\n",
       "    </tr>\n",
       "    <tr>\n",
       "      <th>188</th>\n",
       "      <td>REVENDA</td>\n",
       "      <td>100215</td>\n",
       "      <td>3</td>\n",
       "      <td>0</td>\n",
       "      <td>1</td>\n",
       "      <td>10</td>\n",
       "      <td>682.15</td>\n",
       "      <td>0.00</td>\n",
       "      <td>0.00</td>\n",
       "      <td>716.09</td>\n",
       "      <td>526.67</td>\n",
       "      <td>0.00</td>\n",
       "      <td>186.79</td>\n",
       "      <td>1482.01</td>\n",
       "      <td>526.67</td>\n",
       "    </tr>\n",
       "    <tr>\n",
       "      <th>220</th>\n",
       "      <td>REVENDA</td>\n",
       "      <td>101262</td>\n",
       "      <td>12</td>\n",
       "      <td>4</td>\n",
       "      <td>13</td>\n",
       "      <td>2</td>\n",
       "      <td>414.26</td>\n",
       "      <td>414.27</td>\n",
       "      <td>414.27</td>\n",
       "      <td>398.92</td>\n",
       "      <td>2163.18</td>\n",
       "      <td>702.23</td>\n",
       "      <td>2697.75</td>\n",
       "      <td>406.87</td>\n",
       "      <td>1460.95</td>\n",
       "    </tr>\n",
       "  </tbody>\n",
       "</table>\n",
       "<p>343 rows × 15 columns</p>\n",
       "</div>"
      ],
      "text/plain": [
       "                  Canal  Código  Vendas Ontem  Vendas 1seg  Vendas 2seg  \\\n",
       "178  MERCADO LIVRE FULL  121465             2           12            9   \n",
       "317                SITE  100763             1            9            3   \n",
       "15                  B2W  100763             3           12           11   \n",
       "162  MERCADO LIVRE FULL  101000            10           23           15   \n",
       "90        MERCADO LIVRE  100588             3           23            9   \n",
       "..                  ...     ...           ...          ...          ...   \n",
       "74        MERCADO LIVRE  100059             1           19            2   \n",
       "237                 RMA  100097             2            0            0   \n",
       "128  MERCADO LIVRE FULL  100059             7            8            2   \n",
       "188             REVENDA  100215             3            0            1   \n",
       "220             REVENDA  101262            12            4           13   \n",
       "\n",
       "     Vendas 3seg  Preço Ontem  Preço 1seg  Preço 2seg  Preço 3seg  MC Ontem  \\\n",
       "178            8       703.14      742.72      742.72      738.71    290.84   \n",
       "317            5       258.95      258.95      258.95      258.95     92.67   \n",
       "15             9       289.48      278.20      278.20      278.20    237.74   \n",
       "162            7        78.57       78.57       78.57       78.57    176.31   \n",
       "90             8       184.29      159.40      159.40      184.29    112.74   \n",
       "..           ...          ...         ...         ...         ...       ...   \n",
       "74             1       447.17      471.40      471.40      677.36      8.21   \n",
       "237            1       649.13        0.00        0.00      754.29    430.48   \n",
       "128            7       544.82      447.17      447.17      609.12    223.83   \n",
       "188           10       682.15        0.00        0.00      716.09    526.67   \n",
       "220            2       414.26      414.27      414.27      398.92   2163.18   \n",
       "\n",
       "     MC 1seg  MC 2seg  MC 3seg  Diferença MC (Ontem / 1seg)  \n",
       "178  2156.88  1777.28  1459.98                     -1866.04  \n",
       "317   900.58   256.33   478.89                      -807.91  \n",
       "15    800.32   749.45   546.37                      -562.58  \n",
       "162   556.41   278.31   130.01                      -380.10  \n",
       "90    475.83   178.09   141.87                      -363.09  \n",
       "..       ...      ...      ...                          ...  \n",
       "74   -366.80   221.09   109.43                       375.01  \n",
       "237     0.00     0.00   320.21                       430.48  \n",
       "128  -224.42   252.72   466.40                       448.25  \n",
       "188     0.00   186.79  1482.01                       526.67  \n",
       "220   702.23  2697.75   406.87                      1460.95  \n",
       "\n",
       "[343 rows x 15 columns]"
      ]
     },
     "execution_count": 647,
     "metadata": {},
     "output_type": "execute_result"
    }
   ],
   "source": [
    "relatorio_segunda"
   ]
  },
  {
   "cell_type": "markdown",
   "id": "d83b8322",
   "metadata": {},
   "source": [
    "# Criando DF com colunas de interesse"
   ]
  },
  {
   "cell_type": "code",
   "execution_count": 677,
   "id": "65e5bd82",
   "metadata": {
    "ExecuteTime": {
     "end_time": "2022-05-06T16:18:10.773894Z",
     "start_time": "2022-05-06T16:18:10.684452Z"
    }
   },
   "outputs": [],
   "source": [
    "df_mod = ecm_full[[ 'Data Emissão', 'MÉDIO_CANAL', 'Código', 'Dia', 'Mês', 'Ano', 'Categoria', \n",
    "                   'Vr Unitário', 'Volume / Mês']]"
   ]
  },
  {
   "cell_type": "markdown",
   "id": "0fb7d50e",
   "metadata": {},
   "source": [
    "## Criando colunas de data"
   ]
  },
  {
   "cell_type": "code",
   "execution_count": 678,
   "id": "b32f236a",
   "metadata": {
    "ExecuteTime": {
     "end_time": "2022-05-06T16:18:19.608389Z",
     "start_time": "2022-05-06T16:18:13.428306Z"
    }
   },
   "outputs": [
    {
     "name": "stderr",
     "output_type": "stream",
     "text": [
      "<ipython-input-678-7665dd17e5f8>:2: SettingWithCopyWarning: \n",
      "A value is trying to be set on a copy of a slice from a DataFrame.\n",
      "Try using .loc[row_indexer,col_indexer] = value instead\n",
      "\n",
      "See the caveats in the documentation: https://pandas.pydata.org/pandas-docs/stable/user_guide/indexing.html#returning-a-view-versus-a-copy\n",
      "  df_mod['semana'] = df_mod['Data Emissão'].apply(lambda x: x.strftime(\"%U\"))\n",
      "<ipython-input-678-7665dd17e5f8>:5: SettingWithCopyWarning: \n",
      "A value is trying to be set on a copy of a slice from a DataFrame.\n",
      "Try using .loc[row_indexer,col_indexer] = value instead\n",
      "\n",
      "See the caveats in the documentation: https://pandas.pydata.org/pandas-docs/stable/user_guide/indexing.html#returning-a-view-versus-a-copy\n",
      "  df_mod['weekday'] = df_mod['Data Emissão'].apply(lambda x: x.weekday())\n"
     ]
    }
   ],
   "source": [
    "# Criando coluna com a semana do ano\n",
    "df_mod['semana'] = df_mod['Data Emissão'].apply(lambda x: x.strftime(\"%U\"))\n",
    "\n",
    "# Criando a coluna com o dia da semana: 0 = segunda / 6 = domingo\n",
    "df_mod['weekday'] = df_mod['Data Emissão'].apply(lambda x: x.weekday())"
   ]
  },
  {
   "cell_type": "code",
   "execution_count": 679,
   "id": "69b23539",
   "metadata": {
    "ExecuteTime": {
     "end_time": "2022-05-06T16:18:19.640271Z",
     "start_time": "2022-05-06T16:18:19.611349Z"
    }
   },
   "outputs": [
    {
     "name": "stderr",
     "output_type": "stream",
     "text": [
      "<ipython-input-679-d5916e924b8b>:3: SettingWithCopyWarning: \n",
      "A value is trying to be set on a copy of a slice from a DataFrame.\n",
      "Try using .loc[row_indexer,col_indexer] = value instead\n",
      "\n",
      "See the caveats in the documentation: https://pandas.pydata.org/pandas-docs/stable/user_guide/indexing.html#returning-a-view-versus-a-copy\n",
      "  df_mod['weekday'] = df_mod['weekday'].replace(5, 0)\n",
      "<ipython-input-679-d5916e924b8b>:4: SettingWithCopyWarning: \n",
      "A value is trying to be set on a copy of a slice from a DataFrame.\n",
      "Try using .loc[row_indexer,col_indexer] = value instead\n",
      "\n",
      "See the caveats in the documentation: https://pandas.pydata.org/pandas-docs/stable/user_guide/indexing.html#returning-a-view-versus-a-copy\n",
      "  df_mod['weekday'] = df_mod['weekday'].replace(6, 0)\n"
     ]
    }
   ],
   "source": [
    "# Os pedidos de sábado e domingo tem entrada no sistema na segunda.\n",
    "# Segundo os gestores, esses pedidos devem ser considerados como sendo na segunda-feira\n",
    "df_mod['weekday'] = df_mod['weekday'].replace(5, 0)\n",
    "df_mod['weekday'] = df_mod['weekday'].replace(6, 0)"
   ]
  },
  {
   "cell_type": "markdown",
   "id": "7df3de22",
   "metadata": {},
   "source": [
    "# Análise Exploratória de Dados"
   ]
  },
  {
   "cell_type": "markdown",
   "id": "5b5dffc8",
   "metadata": {
    "ExecuteTime": {
     "end_time": "2022-04-26T14:17:54.972673Z",
     "start_time": "2022-04-26T14:17:53.332346Z"
    }
   },
   "source": [
    "## Distribuição de PEDIDOS por dia da semana geral"
   ]
  },
  {
   "cell_type": "code",
   "execution_count": 14,
   "id": "ab4cd984",
   "metadata": {
    "ExecuteTime": {
     "end_time": "2022-05-04T13:52:07.350549Z",
     "start_time": "2022-05-04T13:52:05.296525Z"
    }
   },
   "outputs": [],
   "source": [
    "ecm_full['weekday'] = ecm_full['Data Emissão'].apply(lambda x: x.weekday())\n",
    "\n",
    "ecm_full['weekday'] = ecm_full['weekday'].replace(5, 0)\n",
    "ecm_full['weekday'] = ecm_full['weekday'].replace(6, 0)"
   ]
  },
  {
   "cell_type": "code",
   "execution_count": 15,
   "id": "feb6b379",
   "metadata": {
    "ExecuteTime": {
     "end_time": "2022-05-01T13:05:41.682043Z",
     "start_time": "2022-05-01T13:05:41.661637Z"
    }
   },
   "outputs": [
    {
     "name": "stdout",
     "output_type": "stream",
     "text": [
      "0    27.4%\n",
      "2    19.8%\n",
      "1    18.9%\n",
      "3    17.6%\n",
      "4    16.1%\n",
      "Name: weekday, dtype: object\n"
     ]
    }
   ],
   "source": [
    "print(f'''{ecm_full['weekday'].value_counts(normalize=True).map(\"{:.1%}\".format)}''')"
   ]
  },
  {
   "cell_type": "markdown",
   "id": "85c3a772",
   "metadata": {},
   "source": [
    "## Total de VOLUME por dia da semana geral"
   ]
  },
  {
   "cell_type": "code",
   "execution_count": 54,
   "id": "1014faf3",
   "metadata": {
    "ExecuteTime": {
     "end_time": "2022-04-26T15:29:01.103217Z",
     "start_time": "2022-04-26T15:29:01.082899Z"
    }
   },
   "outputs": [
    {
     "name": "stdout",
     "output_type": "stream",
     "text": [
      "0.28\n",
      "0.19\n",
      "0.19\n",
      "0.19\n",
      "0.16\n"
     ]
    }
   ],
   "source": [
    "# Percentual de volume de demanda por dia da semana\n",
    "total_vendas = df_mod.groupby(by = ['weekday'], as_index=False).agg(sum)\n",
    "total_vendas_weekday = total_vendas['Volume / Mês'].sum()\n",
    "\n",
    "for n in total_vendas['Volume / Mês']:\n",
    "    print(round(n / total_vendas_weekday, 2))"
   ]
  },
  {
   "cell_type": "markdown",
   "id": "3a5836d6",
   "metadata": {},
   "source": [
    "## Distribuição de PEDIDOS por dia da semana por canal"
   ]
  },
  {
   "cell_type": "code",
   "execution_count": null,
   "id": "7da97f17",
   "metadata": {
    "ExecuteTime": {
     "end_time": "2022-04-28T18:23:17.819327Z",
     "start_time": "2022-04-28T18:23:16.543145Z"
    }
   },
   "outputs": [],
   "source": [
    "# Em quais canais a Segunda-Feira é o principal dia de vendas?\n",
    "for i in df_mod['MÉDIO_CANAL'].unique():\n",
    "    print(f'''Canal: {i} \n",
    "{df_mod[df_mod['MÉDIO_CANAL'] == i]['weekday'].value_counts(normalize = True).map(\"{:.1%}\".format)}\n",
    "''')\n",
    "    \n",
    "# O output dessa célula foi oculto por conter informações da empresa"
   ]
  },
  {
   "cell_type": "markdown",
   "id": "7efca9bb",
   "metadata": {
    "ExecuteTime": {
     "end_time": "2022-04-26T15:34:07.467480Z",
     "start_time": "2022-04-26T15:34:07.289483Z"
    }
   },
   "source": [
    "## Distribuição de VOLUME por dia da semana por canal"
   ]
  },
  {
   "cell_type": "code",
   "execution_count": null,
   "id": "796137b6",
   "metadata": {
    "ExecuteTime": {
     "end_time": "2022-04-26T15:43:30.227904Z",
     "start_time": "2022-04-26T15:43:30.177563Z"
    }
   },
   "outputs": [],
   "source": [
    "# Agrupei o total de pedidos por canal e pelo dia da semana\n",
    "# Rodei um loop dentro de outro loop para calcular: total de volume por dia da semana dividido pelo total de volume de cada canal\n",
    "total_vendas_canal = df_mod.groupby(by = ['MÉDIO_CANAL', 'weekday'], as_index=False).agg(sum)\n",
    "\n",
    "for i in total_vendas_canal['MÉDIO_CANAL'].unique():\n",
    "    x = total_vendas_canal[total_vendas_canal['MÉDIO_CANAL'] == i]\n",
    "    x = x.sort_values(by = 'weekday')\n",
    "    soma_weekday = x['Volume / Mês'].sum()\n",
    "    for v in x['Volume / Mês']:\n",
    "        perc = v / soma_weekday\n",
    "        print(f'''Canal = {i}, {perc} ''')\n",
    "        \n",
    "# O output desse código foi oculto por conter informações da empresa"
   ]
  },
  {
   "cell_type": "markdown",
   "id": "dd9c5c7d",
   "metadata": {},
   "source": [
    "## Distribuição Estatística do Volume de Vendas"
   ]
  },
  {
   "cell_type": "code",
   "execution_count": null,
   "id": "47488031",
   "metadata": {
    "ExecuteTime": {
     "end_time": "2022-04-25T18:57:02.712142Z",
     "start_time": "2022-04-25T18:57:01.957078Z"
    }
   },
   "outputs": [],
   "source": [
    "# Média / Mediana / Desv. Padrão\n",
    "for i in df_mod['MÉDIO_CANAL'].unique():\n",
    "    print(f\"Canal: {i} - {df_mod[df_mod['MÉDIO_CANAL'] == i]['Volume / Mês'].describe(percentiles = [0.5, 0.997])}\")\n",
    "    \n",
    "# O output desse código foi oculto por conter informações da empresa"
   ]
  },
  {
   "cell_type": "markdown",
   "id": "a3ccab7f",
   "metadata": {},
   "source": [
    "# Conclusões das Análises de Distribuição\n",
    "---\n",
    "## Canais onde a Segunda-Feira não é o principal dia de PEDIDOS:\n",
    "    - REVENDA\n",
    "    - RMA\n",
    "    - OUTROS\n",
    "    - ECM EMPRESAS\n",
    "    - ESPAÇO ECM\n",
    "\n",
    "## Canais onde a Segunda-Feira não é o principal dia de VOLUME DE VENDAS:\n",
    "    - REVENDA\n",
    "    - RMA\n",
    "    - MAGENTO\n",
    "    - ECM EMPRESAS\n",
    "    - ESPAÇO ECM\n"
   ]
  },
  {
   "cell_type": "markdown",
   "id": "54deb2d0",
   "metadata": {},
   "source": [
    "# Feature Engineering"
   ]
  },
  {
   "cell_type": "markdown",
   "id": "941ff6a8",
   "metadata": {},
   "source": [
    "## Calculando o total de vendas de cada SKU por semana\n"
   ]
  },
  {
   "cell_type": "code",
   "execution_count": 681,
   "id": "beb473a9",
   "metadata": {
    "ExecuteTime": {
     "end_time": "2022-05-06T16:19:03.965244Z",
     "start_time": "2022-05-06T16:19:03.652911Z"
    }
   },
   "outputs": [],
   "source": [
    "# Somando as vendas de cada semana por ano. \n",
    "# Saber quantas vendas totais aquele código realizou na semana - Somando 'Volume / Mês'\n",
    "# Preço médio da segunda tirando a média do preço na vendas de cada SKU em cada canal\n",
    "df_f = df_mod[df_mod['weekday']==0].groupby(by = ['Data Emissão', 'Código', 'MÉDIO_CANAL', 'semana', 'Ano'], as_index = False).agg( \n",
    "    vendas_segunda = pd.NamedAgg(column = 'Volume / Mês', aggfunc = 'sum'),\n",
    "    R_segunda = pd.NamedAgg(column = 'Vr Unitário', aggfunc = 'mean'))    \n",
    "\n",
    "df_f['vendas_segunda'] = df_f['vendas_segunda'].map(int)\n",
    "df_f = df_f.rename(columns = {'R_segunda' : 'R$_segunda'})"
   ]
  },
  {
   "cell_type": "markdown",
   "id": "1c971104",
   "metadata": {},
   "source": [
    "## Definindo as semanas com feriado na segunda e/ou terça de cada ano\n",
    "\n",
    "##### Feriado em 2020\n",
    "    - semana 44 (só tenho dados a partir da semana 44)\n",
    "\n",
    "##### Feriados em 2021\n",
    "    - semana 07\n",
    "    - semana 36\n",
    "    - semana 41\n",
    "    - semana 44\n",
    "    - semana 46\n",
    "\n",
    "##### Feriados 2022\n",
    "    - semana 09\n",
    "    - semana 46"
   ]
  },
  {
   "cell_type": "code",
   "execution_count": 682,
   "id": "cbb7dae0",
   "metadata": {
    "ExecuteTime": {
     "end_time": "2022-05-06T16:19:06.851220Z",
     "start_time": "2022-05-06T16:19:06.785661Z"
    }
   },
   "outputs": [],
   "source": [
    "# coluna feriado indica se na semana foi feriado na segunda ou na terça: 0 = Não / 1 = Sim\n",
    "df_f['feriado'] = 0\n",
    "df_f.loc[(df_f['Ano'] == 2020) & (df_f['semana'] == '44'), 'feriado'] = 1\n",
    "\n",
    "df_f.loc[(df_f['Ano'] == 2021) & (df_f['semana'] == '07'), 'feriado'] = 1\n",
    "df_f.loc[(df_f['Ano'] == 2021) & (df_f['semana'] == '36'), 'feriado'] = 1\n",
    "df_f.loc[(df_f['Ano'] == 2021) & (df_f['semana'] == '41'), 'feriado'] = 1\n",
    "df_f.loc[(df_f['Ano'] == 2021) & (df_f['semana'] == '44'), 'feriado'] = 1\n",
    "df_f.loc[(df_f['Ano'] == 2021) & (df_f['semana'] == '46'), 'feriado'] = 1\n",
    "\n",
    "df_f.loc[(df_f['Ano'] == 2022) & (df_f['semana'] == '09'), 'feriado'] = 1\n",
    "df_f.loc[(df_f['Ano'] == 2022) & (df_f['semana'] == '46'), 'feriado'] = 1"
   ]
  },
  {
   "cell_type": "markdown",
   "id": "046c1686",
   "metadata": {
    "ExecuteTime": {
     "end_time": "2022-04-26T19:46:34.977343Z",
     "start_time": "2022-04-26T19:46:34.929146Z"
    }
   },
   "source": [
    "## Criando coluna para indicar qual semana do mês a venda foi feita\n",
    "    - posso criar uma fórmula para encontrar o mês, se o dia 1 de cada mês começar em uma quarta (2), subtrair 1 de cada semana daquele mês"
   ]
  },
  {
   "cell_type": "code",
   "execution_count": 684,
   "id": "a60d3ab9",
   "metadata": {
    "ExecuteTime": {
     "end_time": "2022-05-06T16:19:42.383845Z",
     "start_time": "2022-05-06T16:19:40.161565Z"
    }
   },
   "outputs": [],
   "source": [
    "# Agora fazer a fórmula que a menina passa no vídeo: \n",
    "# https://www.youtube.com/watch?v=uuPcSevjPyk&ab_channel=KarenAbecia-EuJuro%2CFunciona\n",
    "# Criar a coluna 'semana_do_mês' com esse valor! ihhhhhh\n",
    "\n",
    "# Criando coluna com o dia 1 do mês de cada pedido\n",
    "df_f['dia1_do_mês'] = [(data - (timedelta(data.date().day - 1))) for data in df_f['Data Emissão']]\n",
    "# Criando coluna com a semana do ano dia 1 daquele mês\n",
    "df_f['semana_ano_dia1'] = [x.strftime(\"%U\") for x in df_f['dia1_do_mês']]\n",
    "\n",
    "df_f['semana'] = df_f['semana'].map(int)\n",
    "df_f['semana_ano_dia1'] = df_f['semana_ano_dia1'].map(int)\n",
    "\n",
    "# qual dia da semana é o primeiro dia do mês?\n",
    "# Tratar dados onde o primeiro dia da semana é de quarta em diante\n",
    "df_f['weekday_dia1'] = df_f['dia1_do_mês'].apply(lambda x: x.weekday())\n",
    "\n",
    "# Considerar primeira semana do mês apenas quando o primeiro dia da semana for segunda ou terça\n",
    "# Caso não seja, desconsiderar a primeira semana e manter a semana 2 como a primeira semana útil de compras\n",
    "# Em resumo, estamos considerando que a primeira segunda ou terça de cada mês caracteriza a semana 1 do mês\n",
    "def func_semana_corrigida(col1, col2):\n",
    "    if col1 == 6:\n",
    "        return col2\n",
    "    elif col1 > 1:\n",
    "        return col2 - 1\n",
    "    else:\n",
    "        return col2\n",
    "\n",
    "df_f['semana_ano_corrigida'] = df_f.apply(lambda x: func_semana_corrigida(x.weekday_dia1, x.semana), axis = 1)\n",
    "\n",
    "# Agora vamos subtrair a semana_ano_corrigida, pela semana_no_dia1 e somar uma\n",
    "# Com essa fórmula chegaremos a semana do mês que as compras foram feitas.\n",
    "def func_semana(col1, col2):\n",
    "    return col1 - col2 + 1\n",
    "\n",
    "df_f['semana_mês'] = df_f.apply(lambda x: func_semana(x.semana_ano_corrigida, x.semana_ano_dia1), axis = 1)"
   ]
  },
  {
   "cell_type": "code",
   "execution_count": 685,
   "id": "79b71f17",
   "metadata": {
    "ExecuteTime": {
     "end_time": "2022-05-06T16:19:43.409454Z",
     "start_time": "2022-05-06T16:19:43.394492Z"
    }
   },
   "outputs": [],
   "source": [
    "df_f = df_f.drop(columns = ['dia1_do_mês', 'semana_ano_dia1', 'weekday_dia1', 'semana_ano_corrigida'])"
   ]
  },
  {
   "cell_type": "markdown",
   "id": "51562025",
   "metadata": {},
   "source": [
    "# Criando a coluna Mês"
   ]
  },
  {
   "cell_type": "code",
   "execution_count": 687,
   "id": "9e510d22",
   "metadata": {
    "ExecuteTime": {
     "end_time": "2022-05-06T16:19:56.882372Z",
     "start_time": "2022-05-06T16:19:56.758498Z"
    }
   },
   "outputs": [],
   "source": [
    "# Criando uma coluna com a data de acordo com o ano e a semana\n",
    "df_f['Mês'] = df_f['Data Emissão'].apply(lambda x: x.date().month)"
   ]
  },
  {
   "cell_type": "markdown",
   "id": "893164b1",
   "metadata": {},
   "source": [
    "# Criando a coluna de vendas na semana"
   ]
  },
  {
   "cell_type": "code",
   "execution_count": 689,
   "id": "7ef0805e",
   "metadata": {
    "ExecuteTime": {
     "end_time": "2022-05-06T16:20:15.103080Z",
     "start_time": "2022-05-06T16:20:14.818194Z"
    }
   },
   "outputs": [],
   "source": [
    "df_vendas_semana = df_mod.groupby(by = ['Código', 'MÉDIO_CANAL', 'Ano', 'semana'], as_index = False).agg(\n",
    "    vendas_semana = pd.NamedAgg(column = 'Volume / Mês', aggfunc = 'sum'))\n",
    "\n",
    "df_vendas_semana['semana'] = df_vendas_semana['semana'].map(int)"
   ]
  },
  {
   "cell_type": "code",
   "execution_count": 690,
   "id": "7242df46",
   "metadata": {
    "ExecuteTime": {
     "end_time": "2022-05-06T16:20:18.614076Z",
     "start_time": "2022-05-06T16:20:18.521795Z"
    }
   },
   "outputs": [],
   "source": [
    "df_f = df_f.merge(df_vendas_semana, on = ['Código', 'MÉDIO_CANAL', 'Ano', 'semana'], how='left').drop_duplicates()"
   ]
  },
  {
   "cell_type": "markdown",
   "id": "aa5fc44c",
   "metadata": {},
   "source": [
    "# Criando coluna com a participação da segunda-feira nas vendas da semana"
   ]
  },
  {
   "cell_type": "code",
   "execution_count": 693,
   "id": "48dcdb0b",
   "metadata": {
    "ExecuteTime": {
     "end_time": "2022-05-06T16:20:56.873698Z",
     "start_time": "2022-05-06T16:20:56.864636Z"
    }
   },
   "outputs": [],
   "source": [
    "df_f['part_seg_vendas'] = (df_f['vendas_segunda'] / df_f['vendas_semana']).round(2)"
   ]
  },
  {
   "cell_type": "markdown",
   "id": "5a7b5e57",
   "metadata": {},
   "source": [
    "# Criando o DF para o modelo de previsão\n",
    "##### se o que eu fiz acima piorar o modelo, é só tirar o 'volume_vendas' abaixo"
   ]
  },
  {
   "cell_type": "code",
   "execution_count": 696,
   "id": "dd0eab28",
   "metadata": {
    "ExecuteTime": {
     "end_time": "2022-05-06T16:21:24.873435Z",
     "start_time": "2022-05-06T16:21:24.835093Z"
    }
   },
   "outputs": [
    {
     "data": {
      "text/html": [
       "<div>\n",
       "<style scoped>\n",
       "    .dataframe tbody tr th:only-of-type {\n",
       "        vertical-align: middle;\n",
       "    }\n",
       "\n",
       "    .dataframe tbody tr th {\n",
       "        vertical-align: top;\n",
       "    }\n",
       "\n",
       "    .dataframe thead th {\n",
       "        text-align: right;\n",
       "    }\n",
       "</style>\n",
       "<table border=\"1\" class=\"dataframe\">\n",
       "  <thead>\n",
       "    <tr style=\"text-align: right;\">\n",
       "      <th></th>\n",
       "      <th>Data Emissão</th>\n",
       "      <th>Código</th>\n",
       "      <th>MÉDIO_CANAL</th>\n",
       "      <th>semana</th>\n",
       "      <th>Ano</th>\n",
       "      <th>vendas_segunda</th>\n",
       "      <th>R$_segunda</th>\n",
       "      <th>feriado</th>\n",
       "      <th>semana_mês</th>\n",
       "      <th>Mês</th>\n",
       "      <th>vendas_semana</th>\n",
       "      <th>part_seg_vendas</th>\n",
       "    </tr>\n",
       "  </thead>\n",
       "  <tbody>\n",
       "    <tr>\n",
       "      <th>0</th>\n",
       "      <td>2020-11-09</td>\n",
       "      <td>100013</td>\n",
       "      <td>MERCADO LIVRE</td>\n",
       "      <td>45</td>\n",
       "      <td>2020</td>\n",
       "      <td>2</td>\n",
       "      <td>274.60</td>\n",
       "      <td>0</td>\n",
       "      <td>2</td>\n",
       "      <td>11</td>\n",
       "      <td>5.0</td>\n",
       "      <td>0.40</td>\n",
       "    </tr>\n",
       "    <tr>\n",
       "      <th>1</th>\n",
       "      <td>2020-11-09</td>\n",
       "      <td>100013</td>\n",
       "      <td>MERCADO LIVRE FULL</td>\n",
       "      <td>45</td>\n",
       "      <td>2020</td>\n",
       "      <td>1</td>\n",
       "      <td>274.60</td>\n",
       "      <td>0</td>\n",
       "      <td>2</td>\n",
       "      <td>11</td>\n",
       "      <td>7.0</td>\n",
       "      <td>0.14</td>\n",
       "    </tr>\n",
       "    <tr>\n",
       "      <th>2</th>\n",
       "      <td>2020-11-09</td>\n",
       "      <td>100055</td>\n",
       "      <td>MERCADO LIVRE</td>\n",
       "      <td>45</td>\n",
       "      <td>2020</td>\n",
       "      <td>4</td>\n",
       "      <td>476.81</td>\n",
       "      <td>0</td>\n",
       "      <td>2</td>\n",
       "      <td>11</td>\n",
       "      <td>4.0</td>\n",
       "      <td>1.00</td>\n",
       "    </tr>\n",
       "    <tr>\n",
       "      <th>3</th>\n",
       "      <td>2020-11-09</td>\n",
       "      <td>100055</td>\n",
       "      <td>MERCADO LIVRE FULL</td>\n",
       "      <td>45</td>\n",
       "      <td>2020</td>\n",
       "      <td>4</td>\n",
       "      <td>476.81</td>\n",
       "      <td>0</td>\n",
       "      <td>2</td>\n",
       "      <td>11</td>\n",
       "      <td>21.0</td>\n",
       "      <td>0.19</td>\n",
       "    </tr>\n",
       "    <tr>\n",
       "      <th>4</th>\n",
       "      <td>2020-11-09</td>\n",
       "      <td>100055</td>\n",
       "      <td>REVENDA</td>\n",
       "      <td>45</td>\n",
       "      <td>2020</td>\n",
       "      <td>6</td>\n",
       "      <td>405.54</td>\n",
       "      <td>0</td>\n",
       "      <td>2</td>\n",
       "      <td>11</td>\n",
       "      <td>9.0</td>\n",
       "      <td>0.67</td>\n",
       "    </tr>\n",
       "    <tr>\n",
       "      <th>...</th>\n",
       "      <td>...</td>\n",
       "      <td>...</td>\n",
       "      <td>...</td>\n",
       "      <td>...</td>\n",
       "      <td>...</td>\n",
       "      <td>...</td>\n",
       "      <td>...</td>\n",
       "      <td>...</td>\n",
       "      <td>...</td>\n",
       "      <td>...</td>\n",
       "      <td>...</td>\n",
       "      <td>...</td>\n",
       "    </tr>\n",
       "    <tr>\n",
       "      <th>33232</th>\n",
       "      <td>2022-05-02</td>\n",
       "      <td>124396</td>\n",
       "      <td>KAZUK</td>\n",
       "      <td>18</td>\n",
       "      <td>2022</td>\n",
       "      <td>1</td>\n",
       "      <td>463.76</td>\n",
       "      <td>0</td>\n",
       "      <td>1</td>\n",
       "      <td>5</td>\n",
       "      <td>1.0</td>\n",
       "      <td>1.00</td>\n",
       "    </tr>\n",
       "    <tr>\n",
       "      <th>33233</th>\n",
       "      <td>2022-05-02</td>\n",
       "      <td>124398</td>\n",
       "      <td>REVENDA</td>\n",
       "      <td>18</td>\n",
       "      <td>2022</td>\n",
       "      <td>4</td>\n",
       "      <td>146.03</td>\n",
       "      <td>0</td>\n",
       "      <td>1</td>\n",
       "      <td>5</td>\n",
       "      <td>4.0</td>\n",
       "      <td>1.00</td>\n",
       "    </tr>\n",
       "    <tr>\n",
       "      <th>33234</th>\n",
       "      <td>2022-05-02</td>\n",
       "      <td>124400</td>\n",
       "      <td>MERCADO LIVRE FULL</td>\n",
       "      <td>18</td>\n",
       "      <td>2022</td>\n",
       "      <td>2</td>\n",
       "      <td>431.60</td>\n",
       "      <td>0</td>\n",
       "      <td>1</td>\n",
       "      <td>5</td>\n",
       "      <td>2.0</td>\n",
       "      <td>1.00</td>\n",
       "    </tr>\n",
       "    <tr>\n",
       "      <th>33235</th>\n",
       "      <td>2022-05-02</td>\n",
       "      <td>124400</td>\n",
       "      <td>REVENDA</td>\n",
       "      <td>18</td>\n",
       "      <td>2022</td>\n",
       "      <td>1</td>\n",
       "      <td>366.46</td>\n",
       "      <td>0</td>\n",
       "      <td>1</td>\n",
       "      <td>5</td>\n",
       "      <td>2.0</td>\n",
       "      <td>0.50</td>\n",
       "    </tr>\n",
       "    <tr>\n",
       "      <th>33236</th>\n",
       "      <td>2022-05-02</td>\n",
       "      <td>125430</td>\n",
       "      <td>REVENDA</td>\n",
       "      <td>18</td>\n",
       "      <td>2022</td>\n",
       "      <td>2</td>\n",
       "      <td>465.16</td>\n",
       "      <td>0</td>\n",
       "      <td>1</td>\n",
       "      <td>5</td>\n",
       "      <td>4.0</td>\n",
       "      <td>0.50</td>\n",
       "    </tr>\n",
       "  </tbody>\n",
       "</table>\n",
       "<p>33237 rows × 12 columns</p>\n",
       "</div>"
      ],
      "text/plain": [
       "      Data Emissão  Código         MÉDIO_CANAL  semana   Ano  vendas_segunda  \\\n",
       "0       2020-11-09  100013       MERCADO LIVRE      45  2020               2   \n",
       "1       2020-11-09  100013  MERCADO LIVRE FULL      45  2020               1   \n",
       "2       2020-11-09  100055       MERCADO LIVRE      45  2020               4   \n",
       "3       2020-11-09  100055  MERCADO LIVRE FULL      45  2020               4   \n",
       "4       2020-11-09  100055             REVENDA      45  2020               6   \n",
       "...            ...     ...                 ...     ...   ...             ...   \n",
       "33232   2022-05-02  124396               KAZUK      18  2022               1   \n",
       "33233   2022-05-02  124398             REVENDA      18  2022               4   \n",
       "33234   2022-05-02  124400  MERCADO LIVRE FULL      18  2022               2   \n",
       "33235   2022-05-02  124400             REVENDA      18  2022               1   \n",
       "33236   2022-05-02  125430             REVENDA      18  2022               2   \n",
       "\n",
       "       R$_segunda feriado semana_mês Mês  vendas_semana  part_seg_vendas  \n",
       "0          274.60       0          2  11            5.0             0.40  \n",
       "1          274.60       0          2  11            7.0             0.14  \n",
       "2          476.81       0          2  11            4.0             1.00  \n",
       "3          476.81       0          2  11           21.0             0.19  \n",
       "4          405.54       0          2  11            9.0             0.67  \n",
       "...           ...     ...        ...  ..            ...              ...  \n",
       "33232      463.76       0          1   5            1.0             1.00  \n",
       "33233      146.03       0          1   5            4.0             1.00  \n",
       "33234      431.60       0          1   5            2.0             1.00  \n",
       "33235      366.46       0          1   5            2.0             0.50  \n",
       "33236      465.16       0          1   5            4.0             0.50  \n",
       "\n",
       "[33237 rows x 12 columns]"
      ]
     },
     "execution_count": 696,
     "metadata": {},
     "output_type": "execute_result"
    }
   ],
   "source": [
    "df_f"
   ]
  },
  {
   "cell_type": "code",
   "execution_count": 699,
   "id": "4479787a",
   "metadata": {
    "ExecuteTime": {
     "end_time": "2022-05-06T16:21:59.955414Z",
     "start_time": "2022-05-06T16:21:59.885424Z"
    }
   },
   "outputs": [],
   "source": [
    "# Arrumando a classe das variáveis para o modelo\n",
    "df_f['Mês'] = df_f['Mês'].map(str)\n",
    "df_f['Ano'] = df_f['Ano'].map(int)\n",
    "df_f['semana_mês'] = df_f['semana_mês'].map(str)\n",
    "df_f['feriado'] = df_f['feriado'].map(str)\n",
    "# Criando o DF\n",
    "df_final = df_f [[ 'Código', 'MÉDIO_CANAL', 'R$_segunda', 'feriado', 'semana_mês', 'Mês', 'vendas_segunda', 'vendas_semana', 'part_seg_vendas' ]]\n",
    "df_final = df_final.reset_index().drop(columns = 'index')"
   ]
  },
  {
   "cell_type": "code",
   "execution_count": 701,
   "id": "11c394dc",
   "metadata": {
    "ExecuteTime": {
     "end_time": "2022-05-06T16:22:32.556249Z",
     "start_time": "2022-05-06T16:22:15.680099Z"
    }
   },
   "outputs": [
    {
     "data": {
      "text/plain": [
       "<seaborn.axisgrid.PairGrid at 0x1aa45278790>"
      ]
     },
     "execution_count": 701,
     "metadata": {},
     "output_type": "execute_result"
    },
    {
     "data": {
      "image/png": "[encoded data removed]",
      "text/plain": [
       "<Figure size 720x720 with 20 Axes>"
      ]
     },
     "metadata": {},
     "output_type": "display_data"
    }
   ],
   "source": [
    "# Analisando a correlação das variáveis numéricas\n",
    "sns.set_style('darkgrid')\n",
    "sns.pairplot(df_final)\n",
    "\n",
    "# vendas_semana e vendas_segunda tem correlação, porém, vendas_semana é o que eu quero prever e não vai entrar no modelo.\n",
    "# assim, a correlação das variáveis numéricas é boa para entrar no modelo"
   ]
  },
  {
   "cell_type": "markdown",
   "id": "a19ed1a7",
   "metadata": {
    "ExecuteTime": {
     "end_time": "2022-04-28T18:59:47.620450Z",
     "start_time": "2022-04-28T18:59:47.584640Z"
    }
   },
   "source": [
    "# Aplicando o Modelo de previsão"
   ]
  },
  {
   "cell_type": "code",
   "execution_count": 702,
   "id": "0b515f61",
   "metadata": {
    "ExecuteTime": {
     "end_time": "2022-05-06T16:26:01.589081Z",
     "start_time": "2022-05-06T16:26:01.563114Z"
    }
   },
   "outputs": [],
   "source": [
    "# vendas_semana não entra no modelo de previsão\n",
    "teste = df_f[[ 'Código', 'MÉDIO_CANAL', 'feriado', 'semana_mês', 'Mês', 'R$_segunda', 'vendas_segunda', 'part_seg_vendas' ]]"
   ]
  },
  {
   "cell_type": "code",
   "execution_count": 704,
   "id": "751e7f26",
   "metadata": {
    "ExecuteTime": {
     "end_time": "2022-05-06T16:26:25.687582Z",
     "start_time": "2022-05-06T16:26:25.655630Z"
    }
   },
   "outputs": [],
   "source": [
    "test_cat_vars = list(teste.select_dtypes('object').columns)\n",
    "test_num_vars = list(teste.select_dtypes(include=np.number).columns)\n",
    "test_num_vars.pop()"
   ]
  },
  {
   "cell_type": "code",
   "execution_count": 710,
   "id": "bb34a018",
   "metadata": {
    "ExecuteTime": {
     "end_time": "2022-05-06T16:27:14.168371Z",
     "start_time": "2022-05-06T16:27:14.129441Z"
    }
   },
   "outputs": [],
   "source": [
    "X_train, X_test, y_train, y_test = train_test_split(teste, \n",
    "                                                    df_final['part_seg_vendas'], \n",
    "                                                    test_size = 0.2, random_state = 42)"
   ]
  },
  {
   "cell_type": "code",
   "execution_count": 711,
   "id": "09bf8a63",
   "metadata": {
    "ExecuteTime": {
     "end_time": "2022-05-06T16:27:21.260142Z",
     "start_time": "2022-05-06T16:27:21.240631Z"
    }
   },
   "outputs": [
    {
     "data": {
      "text/plain": [
       "StandardScaler()"
      ]
     },
     "execution_count": 711,
     "metadata": {},
     "output_type": "execute_result"
    }
   ],
   "source": [
    "scaler = StandardScaler()\n",
    "scaler.fit(X_train[test_num_vars])"
   ]
  },
  {
   "cell_type": "code",
   "execution_count": 717,
   "id": "c06dea46",
   "metadata": {
    "ExecuteTime": {
     "end_time": "2022-05-06T16:29:35.432146Z",
     "start_time": "2022-05-06T16:29:35.383337Z"
    }
   },
   "outputs": [],
   "source": [
    "X_train_t = pd.DataFrame(scaler.transform(X_train[test_num_vars]), columns = test_num_vars).join(X_train[test_cat_vars], on = X_train.index)\n",
    "X_test_t = pd.DataFrame(scaler.transform(X_test[test_num_vars]), columns = test_num_vars).join(X_test[test_cat_vars], on = X_test.index)"
   ]
  },
  {
   "cell_type": "code",
   "execution_count": 718,
   "id": "4b2a3992",
   "metadata": {
    "ExecuteTime": {
     "end_time": "2022-05-06T16:31:27.389591Z",
     "start_time": "2022-05-06T16:29:42.255636Z"
    }
   },
   "outputs": [
    {
     "name": "stdout",
     "output_type": "stream",
     "text": [
      "0:\tlearn: 0.3172066\ttest: 0.3178799\tbest: 0.3178799 (0)\ttotal: 230ms\tremaining: 1h 55m 4s\n",
      "1:\tlearn: 0.3105365\ttest: 0.3112309\tbest: 0.3112309 (1)\ttotal: 375ms\tremaining: 1h 33m 51s\n",
      "2:\tlearn: 0.3049334\ttest: 0.3054612\tbest: 0.3054612 (2)\ttotal: 506ms\tremaining: 1h 24m 24s\n",
      "3:\tlearn: 0.2999430\ttest: 0.3005479\tbest: 0.3005479 (3)\ttotal: 668ms\tremaining: 1h 23m 31s\n",
      "4:\tlearn: 0.2943350\ttest: 0.2946033\tbest: 0.2946033 (4)\ttotal: 845ms\tremaining: 1h 24m 30s\n",
      "5:\tlearn: 0.2899318\ttest: 0.2897408\tbest: 0.2897408 (5)\ttotal: 874ms\tremaining: 1h 12m 51s\n",
      "6:\tlearn: 0.2861944\ttest: 0.2859353\tbest: 0.2859353 (6)\ttotal: 903ms\tremaining: 1h 4m 29s\n",
      "7:\tlearn: 0.2828764\ttest: 0.2823987\tbest: 0.2823987 (7)\ttotal: 944ms\tremaining: 58m 58s\n",
      "8:\tlearn: 0.2803502\ttest: 0.2798588\tbest: 0.2798588 (8)\ttotal: 975ms\tremaining: 54m 7s\n",
      "9:\tlearn: 0.2774771\ttest: 0.2771894\tbest: 0.2771894 (9)\ttotal: 1.14s\tremaining: 57m\n",
      "10:\tlearn: 0.2755455\ttest: 0.2752444\tbest: 0.2752444 (10)\ttotal: 1.2s\tremaining: 54m 20s\n",
      "11:\tlearn: 0.2733612\ttest: 0.2732788\tbest: 0.2732788 (11)\ttotal: 1.36s\tremaining: 56m 41s\n",
      "12:\tlearn: 0.2712179\ttest: 0.2718049\tbest: 0.2718049 (12)\ttotal: 1.52s\tremaining: 58m 35s\n",
      "13:\tlearn: 0.2694244\ttest: 0.2702911\tbest: 0.2702911 (13)\ttotal: 1.67s\tremaining: 59m 32s\n",
      "14:\tlearn: 0.2677954\ttest: 0.2689712\tbest: 0.2689712 (14)\ttotal: 1.82s\tremaining: 1h 35s\n",
      "15:\tlearn: 0.2663588\ttest: 0.2677758\tbest: 0.2677758 (15)\ttotal: 1.96s\tremaining: 1h 1m 5s\n",
      "16:\tlearn: 0.2655892\ttest: 0.2668638\tbest: 0.2668638 (16)\ttotal: 1.97s\tremaining: 57m 57s\n",
      "17:\tlearn: 0.2642545\ttest: 0.2659261\tbest: 0.2659261 (17)\ttotal: 2.11s\tremaining: 58m 34s\n",
      "18:\tlearn: 0.2637173\ttest: 0.2652703\tbest: 0.2652703 (18)\ttotal: 2.14s\tremaining: 56m 14s\n",
      "19:\tlearn: 0.2622571\ttest: 0.2644928\tbest: 0.2644928 (19)\ttotal: 2.3s\tremaining: 57m 24s\n",
      "20:\tlearn: 0.2611435\ttest: 0.2638737\tbest: 0.2638737 (20)\ttotal: 2.44s\tremaining: 58m 3s\n",
      "21:\tlearn: 0.2597047\ttest: 0.2631485\tbest: 0.2631485 (21)\ttotal: 2.6s\tremaining: 59m 4s\n",
      "22:\tlearn: 0.2582598\ttest: 0.2624102\tbest: 0.2624102 (22)\ttotal: 2.74s\tremaining: 59m 30s\n",
      "23:\tlearn: 0.2571994\ttest: 0.2616896\tbest: 0.2616896 (23)\ttotal: 2.89s\tremaining: 1h 5s\n",
      "24:\tlearn: 0.2558579\ttest: 0.2611643\tbest: 0.2611643 (24)\ttotal: 3.04s\tremaining: 1h 42s\n",
      "25:\tlearn: 0.2547607\ttest: 0.2608205\tbest: 0.2608205 (25)\ttotal: 3.23s\tremaining: 1h 2m 2s\n",
      "26:\tlearn: 0.2539159\ttest: 0.2604832\tbest: 0.2604832 (26)\ttotal: 3.39s\tremaining: 1h 2m 46s\n",
      "27:\tlearn: 0.2531596\ttest: 0.2602633\tbest: 0.2602633 (27)\ttotal: 3.55s\tremaining: 1h 3m 18s\n",
      "28:\tlearn: 0.2521036\ttest: 0.2601192\tbest: 0.2601192 (28)\ttotal: 3.7s\tremaining: 1h 3m 48s\n",
      "29:\tlearn: 0.2510469\ttest: 0.2599315\tbest: 0.2599315 (29)\ttotal: 3.85s\tremaining: 1h 4m 3s\n",
      "30:\tlearn: 0.2503011\ttest: 0.2598886\tbest: 0.2598886 (30)\ttotal: 4.01s\tremaining: 1h 4m 33s\n",
      "31:\tlearn: 0.2502692\ttest: 0.2598618\tbest: 0.2598618 (31)\ttotal: 4.02s\tremaining: 1h 2m 48s\n",
      "32:\tlearn: 0.2496335\ttest: 0.2597808\tbest: 0.2597808 (32)\ttotal: 4.2s\tremaining: 1h 3m 37s\n",
      "33:\tlearn: 0.2491668\ttest: 0.2596764\tbest: 0.2596764 (33)\ttotal: 4.37s\tremaining: 1h 4m 8s\n",
      "34:\tlearn: 0.2484331\ttest: 0.2595684\tbest: 0.2595684 (34)\ttotal: 4.53s\tremaining: 1h 4m 35s\n",
      "35:\tlearn: 0.2475014\ttest: 0.2593661\tbest: 0.2593661 (35)\ttotal: 4.68s\tremaining: 1h 4m 57s\n",
      "36:\tlearn: 0.2470008\ttest: 0.2592202\tbest: 0.2592202 (36)\ttotal: 4.85s\tremaining: 1h 5m 29s\n",
      "37:\tlearn: 0.2466341\ttest: 0.2590932\tbest: 0.2590932 (37)\ttotal: 5.03s\tremaining: 1h 6m 4s\n",
      "38:\tlearn: 0.2463056\ttest: 0.2590020\tbest: 0.2590020 (38)\ttotal: 5.2s\tremaining: 1h 6m 36s\n",
      "39:\tlearn: 0.2456480\ttest: 0.2588740\tbest: 0.2588740 (39)\ttotal: 5.35s\tremaining: 1h 6m 49s\n",
      "40:\tlearn: 0.2453648\ttest: 0.2585770\tbest: 0.2585770 (40)\ttotal: 5.54s\tremaining: 1h 7m 30s\n",
      "41:\tlearn: 0.2448512\ttest: 0.2585253\tbest: 0.2585253 (41)\ttotal: 5.74s\tremaining: 1h 8m 16s\n",
      "42:\tlearn: 0.2441926\ttest: 0.2583443\tbest: 0.2583443 (42)\ttotal: 5.9s\tremaining: 1h 8m 33s\n",
      "43:\tlearn: 0.2435199\ttest: 0.2582667\tbest: 0.2582667 (43)\ttotal: 6.06s\tremaining: 1h 8m 47s\n",
      "44:\tlearn: 0.2430071\ttest: 0.2582882\tbest: 0.2582667 (43)\ttotal: 6.23s\tremaining: 1h 9m 5s\n",
      "45:\tlearn: 0.2426134\ttest: 0.2582135\tbest: 0.2582135 (45)\ttotal: 6.39s\tremaining: 1h 9m 21s\n",
      "46:\tlearn: 0.2418624\ttest: 0.2581225\tbest: 0.2581225 (46)\ttotal: 6.54s\tremaining: 1h 9m 28s\n",
      "47:\tlearn: 0.2415355\ttest: 0.2580687\tbest: 0.2580687 (47)\ttotal: 6.69s\tremaining: 1h 9m 37s\n",
      "48:\tlearn: 0.2411814\ttest: 0.2579491\tbest: 0.2579491 (48)\ttotal: 6.86s\tremaining: 1h 9m 53s\n",
      "49:\tlearn: 0.2407494\ttest: 0.2578695\tbest: 0.2578695 (49)\ttotal: 7.01s\tremaining: 1h 9m 57s\n",
      "50:\tlearn: 0.2404587\ttest: 0.2577997\tbest: 0.2577997 (50)\ttotal: 7.16s\tremaining: 1h 10m 5s\n",
      "51:\tlearn: 0.2402733\ttest: 0.2578061\tbest: 0.2577997 (50)\ttotal: 7.31s\tremaining: 1h 10m 9s\n",
      "52:\tlearn: 0.2397585\ttest: 0.2576997\tbest: 0.2576997 (52)\ttotal: 7.48s\tremaining: 1h 10m 24s\n",
      "53:\tlearn: 0.2389926\ttest: 0.2576457\tbest: 0.2576457 (53)\ttotal: 7.62s\tremaining: 1h 10m 26s\n",
      "54:\tlearn: 0.2384954\ttest: 0.2576778\tbest: 0.2576457 (53)\ttotal: 7.79s\tremaining: 1h 10m 39s\n",
      "55:\tlearn: 0.2380749\ttest: 0.2575298\tbest: 0.2575298 (55)\ttotal: 7.95s\tremaining: 1h 10m 48s\n",
      "56:\tlearn: 0.2375203\ttest: 0.2575258\tbest: 0.2575258 (56)\ttotal: 8.09s\tremaining: 1h 10m 49s\n",
      "57:\tlearn: 0.2373714\ttest: 0.2575118\tbest: 0.2575118 (57)\ttotal: 8.24s\tremaining: 1h 10m 56s\n",
      "58:\tlearn: 0.2369881\ttest: 0.2574460\tbest: 0.2574460 (58)\ttotal: 8.4s\tremaining: 1h 11m 5s\n",
      "59:\tlearn: 0.2367674\ttest: 0.2573745\tbest: 0.2573745 (59)\ttotal: 8.57s\tremaining: 1h 11m 16s\n",
      "60:\tlearn: 0.2361734\ttest: 0.2573830\tbest: 0.2573745 (59)\ttotal: 8.73s\tremaining: 1h 11m 23s\n",
      "61:\tlearn: 0.2358304\ttest: 0.2573588\tbest: 0.2573588 (61)\ttotal: 8.89s\tremaining: 1h 11m 31s\n",
      "62:\tlearn: 0.2356001\ttest: 0.2572861\tbest: 0.2572861 (62)\ttotal: 9.06s\tremaining: 1h 11m 43s\n",
      "63:\tlearn: 0.2353180\ttest: 0.2572810\tbest: 0.2572810 (63)\ttotal: 9.22s\tremaining: 1h 11m 53s\n",
      "64:\tlearn: 0.2353180\ttest: 0.2572807\tbest: 0.2572807 (64)\ttotal: 9.23s\tremaining: 1h 10m 51s\n",
      "65:\tlearn: 0.2348296\ttest: 0.2572273\tbest: 0.2572273 (65)\ttotal: 9.4s\tremaining: 1h 11m 3s\n",
      "66:\tlearn: 0.2344086\ttest: 0.2571608\tbest: 0.2571608 (66)\ttotal: 9.56s\tremaining: 1h 11m 10s\n",
      "67:\tlearn: 0.2337600\ttest: 0.2571281\tbest: 0.2571281 (67)\ttotal: 9.73s\tremaining: 1h 11m 25s\n",
      "68:\tlearn: 0.2333296\ttest: 0.2570777\tbest: 0.2570777 (68)\ttotal: 9.89s\tremaining: 1h 11m 31s\n",
      "69:\tlearn: 0.2331183\ttest: 0.2570333\tbest: 0.2570333 (69)\ttotal: 10s\tremaining: 1h 11m 33s\n",
      "70:\tlearn: 0.2328186\ttest: 0.2570192\tbest: 0.2570192 (70)\ttotal: 10.2s\tremaining: 1h 11m 33s\n",
      "71:\tlearn: 0.2326065\ttest: 0.2569657\tbest: 0.2569657 (71)\ttotal: 10.4s\tremaining: 1h 11m 46s\n",
      "72:\tlearn: 0.2322484\ttest: 0.2569231\tbest: 0.2569231 (72)\ttotal: 10.5s\tremaining: 1h 11m 50s\n",
      "73:\tlearn: 0.2322297\ttest: 0.2569329\tbest: 0.2569231 (72)\ttotal: 10.5s\tremaining: 1h 11m 1s\n",
      "74:\tlearn: 0.2318677\ttest: 0.2569007\tbest: 0.2569007 (74)\ttotal: 10.7s\tremaining: 1h 11m 11s\n",
      "75:\tlearn: 0.2316146\ttest: 0.2569330\tbest: 0.2569007 (74)\ttotal: 10.9s\tremaining: 1h 11m 20s\n",
      "76:\tlearn: 0.2310107\ttest: 0.2568737\tbest: 0.2568737 (76)\ttotal: 11s\tremaining: 1h 11m 24s\n",
      "77:\tlearn: 0.2308404\ttest: 0.2568819\tbest: 0.2568737 (76)\ttotal: 11.2s\tremaining: 1h 11m 21s\n",
      "78:\tlearn: 0.2306692\ttest: 0.2568587\tbest: 0.2568587 (78)\ttotal: 11.3s\tremaining: 1h 11m 31s\n",
      "79:\tlearn: 0.2303171\ttest: 0.2568926\tbest: 0.2568587 (78)\ttotal: 11.5s\tremaining: 1h 11m 40s\n",
      "80:\tlearn: 0.2299942\ttest: 0.2568725\tbest: 0.2568587 (78)\ttotal: 11.7s\tremaining: 1h 11m 44s\n",
      "81:\tlearn: 0.2296542\ttest: 0.2568861\tbest: 0.2568587 (78)\ttotal: 11.8s\tremaining: 1h 11m 50s\n",
      "82:\tlearn: 0.2293556\ttest: 0.2568650\tbest: 0.2568587 (78)\ttotal: 12s\tremaining: 1h 11m 49s\n",
      "83:\tlearn: 0.2285998\ttest: 0.2568808\tbest: 0.2568587 (78)\ttotal: 12.1s\tremaining: 1h 11m 53s\n",
      "84:\tlearn: 0.2285973\ttest: 0.2568810\tbest: 0.2568587 (78)\ttotal: 12.1s\tremaining: 1h 11m 13s\n",
      "85:\tlearn: 0.2285784\ttest: 0.2568630\tbest: 0.2568587 (78)\ttotal: 12.2s\tremaining: 1h 10m 40s\n",
      "86:\tlearn: 0.2278704\ttest: 0.2568914\tbest: 0.2568587 (78)\ttotal: 12.3s\tremaining: 1h 10m 46s\n",
      "87:\tlearn: 0.2272819\ttest: 0.2569283\tbest: 0.2568587 (78)\ttotal: 12.5s\tremaining: 1h 10m 54s\n",
      "88:\tlearn: 0.2267032\ttest: 0.2569556\tbest: 0.2568587 (78)\ttotal: 12.7s\tremaining: 1h 10m 54s\n",
      "89:\tlearn: 0.2264531\ttest: 0.2569124\tbest: 0.2568587 (78)\ttotal: 12.8s\tremaining: 1h 10m 58s\n",
      "90:\tlearn: 0.2259667\ttest: 0.2568891\tbest: 0.2568587 (78)\ttotal: 13s\tremaining: 1h 10m 58s\n"
     ]
    },
    {
     "name": "stdout",
     "output_type": "stream",
     "text": [
      "91:\tlearn: 0.2256818\ttest: 0.2568660\tbest: 0.2568587 (78)\ttotal: 13.1s\tremaining: 1h 10m 57s\n",
      "92:\tlearn: 0.2253592\ttest: 0.2568461\tbest: 0.2568461 (92)\ttotal: 13.2s\tremaining: 1h 11m\n",
      "93:\tlearn: 0.2249159\ttest: 0.2566972\tbest: 0.2566972 (93)\ttotal: 13.4s\tremaining: 1h 11m 9s\n",
      "94:\tlearn: 0.2245091\ttest: 0.2566551\tbest: 0.2566551 (94)\ttotal: 13.6s\tremaining: 1h 11m 14s\n",
      "95:\tlearn: 0.2236939\ttest: 0.2566345\tbest: 0.2566345 (95)\ttotal: 13.7s\tremaining: 1h 11m 18s\n",
      "96:\tlearn: 0.2236855\ttest: 0.2566259\tbest: 0.2566259 (96)\ttotal: 13.8s\tremaining: 1h 10m 40s\n",
      "97:\tlearn: 0.2233670\ttest: 0.2566410\tbest: 0.2566259 (96)\ttotal: 13.9s\tremaining: 1h 10m 41s\n",
      "98:\tlearn: 0.2229521\ttest: 0.2565671\tbest: 0.2565671 (98)\ttotal: 14.1s\tremaining: 1h 10m 45s\n",
      "99:\tlearn: 0.2227444\ttest: 0.2565119\tbest: 0.2565119 (99)\ttotal: 14.2s\tremaining: 1h 10m 44s\n",
      "100:\tlearn: 0.2227436\ttest: 0.2565110\tbest: 0.2565110 (100)\ttotal: 14.2s\tremaining: 1h 10m 7s\n",
      "101:\tlearn: 0.2221864\ttest: 0.2565324\tbest: 0.2565110 (100)\ttotal: 14.4s\tremaining: 1h 10m 18s\n",
      "102:\tlearn: 0.2216481\ttest: 0.2565524\tbest: 0.2565110 (100)\ttotal: 14.6s\tremaining: 1h 10m 24s\n",
      "103:\tlearn: 0.2209576\ttest: 0.2565200\tbest: 0.2565110 (100)\ttotal: 14.7s\tremaining: 1h 10m 29s\n",
      "104:\tlearn: 0.2207393\ttest: 0.2565274\tbest: 0.2565110 (100)\ttotal: 14.9s\tremaining: 1h 10m 34s\n",
      "105:\tlearn: 0.2207385\ttest: 0.2565269\tbest: 0.2565110 (100)\ttotal: 14.9s\tremaining: 1h 9m 58s\n",
      "106:\tlearn: 0.2202778\ttest: 0.2565129\tbest: 0.2565110 (100)\ttotal: 15s\tremaining: 1h 10m 3s\n",
      "107:\tlearn: 0.2202770\ttest: 0.2565123\tbest: 0.2565110 (100)\ttotal: 15.1s\tremaining: 1h 9m 27s\n",
      "108:\tlearn: 0.2202763\ttest: 0.2565118\tbest: 0.2565110 (100)\ttotal: 15.1s\tremaining: 1h 8m 51s\n",
      "109:\tlearn: 0.2200558\ttest: 0.2564964\tbest: 0.2564964 (109)\ttotal: 15.2s\tremaining: 1h 8m 59s\n",
      "110:\tlearn: 0.2196937\ttest: 0.2565157\tbest: 0.2564964 (109)\ttotal: 15.4s\tremaining: 1h 9m 7s\n",
      "111:\tlearn: 0.2194256\ttest: 0.2564908\tbest: 0.2564908 (111)\ttotal: 15.6s\tremaining: 1h 9m 13s\n",
      "112:\tlearn: 0.2187775\ttest: 0.2564970\tbest: 0.2564908 (111)\ttotal: 15.7s\tremaining: 1h 9m 20s\n",
      "113:\tlearn: 0.2180290\ttest: 0.2565053\tbest: 0.2564908 (111)\ttotal: 15.9s\tremaining: 1h 9m 26s\n",
      "114:\tlearn: 0.2180278\ttest: 0.2565058\tbest: 0.2564908 (111)\ttotal: 15.9s\tremaining: 1h 8m 54s\n",
      "115:\tlearn: 0.2177216\ttest: 0.2564666\tbest: 0.2564666 (115)\ttotal: 16.1s\tremaining: 1h 8m 59s\n",
      "116:\tlearn: 0.2176869\ttest: 0.2564514\tbest: 0.2564514 (116)\ttotal: 16.2s\tremaining: 1h 9m 4s\n",
      "117:\tlearn: 0.2175167\ttest: 0.2564418\tbest: 0.2564418 (117)\ttotal: 16.4s\tremaining: 1h 9m 11s\n",
      "118:\tlearn: 0.2170274\ttest: 0.2564122\tbest: 0.2564122 (118)\ttotal: 16.5s\tremaining: 1h 9m 15s\n",
      "119:\tlearn: 0.2170268\ttest: 0.2564115\tbest: 0.2564115 (119)\ttotal: 16.6s\tremaining: 1h 8m 43s\n",
      "120:\tlearn: 0.2168497\ttest: 0.2564199\tbest: 0.2564115 (119)\ttotal: 16.7s\tremaining: 1h 8m 47s\n",
      "121:\tlearn: 0.2166902\ttest: 0.2564451\tbest: 0.2564115 (119)\ttotal: 16.9s\tremaining: 1h 8m 49s\n",
      "122:\tlearn: 0.2162740\ttest: 0.2564430\tbest: 0.2564115 (119)\ttotal: 17s\tremaining: 1h 8m 53s\n",
      "123:\tlearn: 0.2159514\ttest: 0.2564816\tbest: 0.2564115 (119)\ttotal: 17.2s\tremaining: 1h 8m 55s\n",
      "124:\tlearn: 0.2156839\ttest: 0.2564267\tbest: 0.2564115 (119)\ttotal: 17.3s\tremaining: 1h 9m\n",
      "125:\tlearn: 0.2150033\ttest: 0.2564302\tbest: 0.2564115 (119)\ttotal: 17.5s\tremaining: 1h 9m 5s\n",
      "126:\tlearn: 0.2149831\ttest: 0.2564244\tbest: 0.2564115 (119)\ttotal: 17.7s\tremaining: 1h 9m 13s\n",
      "127:\tlearn: 0.2148267\ttest: 0.2564344\tbest: 0.2564115 (119)\ttotal: 17.8s\tremaining: 1h 9m 21s\n",
      "128:\tlearn: 0.2146437\ttest: 0.2564057\tbest: 0.2564057 (128)\ttotal: 18s\tremaining: 1h 9m 23s\n",
      "129:\tlearn: 0.2143477\ttest: 0.2564168\tbest: 0.2564057 (128)\ttotal: 18.1s\tremaining: 1h 9m 26s\n",
      "130:\tlearn: 0.2139588\ttest: 0.2563949\tbest: 0.2563949 (130)\ttotal: 18.3s\tremaining: 1h 9m 35s\n",
      "131:\tlearn: 0.2136000\ttest: 0.2563702\tbest: 0.2563702 (131)\ttotal: 18.5s\tremaining: 1h 9m 39s\n",
      "132:\tlearn: 0.2133960\ttest: 0.2563215\tbest: 0.2563215 (132)\ttotal: 18.6s\tremaining: 1h 9m 45s\n",
      "133:\tlearn: 0.2133087\ttest: 0.2563226\tbest: 0.2563215 (132)\ttotal: 18.8s\tremaining: 1h 9m 49s\n",
      "134:\tlearn: 0.2130467\ttest: 0.2563262\tbest: 0.2563215 (132)\ttotal: 19s\tremaining: 1h 9m 57s\n",
      "135:\tlearn: 0.2127738\ttest: 0.2563172\tbest: 0.2563172 (135)\ttotal: 19.2s\tremaining: 1h 10m 6s\n",
      "136:\tlearn: 0.2124704\ttest: 0.2562816\tbest: 0.2562816 (136)\ttotal: 19.3s\tremaining: 1h 10m 10s\n",
      "137:\tlearn: 0.2120373\ttest: 0.2562832\tbest: 0.2562816 (136)\ttotal: 19.5s\tremaining: 1h 10m 12s\n",
      "138:\tlearn: 0.2120317\ttest: 0.2562847\tbest: 0.2562816 (136)\ttotal: 19.5s\tremaining: 1h 9m 48s\n",
      "139:\tlearn: 0.2119121\ttest: 0.2562677\tbest: 0.2562677 (139)\ttotal: 19.7s\tremaining: 1h 9m 55s\n",
      "140:\tlearn: 0.2114120\ttest: 0.2562249\tbest: 0.2562249 (140)\ttotal: 19.8s\tremaining: 1h 9m 58s\n",
      "141:\tlearn: 0.2111422\ttest: 0.2562189\tbest: 0.2562189 (141)\ttotal: 20s\tremaining: 1h 10m 2s\n",
      "142:\tlearn: 0.2106576\ttest: 0.2562764\tbest: 0.2562189 (141)\ttotal: 20.1s\tremaining: 1h 10m 5s\n",
      "143:\tlearn: 0.2105049\ttest: 0.2562652\tbest: 0.2562189 (141)\ttotal: 20.3s\tremaining: 1h 10m 8s\n",
      "144:\tlearn: 0.2103469\ttest: 0.2563010\tbest: 0.2562189 (141)\ttotal: 20.5s\tremaining: 1h 10m 12s\n",
      "145:\tlearn: 0.2101057\ttest: 0.2562578\tbest: 0.2562189 (141)\ttotal: 20.6s\tremaining: 1h 10m 19s\n",
      "146:\tlearn: 0.2097386\ttest: 0.2562459\tbest: 0.2562189 (141)\ttotal: 20.8s\tremaining: 1h 10m 21s\n",
      "147:\tlearn: 0.2094588\ttest: 0.2562257\tbest: 0.2562189 (141)\ttotal: 21s\tremaining: 1h 10m 26s\n",
      "148:\tlearn: 0.2092312\ttest: 0.2562195\tbest: 0.2562189 (141)\ttotal: 21.1s\tremaining: 1h 10m 32s\n",
      "149:\tlearn: 0.2090781\ttest: 0.2562136\tbest: 0.2562136 (149)\ttotal: 21.3s\tremaining: 1h 10m 32s\n",
      "150:\tlearn: 0.2087015\ttest: 0.2561878\tbest: 0.2561878 (150)\ttotal: 21.4s\tremaining: 1h 10m 37s\n",
      "151:\tlearn: 0.2085120\ttest: 0.2561919\tbest: 0.2561878 (150)\ttotal: 21.6s\tremaining: 1h 10m 46s\n",
      "152:\tlearn: 0.2082204\ttest: 0.2562235\tbest: 0.2561878 (150)\ttotal: 21.8s\tremaining: 1h 10m 49s\n",
      "153:\tlearn: 0.2078338\ttest: 0.2561534\tbest: 0.2561534 (153)\ttotal: 21.9s\tremaining: 1h 10m 53s\n",
      "154:\tlearn: 0.2075328\ttest: 0.2561195\tbest: 0.2561195 (154)\ttotal: 22.1s\tremaining: 1h 10m 55s\n",
      "155:\tlearn: 0.2072694\ttest: 0.2560712\tbest: 0.2560712 (155)\ttotal: 22.2s\tremaining: 1h 10m 54s\n",
      "156:\tlearn: 0.2069989\ttest: 0.2560691\tbest: 0.2560691 (156)\ttotal: 22.4s\tremaining: 1h 10m 57s\n",
      "157:\tlearn: 0.2066790\ttest: 0.2560793\tbest: 0.2560691 (156)\ttotal: 22.6s\tremaining: 1h 11m 4s\n",
      "158:\tlearn: 0.2062623\ttest: 0.2561190\tbest: 0.2560691 (156)\ttotal: 22.7s\tremaining: 1h 11m 7s\n",
      "159:\tlearn: 0.2061074\ttest: 0.2561328\tbest: 0.2560691 (156)\ttotal: 22.9s\tremaining: 1h 11m 9s\n",
      "160:\tlearn: 0.2057727\ttest: 0.2561361\tbest: 0.2560691 (156)\ttotal: 23s\tremaining: 1h 11m 9s\n",
      "161:\tlearn: 0.2053383\ttest: 0.2560931\tbest: 0.2560691 (156)\ttotal: 23.2s\tremaining: 1h 11m 15s\n",
      "162:\tlearn: 0.2052259\ttest: 0.2561265\tbest: 0.2560691 (156)\ttotal: 23.4s\tremaining: 1h 11m 18s\n",
      "163:\tlearn: 0.2051365\ttest: 0.2561197\tbest: 0.2560691 (156)\ttotal: 23.6s\tremaining: 1h 11m 25s\n",
      "164:\tlearn: 0.2046660\ttest: 0.2561495\tbest: 0.2560691 (156)\ttotal: 23.8s\tremaining: 1h 11m 37s\n",
      "165:\tlearn: 0.2041830\ttest: 0.2561651\tbest: 0.2560691 (156)\ttotal: 23.9s\tremaining: 1h 11m 39s\n",
      "166:\tlearn: 0.2040442\ttest: 0.2561460\tbest: 0.2560691 (156)\ttotal: 24.1s\tremaining: 1h 11m 40s\n",
      "167:\tlearn: 0.2035597\ttest: 0.2561331\tbest: 0.2560691 (156)\ttotal: 24.3s\tremaining: 1h 11m 51s\n",
      "168:\tlearn: 0.2033041\ttest: 0.2561180\tbest: 0.2560691 (156)\ttotal: 24.5s\tremaining: 1h 11m 57s\n",
      "169:\tlearn: 0.2028119\ttest: 0.2561344\tbest: 0.2560691 (156)\ttotal: 24.6s\tremaining: 1h 12m 1s\n",
      "170:\tlearn: 0.2024442\ttest: 0.2561626\tbest: 0.2560691 (156)\ttotal: 24.8s\tremaining: 1h 12m 7s\n",
      "171:\tlearn: 0.2021974\ttest: 0.2561944\tbest: 0.2560691 (156)\ttotal: 25s\tremaining: 1h 12m 12s\n",
      "172:\tlearn: 0.2021135\ttest: 0.2561798\tbest: 0.2560691 (156)\ttotal: 25.2s\tremaining: 1h 12m 17s\n",
      "173:\tlearn: 0.2017003\ttest: 0.2562564\tbest: 0.2560691 (156)\ttotal: 25.3s\tremaining: 1h 12m 25s\n",
      "174:\tlearn: 0.2015374\ttest: 0.2562347\tbest: 0.2560691 (156)\ttotal: 25.5s\tremaining: 1h 12m 26s\n",
      "175:\tlearn: 0.2009787\ttest: 0.2562589\tbest: 0.2560691 (156)\ttotal: 25.7s\tremaining: 1h 12m 29s\n",
      "176:\tlearn: 0.2007212\ttest: 0.2562133\tbest: 0.2560691 (156)\ttotal: 25.8s\tremaining: 1h 12m 28s\n",
      "177:\tlearn: 0.2005985\ttest: 0.2562197\tbest: 0.2560691 (156)\ttotal: 26s\tremaining: 1h 12m 33s\n",
      "178:\tlearn: 0.2002705\ttest: 0.2562400\tbest: 0.2560691 (156)\ttotal: 26.2s\tremaining: 1h 12m 39s\n"
     ]
    },
    {
     "name": "stdout",
     "output_type": "stream",
     "text": [
      "179:\tlearn: 0.1999596\ttest: 0.2562321\tbest: 0.2560691 (156)\ttotal: 26.3s\tremaining: 1h 12m 44s\n",
      "180:\tlearn: 0.1995108\ttest: 0.2563043\tbest: 0.2560691 (156)\ttotal: 26.5s\tremaining: 1h 12m 46s\n",
      "181:\tlearn: 0.1989801\ttest: 0.2562664\tbest: 0.2560691 (156)\ttotal: 26.7s\tremaining: 1h 12m 48s\n",
      "182:\tlearn: 0.1987913\ttest: 0.2562783\tbest: 0.2560691 (156)\ttotal: 26.8s\tremaining: 1h 12m 49s\n",
      "183:\tlearn: 0.1982906\ttest: 0.2562718\tbest: 0.2560691 (156)\ttotal: 27s\tremaining: 1h 12m 50s\n",
      "184:\tlearn: 0.1980739\ttest: 0.2562584\tbest: 0.2560691 (156)\ttotal: 27.1s\tremaining: 1h 12m 52s\n",
      "185:\tlearn: 0.1978883\ttest: 0.2562127\tbest: 0.2560691 (156)\ttotal: 27.3s\tremaining: 1h 12m 53s\n",
      "186:\tlearn: 0.1977719\ttest: 0.2562408\tbest: 0.2560691 (156)\ttotal: 27.5s\tremaining: 1h 12m 56s\n",
      "187:\tlearn: 0.1975007\ttest: 0.2562943\tbest: 0.2560691 (156)\ttotal: 27.6s\tremaining: 1h 12m 56s\n",
      "188:\tlearn: 0.1969926\ttest: 0.2563740\tbest: 0.2560691 (156)\ttotal: 27.7s\tremaining: 1h 12m 56s\n",
      "189:\tlearn: 0.1967691\ttest: 0.2563786\tbest: 0.2560691 (156)\ttotal: 27.9s\tremaining: 1h 12m 56s\n",
      "190:\tlearn: 0.1965603\ttest: 0.2563694\tbest: 0.2560691 (156)\ttotal: 28s\tremaining: 1h 12m 56s\n",
      "191:\tlearn: 0.1963038\ttest: 0.2563505\tbest: 0.2560691 (156)\ttotal: 28.2s\tremaining: 1h 12m 59s\n",
      "192:\tlearn: 0.1961580\ttest: 0.2563660\tbest: 0.2560691 (156)\ttotal: 28.4s\tremaining: 1h 13m\n",
      "193:\tlearn: 0.1957456\ttest: 0.2563715\tbest: 0.2560691 (156)\ttotal: 28.5s\tremaining: 1h 13m 1s\n",
      "194:\tlearn: 0.1955533\ttest: 0.2563508\tbest: 0.2560691 (156)\ttotal: 28.7s\tremaining: 1h 13m 3s\n",
      "195:\tlearn: 0.1953357\ttest: 0.2563720\tbest: 0.2560691 (156)\ttotal: 28.8s\tremaining: 1h 13m 1s\n",
      "196:\tlearn: 0.1949453\ttest: 0.2564126\tbest: 0.2560691 (156)\ttotal: 29s\tremaining: 1h 13m 3s\n",
      "197:\tlearn: 0.1946577\ttest: 0.2564233\tbest: 0.2560691 (156)\ttotal: 29.1s\tremaining: 1h 13m 5s\n",
      "198:\tlearn: 0.1942661\ttest: 0.2564146\tbest: 0.2560691 (156)\ttotal: 29.3s\tremaining: 1h 13m 7s\n",
      "199:\tlearn: 0.1939311\ttest: 0.2564117\tbest: 0.2560691 (156)\ttotal: 29.5s\tremaining: 1h 13m 10s\n",
      "200:\tlearn: 0.1937386\ttest: 0.2564219\tbest: 0.2560691 (156)\ttotal: 29.6s\tremaining: 1h 13m 12s\n",
      "201:\tlearn: 0.1933213\ttest: 0.2564902\tbest: 0.2560691 (156)\ttotal: 29.8s\tremaining: 1h 13m 14s\n",
      "202:\tlearn: 0.1930721\ttest: 0.2564887\tbest: 0.2560691 (156)\ttotal: 29.9s\tremaining: 1h 13m 13s\n",
      "203:\tlearn: 0.1928944\ttest: 0.2565093\tbest: 0.2560691 (156)\ttotal: 30.1s\tremaining: 1h 13m 15s\n",
      "204:\tlearn: 0.1928599\ttest: 0.2565147\tbest: 0.2560691 (156)\ttotal: 30.2s\tremaining: 1h 13m 16s\n",
      "205:\tlearn: 0.1926528\ttest: 0.2565092\tbest: 0.2560691 (156)\ttotal: 30.4s\tremaining: 1h 13m 16s\n",
      "206:\tlearn: 0.1923963\ttest: 0.2565337\tbest: 0.2560691 (156)\ttotal: 30.5s\tremaining: 1h 13m 14s\n",
      "207:\tlearn: 0.1920626\ttest: 0.2565904\tbest: 0.2560691 (156)\ttotal: 30.7s\tremaining: 1h 13m 14s\n",
      "208:\tlearn: 0.1917975\ttest: 0.2565624\tbest: 0.2560691 (156)\ttotal: 30.8s\tremaining: 1h 13m 15s\n",
      "209:\tlearn: 0.1915488\ttest: 0.2565520\tbest: 0.2560691 (156)\ttotal: 31s\tremaining: 1h 13m 18s\n",
      "210:\tlearn: 0.1913381\ttest: 0.2565311\tbest: 0.2560691 (156)\ttotal: 31.1s\tremaining: 1h 13m 17s\n",
      "211:\tlearn: 0.1911829\ttest: 0.2565206\tbest: 0.2560691 (156)\ttotal: 31.3s\tremaining: 1h 13m 20s\n",
      "212:\tlearn: 0.1910558\ttest: 0.2565371\tbest: 0.2560691 (156)\ttotal: 31.5s\tremaining: 1h 13m 20s\n",
      "213:\tlearn: 0.1908655\ttest: 0.2565775\tbest: 0.2560691 (156)\ttotal: 31.6s\tremaining: 1h 13m 21s\n",
      "214:\tlearn: 0.1906964\ttest: 0.2565715\tbest: 0.2560691 (156)\ttotal: 31.8s\tremaining: 1h 13m 22s\n",
      "215:\tlearn: 0.1903829\ttest: 0.2565681\tbest: 0.2560691 (156)\ttotal: 31.9s\tremaining: 1h 13m 25s\n",
      "216:\tlearn: 0.1901705\ttest: 0.2565594\tbest: 0.2560691 (156)\ttotal: 32.1s\tremaining: 1h 13m 24s\n",
      "217:\tlearn: 0.1898667\ttest: 0.2565907\tbest: 0.2560691 (156)\ttotal: 32.3s\tremaining: 1h 13m 29s\n",
      "218:\tlearn: 0.1896689\ttest: 0.2565778\tbest: 0.2560691 (156)\ttotal: 32.4s\tremaining: 1h 13m 30s\n",
      "219:\tlearn: 0.1893979\ttest: 0.2565630\tbest: 0.2560691 (156)\ttotal: 32.6s\tremaining: 1h 13m 32s\n",
      "220:\tlearn: 0.1891072\ttest: 0.2565536\tbest: 0.2560691 (156)\ttotal: 32.7s\tremaining: 1h 13m 31s\n",
      "221:\tlearn: 0.1887938\ttest: 0.2565970\tbest: 0.2560691 (156)\ttotal: 32.9s\tremaining: 1h 13m 33s\n",
      "222:\tlearn: 0.1886611\ttest: 0.2565954\tbest: 0.2560691 (156)\ttotal: 33.1s\tremaining: 1h 13m 33s\n",
      "223:\tlearn: 0.1884930\ttest: 0.2565811\tbest: 0.2560691 (156)\ttotal: 33.2s\tremaining: 1h 13m 32s\n",
      "224:\tlearn: 0.1882360\ttest: 0.2566029\tbest: 0.2560691 (156)\ttotal: 33.4s\tremaining: 1h 13m 33s\n",
      "225:\tlearn: 0.1879385\ttest: 0.2565906\tbest: 0.2560691 (156)\ttotal: 33.5s\tremaining: 1h 13m 34s\n",
      "226:\tlearn: 0.1876007\ttest: 0.2566019\tbest: 0.2560691 (156)\ttotal: 33.7s\tremaining: 1h 13m 39s\n",
      "227:\tlearn: 0.1872933\ttest: 0.2565903\tbest: 0.2560691 (156)\ttotal: 33.9s\tremaining: 1h 13m 41s\n",
      "228:\tlearn: 0.1870408\ttest: 0.2565857\tbest: 0.2560691 (156)\ttotal: 34s\tremaining: 1h 13m 44s\n",
      "229:\tlearn: 0.1868056\ttest: 0.2565859\tbest: 0.2560691 (156)\ttotal: 34.2s\tremaining: 1h 13m 48s\n",
      "230:\tlearn: 0.1866179\ttest: 0.2566117\tbest: 0.2560691 (156)\ttotal: 34.4s\tremaining: 1h 13m 53s\n",
      "231:\tlearn: 0.1864170\ttest: 0.2566181\tbest: 0.2560691 (156)\ttotal: 34.7s\tremaining: 1h 14m 9s\n",
      "232:\tlearn: 0.1861869\ttest: 0.2566648\tbest: 0.2560691 (156)\ttotal: 34.9s\tremaining: 1h 14m 18s\n",
      "233:\tlearn: 0.1858856\ttest: 0.2566085\tbest: 0.2560691 (156)\ttotal: 35.1s\tremaining: 1h 14m 21s\n",
      "234:\tlearn: 0.1856877\ttest: 0.2565981\tbest: 0.2560691 (156)\ttotal: 35.3s\tremaining: 1h 14m 25s\n",
      "235:\tlearn: 0.1853126\ttest: 0.2565733\tbest: 0.2560691 (156)\ttotal: 35.4s\tremaining: 1h 14m 27s\n",
      "236:\tlearn: 0.1851148\ttest: 0.2565620\tbest: 0.2560691 (156)\ttotal: 35.6s\tremaining: 1h 14m 33s\n",
      "237:\tlearn: 0.1850124\ttest: 0.2565661\tbest: 0.2560691 (156)\ttotal: 35.8s\tremaining: 1h 14m 36s\n",
      "238:\tlearn: 0.1848879\ttest: 0.2566003\tbest: 0.2560691 (156)\ttotal: 36s\tremaining: 1h 14m 38s\n",
      "239:\tlearn: 0.1846969\ttest: 0.2565530\tbest: 0.2560691 (156)\ttotal: 36.1s\tremaining: 1h 14m 39s\n",
      "240:\tlearn: 0.1844108\ttest: 0.2565737\tbest: 0.2560691 (156)\ttotal: 36.3s\tremaining: 1h 14m 40s\n",
      "241:\tlearn: 0.1840674\ttest: 0.2565731\tbest: 0.2560691 (156)\ttotal: 36.5s\tremaining: 1h 14m 42s\n",
      "242:\tlearn: 0.1839694\ttest: 0.2565942\tbest: 0.2560691 (156)\ttotal: 36.7s\tremaining: 1h 14m 48s\n",
      "243:\tlearn: 0.1838369\ttest: 0.2565801\tbest: 0.2560691 (156)\ttotal: 36.8s\tremaining: 1h 14m 50s\n",
      "244:\tlearn: 0.1837025\ttest: 0.2565505\tbest: 0.2560691 (156)\ttotal: 37s\tremaining: 1h 14m 51s\n",
      "245:\tlearn: 0.1834152\ttest: 0.2565434\tbest: 0.2560691 (156)\ttotal: 37.1s\tremaining: 1h 14m 52s\n",
      "246:\tlearn: 0.1832360\ttest: 0.2565430\tbest: 0.2560691 (156)\ttotal: 37.3s\tremaining: 1h 14m 55s\n",
      "247:\tlearn: 0.1830955\ttest: 0.2565423\tbest: 0.2560691 (156)\ttotal: 37.5s\tremaining: 1h 14m 58s\n",
      "248:\tlearn: 0.1829783\ttest: 0.2565346\tbest: 0.2560691 (156)\ttotal: 37.7s\tremaining: 1h 15m 6s\n",
      "249:\tlearn: 0.1826729\ttest: 0.2565371\tbest: 0.2560691 (156)\ttotal: 37.9s\tremaining: 1h 15m 14s\n",
      "250:\tlearn: 0.1825818\ttest: 0.2565237\tbest: 0.2560691 (156)\ttotal: 38.1s\tremaining: 1h 15m 20s\n",
      "251:\tlearn: 0.1824432\ttest: 0.2564918\tbest: 0.2560691 (156)\ttotal: 38.3s\tremaining: 1h 15m 23s\n",
      "252:\tlearn: 0.1822795\ttest: 0.2564933\tbest: 0.2560691 (156)\ttotal: 38.5s\tremaining: 1h 15m 26s\n",
      "253:\tlearn: 0.1821937\ttest: 0.2564956\tbest: 0.2560691 (156)\ttotal: 38.7s\tremaining: 1h 15m 29s\n",
      "254:\tlearn: 0.1819958\ttest: 0.2564933\tbest: 0.2560691 (156)\ttotal: 38.8s\tremaining: 1h 15m 30s\n",
      "255:\tlearn: 0.1814705\ttest: 0.2565713\tbest: 0.2560691 (156)\ttotal: 39s\tremaining: 1h 15m 34s\n",
      "256:\tlearn: 0.1811842\ttest: 0.2566255\tbest: 0.2560691 (156)\ttotal: 39.2s\tremaining: 1h 15m 34s\n",
      "257:\tlearn: 0.1809470\ttest: 0.2566070\tbest: 0.2560691 (156)\ttotal: 39.4s\tremaining: 1h 15m 37s\n",
      "258:\tlearn: 0.1805320\ttest: 0.2565675\tbest: 0.2560691 (156)\ttotal: 39.5s\tremaining: 1h 15m 38s\n",
      "259:\tlearn: 0.1803902\ttest: 0.2565781\tbest: 0.2560691 (156)\ttotal: 39.7s\tremaining: 1h 15m 40s\n",
      "260:\tlearn: 0.1801984\ttest: 0.2565938\tbest: 0.2560691 (156)\ttotal: 39.9s\tremaining: 1h 15m 42s\n",
      "261:\tlearn: 0.1799323\ttest: 0.2566222\tbest: 0.2560691 (156)\ttotal: 40s\tremaining: 1h 15m 43s\n",
      "262:\tlearn: 0.1797895\ttest: 0.2566065\tbest: 0.2560691 (156)\ttotal: 40.2s\tremaining: 1h 15m 43s\n",
      "263:\tlearn: 0.1793822\ttest: 0.2566217\tbest: 0.2560691 (156)\ttotal: 40.4s\tremaining: 1h 15m 45s\n",
      "264:\tlearn: 0.1792457\ttest: 0.2566098\tbest: 0.2560691 (156)\ttotal: 40.5s\tremaining: 1h 15m 45s\n",
      "265:\tlearn: 0.1790733\ttest: 0.2565671\tbest: 0.2560691 (156)\ttotal: 40.7s\tremaining: 1h 15m 47s\n"
     ]
    },
    {
     "name": "stdout",
     "output_type": "stream",
     "text": [
      "266:\tlearn: 0.1787157\ttest: 0.2565533\tbest: 0.2560691 (156)\ttotal: 40.8s\tremaining: 1h 15m 47s\n",
      "267:\tlearn: 0.1784103\ttest: 0.2565629\tbest: 0.2560691 (156)\ttotal: 41s\tremaining: 1h 15m 47s\n",
      "268:\tlearn: 0.1782280\ttest: 0.2565727\tbest: 0.2560691 (156)\ttotal: 41.2s\tremaining: 1h 15m 48s\n",
      "269:\tlearn: 0.1779182\ttest: 0.2566487\tbest: 0.2560691 (156)\ttotal: 41.3s\tremaining: 1h 15m 48s\n",
      "270:\tlearn: 0.1777274\ttest: 0.2566546\tbest: 0.2560691 (156)\ttotal: 41.5s\tremaining: 1h 15m 47s\n",
      "271:\tlearn: 0.1773731\ttest: 0.2566374\tbest: 0.2560691 (156)\ttotal: 41.6s\tremaining: 1h 15m 47s\n",
      "272:\tlearn: 0.1770937\ttest: 0.2566628\tbest: 0.2560691 (156)\ttotal: 41.8s\tremaining: 1h 15m 46s\n",
      "273:\tlearn: 0.1768227\ttest: 0.2566927\tbest: 0.2560691 (156)\ttotal: 41.9s\tremaining: 1h 15m 45s\n",
      "274:\tlearn: 0.1764705\ttest: 0.2566418\tbest: 0.2560691 (156)\ttotal: 42.1s\tremaining: 1h 15m 47s\n",
      "275:\tlearn: 0.1762100\ttest: 0.2566562\tbest: 0.2560691 (156)\ttotal: 42.2s\tremaining: 1h 15m 47s\n",
      "276:\tlearn: 0.1759666\ttest: 0.2566833\tbest: 0.2560691 (156)\ttotal: 42.4s\tremaining: 1h 15m 47s\n",
      "277:\tlearn: 0.1758371\ttest: 0.2566821\tbest: 0.2560691 (156)\ttotal: 42.5s\tremaining: 1h 15m 48s\n",
      "278:\tlearn: 0.1755942\ttest: 0.2566782\tbest: 0.2560691 (156)\ttotal: 42.7s\tremaining: 1h 15m 50s\n",
      "279:\tlearn: 0.1754800\ttest: 0.2566907\tbest: 0.2560691 (156)\ttotal: 42.9s\tremaining: 1h 15m 55s\n",
      "280:\tlearn: 0.1753032\ttest: 0.2566840\tbest: 0.2560691 (156)\ttotal: 43.1s\tremaining: 1h 15m 58s\n",
      "281:\tlearn: 0.1752206\ttest: 0.2566917\tbest: 0.2560691 (156)\ttotal: 43.3s\tremaining: 1h 15m 58s\n",
      "282:\tlearn: 0.1750894\ttest: 0.2567109\tbest: 0.2560691 (156)\ttotal: 43.4s\tremaining: 1h 15m 59s\n",
      "283:\tlearn: 0.1750186\ttest: 0.2567035\tbest: 0.2560691 (156)\ttotal: 43.6s\tremaining: 1h 16m 1s\n",
      "284:\tlearn: 0.1745943\ttest: 0.2567133\tbest: 0.2560691 (156)\ttotal: 43.8s\tremaining: 1h 16m 4s\n",
      "285:\tlearn: 0.1744556\ttest: 0.2567266\tbest: 0.2560691 (156)\ttotal: 43.9s\tremaining: 1h 16m 4s\n",
      "286:\tlearn: 0.1743327\ttest: 0.2567507\tbest: 0.2560691 (156)\ttotal: 44.1s\tremaining: 1h 16m 6s\n",
      "287:\tlearn: 0.1740202\ttest: 0.2567527\tbest: 0.2560691 (156)\ttotal: 44.3s\tremaining: 1h 16m 8s\n",
      "288:\tlearn: 0.1737659\ttest: 0.2567446\tbest: 0.2560691 (156)\ttotal: 44.5s\tremaining: 1h 16m 11s\n",
      "289:\tlearn: 0.1735829\ttest: 0.2567968\tbest: 0.2560691 (156)\ttotal: 44.6s\tremaining: 1h 16m 13s\n",
      "290:\tlearn: 0.1730757\ttest: 0.2568331\tbest: 0.2560691 (156)\ttotal: 44.8s\tremaining: 1h 16m 13s\n",
      "291:\tlearn: 0.1729167\ttest: 0.2568254\tbest: 0.2560691 (156)\ttotal: 45s\tremaining: 1h 16m 15s\n",
      "292:\tlearn: 0.1725700\ttest: 0.2568182\tbest: 0.2560691 (156)\ttotal: 45.1s\tremaining: 1h 16m 15s\n",
      "293:\tlearn: 0.1724102\ttest: 0.2568053\tbest: 0.2560691 (156)\ttotal: 45.3s\tremaining: 1h 16m 13s\n",
      "294:\tlearn: 0.1721005\ttest: 0.2567856\tbest: 0.2560691 (156)\ttotal: 45.4s\tremaining: 1h 16m 13s\n",
      "295:\tlearn: 0.1717337\ttest: 0.2567795\tbest: 0.2560691 (156)\ttotal: 45.6s\tremaining: 1h 16m 13s\n",
      "296:\tlearn: 0.1713818\ttest: 0.2568074\tbest: 0.2560691 (156)\ttotal: 45.7s\tremaining: 1h 16m 11s\n",
      "297:\tlearn: 0.1712904\ttest: 0.2567893\tbest: 0.2560691 (156)\ttotal: 45.9s\tremaining: 1h 16m 14s\n",
      "298:\tlearn: 0.1710841\ttest: 0.2568038\tbest: 0.2560691 (156)\ttotal: 46s\tremaining: 1h 16m 14s\n",
      "299:\tlearn: 0.1707439\ttest: 0.2568120\tbest: 0.2560691 (156)\ttotal: 46.2s\tremaining: 1h 16m 14s\n",
      "300:\tlearn: 0.1705611\ttest: 0.2567932\tbest: 0.2560691 (156)\ttotal: 46.4s\tremaining: 1h 16m 16s\n",
      "301:\tlearn: 0.1701608\ttest: 0.2568102\tbest: 0.2560691 (156)\ttotal: 46.6s\tremaining: 1h 16m 19s\n",
      "302:\tlearn: 0.1699108\ttest: 0.2568302\tbest: 0.2560691 (156)\ttotal: 46.7s\tremaining: 1h 16m 20s\n",
      "303:\tlearn: 0.1697400\ttest: 0.2568550\tbest: 0.2560691 (156)\ttotal: 46.9s\tremaining: 1h 16m 21s\n",
      "304:\tlearn: 0.1695261\ttest: 0.2568345\tbest: 0.2560691 (156)\ttotal: 47.1s\tremaining: 1h 16m 22s\n",
      "305:\tlearn: 0.1693649\ttest: 0.2568300\tbest: 0.2560691 (156)\ttotal: 47.2s\tremaining: 1h 16m 22s\n",
      "306:\tlearn: 0.1691887\ttest: 0.2568456\tbest: 0.2560691 (156)\ttotal: 47.4s\tremaining: 1h 16m 19s\n",
      "307:\tlearn: 0.1688517\ttest: 0.2568993\tbest: 0.2560691 (156)\ttotal: 47.5s\tremaining: 1h 16m 18s\n",
      "308:\tlearn: 0.1684945\ttest: 0.2568773\tbest: 0.2560691 (156)\ttotal: 47.7s\tremaining: 1h 16m 18s\n",
      "309:\tlearn: 0.1683509\ttest: 0.2568759\tbest: 0.2560691 (156)\ttotal: 47.8s\tremaining: 1h 16m 21s\n",
      "310:\tlearn: 0.1681843\ttest: 0.2568871\tbest: 0.2560691 (156)\ttotal: 48s\tremaining: 1h 16m 23s\n",
      "311:\tlearn: 0.1678256\ttest: 0.2568407\tbest: 0.2560691 (156)\ttotal: 48.2s\tremaining: 1h 16m 24s\n",
      "312:\tlearn: 0.1674333\ttest: 0.2568368\tbest: 0.2560691 (156)\ttotal: 48.3s\tremaining: 1h 16m 24s\n",
      "313:\tlearn: 0.1673436\ttest: 0.2568239\tbest: 0.2560691 (156)\ttotal: 48.5s\tremaining: 1h 16m 24s\n",
      "314:\tlearn: 0.1671684\ttest: 0.2568593\tbest: 0.2560691 (156)\ttotal: 48.6s\tremaining: 1h 16m 24s\n",
      "315:\tlearn: 0.1670313\ttest: 0.2568452\tbest: 0.2560691 (156)\ttotal: 48.8s\tremaining: 1h 16m 23s\n",
      "316:\tlearn: 0.1668105\ttest: 0.2568533\tbest: 0.2560691 (156)\ttotal: 49s\tremaining: 1h 16m 23s\n",
      "317:\tlearn: 0.1667165\ttest: 0.2568741\tbest: 0.2560691 (156)\ttotal: 49.1s\tremaining: 1h 16m 23s\n",
      "318:\tlearn: 0.1666393\ttest: 0.2568750\tbest: 0.2560691 (156)\ttotal: 49.3s\tremaining: 1h 16m 22s\n",
      "319:\tlearn: 0.1662181\ttest: 0.2568830\tbest: 0.2560691 (156)\ttotal: 49.4s\tremaining: 1h 16m 23s\n",
      "320:\tlearn: 0.1660267\ttest: 0.2568883\tbest: 0.2560691 (156)\ttotal: 49.6s\tremaining: 1h 16m 23s\n",
      "321:\tlearn: 0.1658370\ttest: 0.2569321\tbest: 0.2560691 (156)\ttotal: 49.7s\tremaining: 1h 16m 22s\n",
      "322:\tlearn: 0.1656742\ttest: 0.2569280\tbest: 0.2560691 (156)\ttotal: 49.9s\tremaining: 1h 16m 20s\n",
      "323:\tlearn: 0.1654071\ttest: 0.2569529\tbest: 0.2560691 (156)\ttotal: 50s\tremaining: 1h 16m 20s\n",
      "324:\tlearn: 0.1652987\ttest: 0.2569711\tbest: 0.2560691 (156)\ttotal: 50.2s\tremaining: 1h 16m 21s\n",
      "325:\tlearn: 0.1650965\ttest: 0.2569638\tbest: 0.2560691 (156)\ttotal: 50.3s\tremaining: 1h 16m 20s\n",
      "326:\tlearn: 0.1646655\ttest: 0.2569855\tbest: 0.2560691 (156)\ttotal: 50.5s\tremaining: 1h 16m 20s\n",
      "327:\tlearn: 0.1645867\ttest: 0.2569774\tbest: 0.2560691 (156)\ttotal: 50.6s\tremaining: 1h 16m 20s\n",
      "328:\tlearn: 0.1643864\ttest: 0.2569751\tbest: 0.2560691 (156)\ttotal: 50.8s\tremaining: 1h 16m 21s\n",
      "329:\tlearn: 0.1641629\ttest: 0.2569568\tbest: 0.2560691 (156)\ttotal: 51s\tremaining: 1h 16m 22s\n",
      "330:\tlearn: 0.1639547\ttest: 0.2569502\tbest: 0.2560691 (156)\ttotal: 51.1s\tremaining: 1h 16m 22s\n",
      "331:\tlearn: 0.1637990\ttest: 0.2569564\tbest: 0.2560691 (156)\ttotal: 51.3s\tremaining: 1h 16m 22s\n",
      "332:\tlearn: 0.1637530\ttest: 0.2569494\tbest: 0.2560691 (156)\ttotal: 51.5s\tremaining: 1h 16m 23s\n",
      "333:\tlearn: 0.1635190\ttest: 0.2569499\tbest: 0.2560691 (156)\ttotal: 51.6s\tremaining: 1h 16m 24s\n",
      "334:\tlearn: 0.1634811\ttest: 0.2569595\tbest: 0.2560691 (156)\ttotal: 51.8s\tremaining: 1h 16m 24s\n",
      "335:\tlearn: 0.1632086\ttest: 0.2570163\tbest: 0.2560691 (156)\ttotal: 51.9s\tremaining: 1h 16m 22s\n",
      "336:\tlearn: 0.1631309\ttest: 0.2569995\tbest: 0.2560691 (156)\ttotal: 52.1s\tremaining: 1h 16m 22s\n",
      "337:\tlearn: 0.1628865\ttest: 0.2569513\tbest: 0.2560691 (156)\ttotal: 52.2s\tremaining: 1h 16m 23s\n",
      "338:\tlearn: 0.1627668\ttest: 0.2569439\tbest: 0.2560691 (156)\ttotal: 52.4s\tremaining: 1h 16m 24s\n",
      "339:\tlearn: 0.1624367\ttest: 0.2569227\tbest: 0.2560691 (156)\ttotal: 52.6s\tremaining: 1h 16m 25s\n",
      "340:\tlearn: 0.1623595\ttest: 0.2569347\tbest: 0.2560691 (156)\ttotal: 52.7s\tremaining: 1h 16m 26s\n",
      "341:\tlearn: 0.1620905\ttest: 0.2569468\tbest: 0.2560691 (156)\ttotal: 52.9s\tremaining: 1h 16m 28s\n",
      "342:\tlearn: 0.1619572\ttest: 0.2569362\tbest: 0.2560691 (156)\ttotal: 53.1s\tremaining: 1h 16m 27s\n",
      "343:\tlearn: 0.1618338\ttest: 0.2569451\tbest: 0.2560691 (156)\ttotal: 53.2s\tremaining: 1h 16m 26s\n",
      "344:\tlearn: 0.1617604\ttest: 0.2569447\tbest: 0.2560691 (156)\ttotal: 53.3s\tremaining: 1h 16m 25s\n",
      "345:\tlearn: 0.1614624\ttest: 0.2569710\tbest: 0.2560691 (156)\ttotal: 53.5s\tremaining: 1h 16m 26s\n",
      "346:\tlearn: 0.1611958\ttest: 0.2570429\tbest: 0.2560691 (156)\ttotal: 53.7s\tremaining: 1h 16m 26s\n",
      "347:\tlearn: 0.1611118\ttest: 0.2570620\tbest: 0.2560691 (156)\ttotal: 53.8s\tremaining: 1h 16m 25s\n",
      "348:\tlearn: 0.1607269\ttest: 0.2570435\tbest: 0.2560691 (156)\ttotal: 54s\tremaining: 1h 16m 26s\n",
      "349:\tlearn: 0.1605333\ttest: 0.2570546\tbest: 0.2560691 (156)\ttotal: 54.1s\tremaining: 1h 16m 25s\n",
      "350:\tlearn: 0.1600823\ttest: 0.2570415\tbest: 0.2560691 (156)\ttotal: 54.3s\tremaining: 1h 16m 25s\n",
      "351:\tlearn: 0.1596454\ttest: 0.2571093\tbest: 0.2560691 (156)\ttotal: 54.4s\tremaining: 1h 16m 26s\n",
      "352:\tlearn: 0.1592432\ttest: 0.2571153\tbest: 0.2560691 (156)\ttotal: 54.6s\tremaining: 1h 16m 25s\n"
     ]
    },
    {
     "name": "stdout",
     "output_type": "stream",
     "text": [
      "353:\tlearn: 0.1589617\ttest: 0.2571220\tbest: 0.2560691 (156)\ttotal: 54.8s\tremaining: 1h 16m 25s\n",
      "354:\tlearn: 0.1588807\ttest: 0.2571135\tbest: 0.2560691 (156)\ttotal: 54.9s\tremaining: 1h 16m 25s\n",
      "355:\tlearn: 0.1585489\ttest: 0.2571246\tbest: 0.2560691 (156)\ttotal: 55.1s\tremaining: 1h 16m 26s\n",
      "356:\tlearn: 0.1583312\ttest: 0.2571262\tbest: 0.2560691 (156)\ttotal: 55.3s\tremaining: 1h 16m 28s\n",
      "357:\tlearn: 0.1581819\ttest: 0.2571442\tbest: 0.2560691 (156)\ttotal: 55.4s\tremaining: 1h 16m 27s\n",
      "358:\tlearn: 0.1580339\ttest: 0.2571565\tbest: 0.2560691 (156)\ttotal: 55.6s\tremaining: 1h 16m 27s\n",
      "359:\tlearn: 0.1578815\ttest: 0.2571167\tbest: 0.2560691 (156)\ttotal: 55.7s\tremaining: 1h 16m 29s\n",
      "360:\tlearn: 0.1575429\ttest: 0.2571251\tbest: 0.2560691 (156)\ttotal: 55.9s\tremaining: 1h 16m 28s\n",
      "361:\tlearn: 0.1574038\ttest: 0.2570997\tbest: 0.2560691 (156)\ttotal: 56s\tremaining: 1h 16m 28s\n",
      "362:\tlearn: 0.1573130\ttest: 0.2571088\tbest: 0.2560691 (156)\ttotal: 56.2s\tremaining: 1h 16m 27s\n",
      "363:\tlearn: 0.1569362\ttest: 0.2571233\tbest: 0.2560691 (156)\ttotal: 56.3s\tremaining: 1h 16m 27s\n",
      "364:\tlearn: 0.1567487\ttest: 0.2571556\tbest: 0.2560691 (156)\ttotal: 56.5s\tremaining: 1h 16m 27s\n",
      "365:\tlearn: 0.1565875\ttest: 0.2571619\tbest: 0.2560691 (156)\ttotal: 56.7s\tremaining: 1h 16m 28s\n",
      "366:\tlearn: 0.1564220\ttest: 0.2571442\tbest: 0.2560691 (156)\ttotal: 56.8s\tremaining: 1h 16m 29s\n",
      "367:\tlearn: 0.1559794\ttest: 0.2571377\tbest: 0.2560691 (156)\ttotal: 57s\tremaining: 1h 16m 30s\n",
      "368:\tlearn: 0.1557668\ttest: 0.2571351\tbest: 0.2560691 (156)\ttotal: 57.2s\tremaining: 1h 16m 29s\n",
      "369:\tlearn: 0.1556563\ttest: 0.2571197\tbest: 0.2560691 (156)\ttotal: 57.3s\tremaining: 1h 16m 30s\n",
      "370:\tlearn: 0.1555509\ttest: 0.2571234\tbest: 0.2560691 (156)\ttotal: 57.5s\tremaining: 1h 16m 30s\n",
      "371:\tlearn: 0.1553680\ttest: 0.2571356\tbest: 0.2560691 (156)\ttotal: 57.7s\tremaining: 1h 16m 31s\n",
      "372:\tlearn: 0.1551429\ttest: 0.2571835\tbest: 0.2560691 (156)\ttotal: 57.8s\tremaining: 1h 16m 32s\n",
      "373:\tlearn: 0.1550180\ttest: 0.2572036\tbest: 0.2560691 (156)\ttotal: 58s\tremaining: 1h 16m 30s\n",
      "374:\tlearn: 0.1548352\ttest: 0.2572187\tbest: 0.2560691 (156)\ttotal: 58.1s\tremaining: 1h 16m 30s\n",
      "375:\tlearn: 0.1546105\ttest: 0.2572612\tbest: 0.2560691 (156)\ttotal: 58.3s\tremaining: 1h 16m 29s\n",
      "376:\tlearn: 0.1545219\ttest: 0.2572700\tbest: 0.2560691 (156)\ttotal: 58.4s\tremaining: 1h 16m 29s\n",
      "377:\tlearn: 0.1543992\ttest: 0.2572795\tbest: 0.2560691 (156)\ttotal: 58.5s\tremaining: 1h 16m 28s\n",
      "378:\tlearn: 0.1542228\ttest: 0.2573129\tbest: 0.2560691 (156)\ttotal: 58.7s\tremaining: 1h 16m 28s\n",
      "379:\tlearn: 0.1541472\ttest: 0.2573015\tbest: 0.2560691 (156)\ttotal: 58.9s\tremaining: 1h 16m 29s\n",
      "380:\tlearn: 0.1538466\ttest: 0.2572706\tbest: 0.2560691 (156)\ttotal: 59s\tremaining: 1h 16m 29s\n",
      "381:\tlearn: 0.1535602\ttest: 0.2572558\tbest: 0.2560691 (156)\ttotal: 59.2s\tremaining: 1h 16m 29s\n",
      "382:\tlearn: 0.1533699\ttest: 0.2572668\tbest: 0.2560691 (156)\ttotal: 59.4s\tremaining: 1h 16m 30s\n",
      "383:\tlearn: 0.1529513\ttest: 0.2572760\tbest: 0.2560691 (156)\ttotal: 59.5s\tremaining: 1h 16m 31s\n",
      "384:\tlearn: 0.1527732\ttest: 0.2572896\tbest: 0.2560691 (156)\ttotal: 59.7s\tremaining: 1h 16m 32s\n",
      "385:\tlearn: 0.1527152\ttest: 0.2572928\tbest: 0.2560691 (156)\ttotal: 59.9s\tremaining: 1h 16m 33s\n",
      "386:\tlearn: 0.1526402\ttest: 0.2572729\tbest: 0.2560691 (156)\ttotal: 1m\tremaining: 1h 16m 32s\n",
      "387:\tlearn: 0.1524687\ttest: 0.2572503\tbest: 0.2560691 (156)\ttotal: 1m\tremaining: 1h 16m 32s\n",
      "388:\tlearn: 0.1522007\ttest: 0.2572777\tbest: 0.2560691 (156)\ttotal: 1m\tremaining: 1h 16m 32s\n",
      "389:\tlearn: 0.1520841\ttest: 0.2572780\tbest: 0.2560691 (156)\ttotal: 1m\tremaining: 1h 16m 33s\n",
      "390:\tlearn: 0.1517696\ttest: 0.2573880\tbest: 0.2560691 (156)\ttotal: 1m\tremaining: 1h 16m 32s\n",
      "391:\tlearn: 0.1516712\ttest: 0.2574015\tbest: 0.2560691 (156)\ttotal: 1m\tremaining: 1h 16m 32s\n",
      "392:\tlearn: 0.1512594\ttest: 0.2574050\tbest: 0.2560691 (156)\ttotal: 1m\tremaining: 1h 16m 34s\n",
      "393:\tlearn: 0.1511820\ttest: 0.2574052\tbest: 0.2560691 (156)\ttotal: 1m 1s\tremaining: 1h 16m 37s\n",
      "394:\tlearn: 0.1510517\ttest: 0.2574322\tbest: 0.2560691 (156)\ttotal: 1m 1s\tremaining: 1h 16m 36s\n",
      "395:\tlearn: 0.1508404\ttest: 0.2574979\tbest: 0.2560691 (156)\ttotal: 1m 1s\tremaining: 1h 16m 35s\n",
      "396:\tlearn: 0.1506511\ttest: 0.2574961\tbest: 0.2560691 (156)\ttotal: 1m 1s\tremaining: 1h 16m 34s\n",
      "397:\tlearn: 0.1503865\ttest: 0.2574495\tbest: 0.2560691 (156)\ttotal: 1m 1s\tremaining: 1h 16m 35s\n",
      "398:\tlearn: 0.1501832\ttest: 0.2574750\tbest: 0.2560691 (156)\ttotal: 1m 1s\tremaining: 1h 16m 34s\n",
      "399:\tlearn: 0.1500312\ttest: 0.2574800\tbest: 0.2560691 (156)\ttotal: 1m 2s\tremaining: 1h 16m 35s\n",
      "400:\tlearn: 0.1499075\ttest: 0.2574913\tbest: 0.2560691 (156)\ttotal: 1m 2s\tremaining: 1h 16m 37s\n",
      "401:\tlearn: 0.1495948\ttest: 0.2575133\tbest: 0.2560691 (156)\ttotal: 1m 2s\tremaining: 1h 16m 37s\n",
      "402:\tlearn: 0.1493329\ttest: 0.2574986\tbest: 0.2560691 (156)\ttotal: 1m 2s\tremaining: 1h 16m 38s\n",
      "403:\tlearn: 0.1490875\ttest: 0.2575087\tbest: 0.2560691 (156)\ttotal: 1m 2s\tremaining: 1h 16m 39s\n",
      "404:\tlearn: 0.1487741\ttest: 0.2575325\tbest: 0.2560691 (156)\ttotal: 1m 2s\tremaining: 1h 16m 40s\n",
      "405:\tlearn: 0.1485790\ttest: 0.2575474\tbest: 0.2560691 (156)\ttotal: 1m 3s\tremaining: 1h 16m 40s\n",
      "406:\tlearn: 0.1484926\ttest: 0.2575396\tbest: 0.2560691 (156)\ttotal: 1m 3s\tremaining: 1h 16m 39s\n",
      "407:\tlearn: 0.1482830\ttest: 0.2575450\tbest: 0.2560691 (156)\ttotal: 1m 3s\tremaining: 1h 16m 41s\n",
      "408:\tlearn: 0.1480844\ttest: 0.2575253\tbest: 0.2560691 (156)\ttotal: 1m 3s\tremaining: 1h 16m 42s\n",
      "409:\tlearn: 0.1477961\ttest: 0.2575532\tbest: 0.2560691 (156)\ttotal: 1m 3s\tremaining: 1h 16m 42s\n",
      "410:\tlearn: 0.1475667\ttest: 0.2575499\tbest: 0.2560691 (156)\ttotal: 1m 3s\tremaining: 1h 16m 42s\n",
      "411:\tlearn: 0.1474458\ttest: 0.2575486\tbest: 0.2560691 (156)\ttotal: 1m 4s\tremaining: 1h 16m 42s\n",
      "412:\tlearn: 0.1472443\ttest: 0.2575682\tbest: 0.2560691 (156)\ttotal: 1m 4s\tremaining: 1h 16m 42s\n",
      "413:\tlearn: 0.1471186\ttest: 0.2575556\tbest: 0.2560691 (156)\ttotal: 1m 4s\tremaining: 1h 16m 43s\n",
      "414:\tlearn: 0.1468302\ttest: 0.2575472\tbest: 0.2560691 (156)\ttotal: 1m 4s\tremaining: 1h 16m 44s\n",
      "415:\tlearn: 0.1465996\ttest: 0.2575543\tbest: 0.2560691 (156)\ttotal: 1m 4s\tremaining: 1h 16m 44s\n",
      "416:\tlearn: 0.1463204\ttest: 0.2575185\tbest: 0.2560691 (156)\ttotal: 1m 4s\tremaining: 1h 16m 44s\n",
      "417:\tlearn: 0.1460535\ttest: 0.2575093\tbest: 0.2560691 (156)\ttotal: 1m 5s\tremaining: 1h 16m 44s\n",
      "418:\tlearn: 0.1457955\ttest: 0.2575267\tbest: 0.2560691 (156)\ttotal: 1m 5s\tremaining: 1h 16m 44s\n",
      "419:\tlearn: 0.1454391\ttest: 0.2575074\tbest: 0.2560691 (156)\ttotal: 1m 5s\tremaining: 1h 16m 44s\n",
      "420:\tlearn: 0.1453222\ttest: 0.2575051\tbest: 0.2560691 (156)\ttotal: 1m 5s\tremaining: 1h 16m 44s\n",
      "421:\tlearn: 0.1452398\ttest: 0.2575244\tbest: 0.2560691 (156)\ttotal: 1m 5s\tremaining: 1h 16m 45s\n",
      "422:\tlearn: 0.1451971\ttest: 0.2575229\tbest: 0.2560691 (156)\ttotal: 1m 5s\tremaining: 1h 16m 45s\n",
      "423:\tlearn: 0.1450661\ttest: 0.2575060\tbest: 0.2560691 (156)\ttotal: 1m 6s\tremaining: 1h 16m 46s\n",
      "424:\tlearn: 0.1446728\ttest: 0.2575714\tbest: 0.2560691 (156)\ttotal: 1m 6s\tremaining: 1h 16m 45s\n",
      "425:\tlearn: 0.1445653\ttest: 0.2575998\tbest: 0.2560691 (156)\ttotal: 1m 6s\tremaining: 1h 16m 45s\n",
      "426:\tlearn: 0.1442810\ttest: 0.2576377\tbest: 0.2560691 (156)\ttotal: 1m 6s\tremaining: 1h 16m 47s\n",
      "427:\tlearn: 0.1441551\ttest: 0.2576314\tbest: 0.2560691 (156)\ttotal: 1m 6s\tremaining: 1h 16m 48s\n",
      "428:\tlearn: 0.1439133\ttest: 0.2576618\tbest: 0.2560691 (156)\ttotal: 1m 6s\tremaining: 1h 16m 49s\n",
      "429:\tlearn: 0.1437487\ttest: 0.2576569\tbest: 0.2560691 (156)\ttotal: 1m 7s\tremaining: 1h 16m 49s\n",
      "430:\tlearn: 0.1436775\ttest: 0.2576572\tbest: 0.2560691 (156)\ttotal: 1m 7s\tremaining: 1h 16m 50s\n",
      "431:\tlearn: 0.1435546\ttest: 0.2576594\tbest: 0.2560691 (156)\ttotal: 1m 7s\tremaining: 1h 16m 51s\n",
      "432:\tlearn: 0.1433281\ttest: 0.2576675\tbest: 0.2560691 (156)\ttotal: 1m 7s\tremaining: 1h 16m 53s\n",
      "433:\tlearn: 0.1431223\ttest: 0.2576765\tbest: 0.2560691 (156)\ttotal: 1m 7s\tremaining: 1h 16m 53s\n",
      "434:\tlearn: 0.1427832\ttest: 0.2576951\tbest: 0.2560691 (156)\ttotal: 1m 7s\tremaining: 1h 16m 53s\n",
      "435:\tlearn: 0.1425916\ttest: 0.2577055\tbest: 0.2560691 (156)\ttotal: 1m 8s\tremaining: 1h 16m 53s\n",
      "436:\tlearn: 0.1421728\ttest: 0.2577040\tbest: 0.2560691 (156)\ttotal: 1m 8s\tremaining: 1h 16m 53s\n",
      "437:\tlearn: 0.1421095\ttest: 0.2577022\tbest: 0.2560691 (156)\ttotal: 1m 8s\tremaining: 1h 16m 54s\n",
      "438:\tlearn: 0.1418534\ttest: 0.2577479\tbest: 0.2560691 (156)\ttotal: 1m 8s\tremaining: 1h 16m 54s\n",
      "439:\tlearn: 0.1416380\ttest: 0.2577538\tbest: 0.2560691 (156)\ttotal: 1m 8s\tremaining: 1h 16m 55s\n",
      "440:\tlearn: 0.1415533\ttest: 0.2577341\tbest: 0.2560691 (156)\ttotal: 1m 8s\tremaining: 1h 16m 56s\n"
     ]
    },
    {
     "name": "stdout",
     "output_type": "stream",
     "text": [
      "441:\tlearn: 0.1414177\ttest: 0.2577687\tbest: 0.2560691 (156)\ttotal: 1m 9s\tremaining: 1h 16m 55s\n",
      "442:\tlearn: 0.1413338\ttest: 0.2577595\tbest: 0.2560691 (156)\ttotal: 1m 9s\tremaining: 1h 16m 55s\n",
      "443:\tlearn: 0.1411997\ttest: 0.2577720\tbest: 0.2560691 (156)\ttotal: 1m 9s\tremaining: 1h 16m 54s\n",
      "444:\tlearn: 0.1410480\ttest: 0.2577833\tbest: 0.2560691 (156)\ttotal: 1m 9s\tremaining: 1h 16m 55s\n",
      "445:\tlearn: 0.1408507\ttest: 0.2577957\tbest: 0.2560691 (156)\ttotal: 1m 9s\tremaining: 1h 16m 56s\n",
      "446:\tlearn: 0.1407185\ttest: 0.2577779\tbest: 0.2560691 (156)\ttotal: 1m 9s\tremaining: 1h 16m 57s\n",
      "447:\tlearn: 0.1406147\ttest: 0.2577771\tbest: 0.2560691 (156)\ttotal: 1m 10s\tremaining: 1h 16m 59s\n",
      "448:\tlearn: 0.1405030\ttest: 0.2577809\tbest: 0.2560691 (156)\ttotal: 1m 10s\tremaining: 1h 16m 58s\n",
      "449:\tlearn: 0.1402915\ttest: 0.2577764\tbest: 0.2560691 (156)\ttotal: 1m 10s\tremaining: 1h 16m 59s\n",
      "450:\tlearn: 0.1399130\ttest: 0.2577823\tbest: 0.2560691 (156)\ttotal: 1m 10s\tremaining: 1h 16m 59s\n",
      "451:\tlearn: 0.1396393\ttest: 0.2577877\tbest: 0.2560691 (156)\ttotal: 1m 10s\tremaining: 1h 17m\n",
      "452:\tlearn: 0.1394813\ttest: 0.2577897\tbest: 0.2560691 (156)\ttotal: 1m 10s\tremaining: 1h 17m\n",
      "453:\tlearn: 0.1393263\ttest: 0.2577984\tbest: 0.2560691 (156)\ttotal: 1m 11s\tremaining: 1h 17m 1s\n",
      "454:\tlearn: 0.1392350\ttest: 0.2578179\tbest: 0.2560691 (156)\ttotal: 1m 11s\tremaining: 1h 17m\n",
      "455:\tlearn: 0.1389384\ttest: 0.2577712\tbest: 0.2560691 (156)\ttotal: 1m 11s\tremaining: 1h 17m\n",
      "456:\tlearn: 0.1387061\ttest: 0.2578144\tbest: 0.2560691 (156)\ttotal: 1m 11s\tremaining: 1h 16m 59s\n",
      "457:\tlearn: 0.1386374\ttest: 0.2578081\tbest: 0.2560691 (156)\ttotal: 1m 11s\tremaining: 1h 16m 59s\n",
      "458:\tlearn: 0.1385645\ttest: 0.2578080\tbest: 0.2560691 (156)\ttotal: 1m 11s\tremaining: 1h 17m\n",
      "459:\tlearn: 0.1384744\ttest: 0.2578159\tbest: 0.2560691 (156)\ttotal: 1m 11s\tremaining: 1h 17m\n",
      "460:\tlearn: 0.1383322\ttest: 0.2578420\tbest: 0.2560691 (156)\ttotal: 1m 12s\tremaining: 1h 16m 59s\n",
      "461:\tlearn: 0.1382245\ttest: 0.2578490\tbest: 0.2560691 (156)\ttotal: 1m 12s\tremaining: 1h 16m 58s\n",
      "462:\tlearn: 0.1379803\ttest: 0.2578820\tbest: 0.2560691 (156)\ttotal: 1m 12s\tremaining: 1h 16m 57s\n",
      "463:\tlearn: 0.1378447\ttest: 0.2579069\tbest: 0.2560691 (156)\ttotal: 1m 12s\tremaining: 1h 16m 57s\n",
      "464:\tlearn: 0.1377445\ttest: 0.2579091\tbest: 0.2560691 (156)\ttotal: 1m 12s\tremaining: 1h 16m 57s\n",
      "465:\tlearn: 0.1375502\ttest: 0.2578950\tbest: 0.2560691 (156)\ttotal: 1m 12s\tremaining: 1h 16m 57s\n",
      "466:\tlearn: 0.1373361\ttest: 0.2578980\tbest: 0.2560691 (156)\ttotal: 1m 13s\tremaining: 1h 16m 58s\n",
      "467:\tlearn: 0.1372372\ttest: 0.2579063\tbest: 0.2560691 (156)\ttotal: 1m 13s\tremaining: 1h 16m 59s\n",
      "468:\tlearn: 0.1370388\ttest: 0.2579348\tbest: 0.2560691 (156)\ttotal: 1m 13s\tremaining: 1h 17m\n",
      "469:\tlearn: 0.1368350\ttest: 0.2579414\tbest: 0.2560691 (156)\ttotal: 1m 13s\tremaining: 1h 17m\n",
      "470:\tlearn: 0.1367479\ttest: 0.2579445\tbest: 0.2560691 (156)\ttotal: 1m 13s\tremaining: 1h 16m 59s\n",
      "471:\tlearn: 0.1365465\ttest: 0.2579270\tbest: 0.2560691 (156)\ttotal: 1m 13s\tremaining: 1h 17m\n",
      "472:\tlearn: 0.1363371\ttest: 0.2579343\tbest: 0.2560691 (156)\ttotal: 1m 14s\tremaining: 1h 17m\n",
      "473:\tlearn: 0.1361169\ttest: 0.2579273\tbest: 0.2560691 (156)\ttotal: 1m 14s\tremaining: 1h 17m\n",
      "474:\tlearn: 0.1359751\ttest: 0.2579307\tbest: 0.2560691 (156)\ttotal: 1m 14s\tremaining: 1h 17m 2s\n",
      "475:\tlearn: 0.1358304\ttest: 0.2579378\tbest: 0.2560691 (156)\ttotal: 1m 14s\tremaining: 1h 17m 2s\n",
      "476:\tlearn: 0.1356824\ttest: 0.2579431\tbest: 0.2560691 (156)\ttotal: 1m 14s\tremaining: 1h 17m 3s\n",
      "477:\tlearn: 0.1354952\ttest: 0.2579572\tbest: 0.2560691 (156)\ttotal: 1m 14s\tremaining: 1h 17m 2s\n",
      "478:\tlearn: 0.1353997\ttest: 0.2579570\tbest: 0.2560691 (156)\ttotal: 1m 15s\tremaining: 1h 17m 3s\n",
      "479:\tlearn: 0.1350454\ttest: 0.2579016\tbest: 0.2560691 (156)\ttotal: 1m 15s\tremaining: 1h 17m 2s\n",
      "480:\tlearn: 0.1347237\ttest: 0.2579086\tbest: 0.2560691 (156)\ttotal: 1m 15s\tremaining: 1h 17m 1s\n",
      "481:\tlearn: 0.1345540\ttest: 0.2579059\tbest: 0.2560691 (156)\ttotal: 1m 15s\tremaining: 1h 17m\n",
      "482:\tlearn: 0.1343006\ttest: 0.2578924\tbest: 0.2560691 (156)\ttotal: 1m 15s\tremaining: 1h 17m\n",
      "483:\tlearn: 0.1342448\ttest: 0.2578845\tbest: 0.2560691 (156)\ttotal: 1m 15s\tremaining: 1h 17m\n",
      "484:\tlearn: 0.1340106\ttest: 0.2578881\tbest: 0.2560691 (156)\ttotal: 1m 15s\tremaining: 1h 17m 1s\n",
      "485:\tlearn: 0.1337730\ttest: 0.2578985\tbest: 0.2560691 (156)\ttotal: 1m 16s\tremaining: 1h 17m 2s\n",
      "486:\tlearn: 0.1336072\ttest: 0.2579233\tbest: 0.2560691 (156)\ttotal: 1m 16s\tremaining: 1h 17m 2s\n",
      "487:\tlearn: 0.1335332\ttest: 0.2579411\tbest: 0.2560691 (156)\ttotal: 1m 16s\tremaining: 1h 17m 3s\n",
      "488:\tlearn: 0.1333669\ttest: 0.2579594\tbest: 0.2560691 (156)\ttotal: 1m 16s\tremaining: 1h 17m 3s\n",
      "489:\tlearn: 0.1332770\ttest: 0.2579662\tbest: 0.2560691 (156)\ttotal: 1m 16s\tremaining: 1h 17m 3s\n",
      "490:\tlearn: 0.1329755\ttest: 0.2579552\tbest: 0.2560691 (156)\ttotal: 1m 16s\tremaining: 1h 17m 4s\n",
      "491:\tlearn: 0.1328081\ttest: 0.2579550\tbest: 0.2560691 (156)\ttotal: 1m 17s\tremaining: 1h 17m 5s\n",
      "492:\tlearn: 0.1327281\ttest: 0.2579611\tbest: 0.2560691 (156)\ttotal: 1m 17s\tremaining: 1h 17m 5s\n",
      "493:\tlearn: 0.1324855\ttest: 0.2579721\tbest: 0.2560691 (156)\ttotal: 1m 17s\tremaining: 1h 17m 5s\n",
      "494:\tlearn: 0.1323065\ttest: 0.2579824\tbest: 0.2560691 (156)\ttotal: 1m 17s\tremaining: 1h 17m 5s\n",
      "495:\tlearn: 0.1321845\ttest: 0.2579805\tbest: 0.2560691 (156)\ttotal: 1m 17s\tremaining: 1h 17m 5s\n",
      "496:\tlearn: 0.1319972\ttest: 0.2580052\tbest: 0.2560691 (156)\ttotal: 1m 17s\tremaining: 1h 17m 4s\n",
      "497:\tlearn: 0.1318868\ttest: 0.2579948\tbest: 0.2560691 (156)\ttotal: 1m 18s\tremaining: 1h 17m 4s\n",
      "498:\tlearn: 0.1318208\ttest: 0.2579911\tbest: 0.2560691 (156)\ttotal: 1m 18s\tremaining: 1h 17m 4s\n",
      "499:\tlearn: 0.1316306\ttest: 0.2580033\tbest: 0.2560691 (156)\ttotal: 1m 18s\tremaining: 1h 17m 4s\n",
      "500:\tlearn: 0.1314856\ttest: 0.2579900\tbest: 0.2560691 (156)\ttotal: 1m 18s\tremaining: 1h 17m 6s\n",
      "501:\tlearn: 0.1313838\ttest: 0.2579561\tbest: 0.2560691 (156)\ttotal: 1m 18s\tremaining: 1h 17m 9s\n",
      "502:\tlearn: 0.1312189\ttest: 0.2579541\tbest: 0.2560691 (156)\ttotal: 1m 18s\tremaining: 1h 17m 11s\n",
      "503:\tlearn: 0.1310936\ttest: 0.2579313\tbest: 0.2560691 (156)\ttotal: 1m 19s\tremaining: 1h 17m 12s\n",
      "504:\tlearn: 0.1310085\ttest: 0.2579269\tbest: 0.2560691 (156)\ttotal: 1m 19s\tremaining: 1h 17m 14s\n",
      "505:\tlearn: 0.1307044\ttest: 0.2579266\tbest: 0.2560691 (156)\ttotal: 1m 19s\tremaining: 1h 17m 14s\n",
      "506:\tlearn: 0.1304662\ttest: 0.2579190\tbest: 0.2560691 (156)\ttotal: 1m 19s\tremaining: 1h 17m 16s\n",
      "507:\tlearn: 0.1303326\ttest: 0.2578992\tbest: 0.2560691 (156)\ttotal: 1m 19s\tremaining: 1h 17m 17s\n",
      "508:\tlearn: 0.1302003\ttest: 0.2578810\tbest: 0.2560691 (156)\ttotal: 1m 20s\tremaining: 1h 17m 18s\n",
      "509:\tlearn: 0.1297863\ttest: 0.2578884\tbest: 0.2560691 (156)\ttotal: 1m 20s\tremaining: 1h 17m 18s\n",
      "510:\tlearn: 0.1296481\ttest: 0.2578801\tbest: 0.2560691 (156)\ttotal: 1m 20s\tremaining: 1h 17m 18s\n",
      "511:\tlearn: 0.1295620\ttest: 0.2578715\tbest: 0.2560691 (156)\ttotal: 1m 20s\tremaining: 1h 17m 18s\n",
      "512:\tlearn: 0.1292624\ttest: 0.2578775\tbest: 0.2560691 (156)\ttotal: 1m 20s\tremaining: 1h 17m 18s\n",
      "513:\tlearn: 0.1289211\ttest: 0.2578945\tbest: 0.2560691 (156)\ttotal: 1m 20s\tremaining: 1h 17m 18s\n",
      "514:\tlearn: 0.1288186\ttest: 0.2578978\tbest: 0.2560691 (156)\ttotal: 1m 21s\tremaining: 1h 17m 18s\n",
      "515:\tlearn: 0.1287876\ttest: 0.2578924\tbest: 0.2560691 (156)\ttotal: 1m 21s\tremaining: 1h 17m 18s\n",
      "516:\tlearn: 0.1285692\ttest: 0.2579222\tbest: 0.2560691 (156)\ttotal: 1m 21s\tremaining: 1h 17m 18s\n",
      "517:\tlearn: 0.1282674\ttest: 0.2579259\tbest: 0.2560691 (156)\ttotal: 1m 21s\tremaining: 1h 17m 20s\n",
      "518:\tlearn: 0.1278392\ttest: 0.2579285\tbest: 0.2560691 (156)\ttotal: 1m 21s\tremaining: 1h 17m 20s\n",
      "519:\tlearn: 0.1275591\ttest: 0.2579125\tbest: 0.2560691 (156)\ttotal: 1m 21s\tremaining: 1h 17m 20s\n",
      "520:\tlearn: 0.1274718\ttest: 0.2579228\tbest: 0.2560691 (156)\ttotal: 1m 22s\tremaining: 1h 17m 20s\n",
      "521:\tlearn: 0.1273293\ttest: 0.2579435\tbest: 0.2560691 (156)\ttotal: 1m 22s\tremaining: 1h 17m 20s\n",
      "522:\tlearn: 0.1271258\ttest: 0.2579633\tbest: 0.2560691 (156)\ttotal: 1m 22s\tremaining: 1h 17m 21s\n",
      "523:\tlearn: 0.1268530\ttest: 0.2579789\tbest: 0.2560691 (156)\ttotal: 1m 22s\tremaining: 1h 17m 22s\n",
      "524:\tlearn: 0.1267069\ttest: 0.2580143\tbest: 0.2560691 (156)\ttotal: 1m 22s\tremaining: 1h 17m 22s\n",
      "525:\tlearn: 0.1265107\ttest: 0.2580462\tbest: 0.2560691 (156)\ttotal: 1m 22s\tremaining: 1h 17m 22s\n",
      "526:\tlearn: 0.1263929\ttest: 0.2580557\tbest: 0.2560691 (156)\ttotal: 1m 22s\tremaining: 1h 17m 21s\n",
      "527:\tlearn: 0.1261399\ttest: 0.2580499\tbest: 0.2560691 (156)\ttotal: 1m 23s\tremaining: 1h 17m 20s\n",
      "528:\tlearn: 0.1260106\ttest: 0.2580743\tbest: 0.2560691 (156)\ttotal: 1m 23s\tremaining: 1h 17m 20s\n"
     ]
    },
    {
     "name": "stdout",
     "output_type": "stream",
     "text": [
      "529:\tlearn: 0.1258746\ttest: 0.2581178\tbest: 0.2560691 (156)\ttotal: 1m 23s\tremaining: 1h 17m 21s\n",
      "530:\tlearn: 0.1257320\ttest: 0.2581115\tbest: 0.2560691 (156)\ttotal: 1m 23s\tremaining: 1h 17m 22s\n",
      "531:\tlearn: 0.1254719\ttest: 0.2581000\tbest: 0.2560691 (156)\ttotal: 1m 23s\tremaining: 1h 17m 23s\n",
      "532:\tlearn: 0.1254121\ttest: 0.2580980\tbest: 0.2560691 (156)\ttotal: 1m 23s\tremaining: 1h 17m 23s\n",
      "533:\tlearn: 0.1251560\ttest: 0.2581256\tbest: 0.2560691 (156)\ttotal: 1m 24s\tremaining: 1h 17m 23s\n",
      "534:\tlearn: 0.1249695\ttest: 0.2581554\tbest: 0.2560691 (156)\ttotal: 1m 24s\tremaining: 1h 17m 23s\n",
      "535:\tlearn: 0.1249182\ttest: 0.2581526\tbest: 0.2560691 (156)\ttotal: 1m 24s\tremaining: 1h 17m 24s\n",
      "536:\tlearn: 0.1247164\ttest: 0.2581593\tbest: 0.2560691 (156)\ttotal: 1m 24s\tremaining: 1h 17m 24s\n",
      "537:\tlearn: 0.1245957\ttest: 0.2581592\tbest: 0.2560691 (156)\ttotal: 1m 24s\tremaining: 1h 17m 24s\n",
      "538:\tlearn: 0.1244086\ttest: 0.2581512\tbest: 0.2560691 (156)\ttotal: 1m 24s\tremaining: 1h 17m 25s\n",
      "539:\tlearn: 0.1242269\ttest: 0.2581507\tbest: 0.2560691 (156)\ttotal: 1m 25s\tremaining: 1h 17m 25s\n",
      "540:\tlearn: 0.1240509\ttest: 0.2581478\tbest: 0.2560691 (156)\ttotal: 1m 25s\tremaining: 1h 17m 25s\n",
      "541:\tlearn: 0.1237319\ttest: 0.2581495\tbest: 0.2560691 (156)\ttotal: 1m 25s\tremaining: 1h 17m 25s\n",
      "542:\tlearn: 0.1236448\ttest: 0.2581552\tbest: 0.2560691 (156)\ttotal: 1m 25s\tremaining: 1h 17m 25s\n",
      "543:\tlearn: 0.1232674\ttest: 0.2581932\tbest: 0.2560691 (156)\ttotal: 1m 25s\tremaining: 1h 17m 26s\n",
      "544:\tlearn: 0.1231690\ttest: 0.2581808\tbest: 0.2560691 (156)\ttotal: 1m 25s\tremaining: 1h 17m 26s\n",
      "545:\tlearn: 0.1229409\ttest: 0.2581480\tbest: 0.2560691 (156)\ttotal: 1m 26s\tremaining: 1h 17m 27s\n",
      "546:\tlearn: 0.1225640\ttest: 0.2581911\tbest: 0.2560691 (156)\ttotal: 1m 26s\tremaining: 1h 17m 27s\n",
      "547:\tlearn: 0.1223725\ttest: 0.2582119\tbest: 0.2560691 (156)\ttotal: 1m 26s\tremaining: 1h 17m 27s\n",
      "548:\tlearn: 0.1222556\ttest: 0.2582285\tbest: 0.2560691 (156)\ttotal: 1m 26s\tremaining: 1h 17m 28s\n",
      "549:\tlearn: 0.1219863\ttest: 0.2582412\tbest: 0.2560691 (156)\ttotal: 1m 26s\tremaining: 1h 17m 29s\n",
      "550:\tlearn: 0.1218836\ttest: 0.2582546\tbest: 0.2560691 (156)\ttotal: 1m 27s\tremaining: 1h 17m 29s\n",
      "551:\tlearn: 0.1217878\ttest: 0.2582532\tbest: 0.2560691 (156)\ttotal: 1m 27s\tremaining: 1h 17m 29s\n",
      "552:\tlearn: 0.1217588\ttest: 0.2582545\tbest: 0.2560691 (156)\ttotal: 1m 27s\tremaining: 1h 17m 30s\n",
      "553:\tlearn: 0.1217097\ttest: 0.2582807\tbest: 0.2560691 (156)\ttotal: 1m 27s\tremaining: 1h 17m 30s\n",
      "554:\tlearn: 0.1215611\ttest: 0.2583012\tbest: 0.2560691 (156)\ttotal: 1m 27s\tremaining: 1h 17m 31s\n",
      "555:\tlearn: 0.1213845\ttest: 0.2583238\tbest: 0.2560691 (156)\ttotal: 1m 27s\tremaining: 1h 17m 31s\n",
      "556:\tlearn: 0.1212646\ttest: 0.2583219\tbest: 0.2560691 (156)\ttotal: 1m 28s\tremaining: 1h 17m 32s\n",
      "557:\tlearn: 0.1212228\ttest: 0.2583209\tbest: 0.2560691 (156)\ttotal: 1m 28s\tremaining: 1h 17m 33s\n",
      "558:\tlearn: 0.1211430\ttest: 0.2583182\tbest: 0.2560691 (156)\ttotal: 1m 28s\tremaining: 1h 17m 34s\n",
      "559:\tlearn: 0.1209412\ttest: 0.2583119\tbest: 0.2560691 (156)\ttotal: 1m 28s\tremaining: 1h 17m 34s\n",
      "560:\tlearn: 0.1206919\ttest: 0.2583612\tbest: 0.2560691 (156)\ttotal: 1m 28s\tremaining: 1h 17m 34s\n",
      "561:\tlearn: 0.1205995\ttest: 0.2583511\tbest: 0.2560691 (156)\ttotal: 1m 28s\tremaining: 1h 17m 35s\n",
      "562:\tlearn: 0.1204034\ttest: 0.2583614\tbest: 0.2560691 (156)\ttotal: 1m 29s\tremaining: 1h 17m 35s\n",
      "563:\tlearn: 0.1203065\ttest: 0.2583850\tbest: 0.2560691 (156)\ttotal: 1m 29s\tremaining: 1h 17m 36s\n",
      "564:\tlearn: 0.1202208\ttest: 0.2583870\tbest: 0.2560691 (156)\ttotal: 1m 29s\tremaining: 1h 17m 37s\n",
      "565:\tlearn: 0.1199707\ttest: 0.2583561\tbest: 0.2560691 (156)\ttotal: 1m 29s\tremaining: 1h 17m 38s\n",
      "566:\tlearn: 0.1198906\ttest: 0.2583559\tbest: 0.2560691 (156)\ttotal: 1m 29s\tremaining: 1h 17m 38s\n",
      "567:\tlearn: 0.1197622\ttest: 0.2583583\tbest: 0.2560691 (156)\ttotal: 1m 29s\tremaining: 1h 17m 39s\n",
      "568:\tlearn: 0.1194263\ttest: 0.2583715\tbest: 0.2560691 (156)\ttotal: 1m 30s\tremaining: 1h 17m 38s\n",
      "569:\tlearn: 0.1192984\ttest: 0.2584139\tbest: 0.2560691 (156)\ttotal: 1m 30s\tremaining: 1h 17m 38s\n",
      "570:\tlearn: 0.1191970\ttest: 0.2584177\tbest: 0.2560691 (156)\ttotal: 1m 30s\tremaining: 1h 17m 37s\n",
      "571:\tlearn: 0.1189051\ttest: 0.2584186\tbest: 0.2560691 (156)\ttotal: 1m 30s\tremaining: 1h 17m 37s\n",
      "572:\tlearn: 0.1188421\ttest: 0.2584147\tbest: 0.2560691 (156)\ttotal: 1m 30s\tremaining: 1h 17m 37s\n",
      "573:\tlearn: 0.1188139\ttest: 0.2584202\tbest: 0.2560691 (156)\ttotal: 1m 30s\tremaining: 1h 17m 37s\n",
      "574:\tlearn: 0.1186554\ttest: 0.2583684\tbest: 0.2560691 (156)\ttotal: 1m 31s\tremaining: 1h 17m 39s\n",
      "575:\tlearn: 0.1184965\ttest: 0.2583726\tbest: 0.2560691 (156)\ttotal: 1m 31s\tremaining: 1h 17m 40s\n",
      "576:\tlearn: 0.1182125\ttest: 0.2584050\tbest: 0.2560691 (156)\ttotal: 1m 31s\tremaining: 1h 17m 40s\n",
      "577:\tlearn: 0.1180215\ttest: 0.2584077\tbest: 0.2560691 (156)\ttotal: 1m 31s\tremaining: 1h 17m 41s\n",
      "578:\tlearn: 0.1177955\ttest: 0.2584286\tbest: 0.2560691 (156)\ttotal: 1m 31s\tremaining: 1h 17m 41s\n",
      "579:\tlearn: 0.1176690\ttest: 0.2584378\tbest: 0.2560691 (156)\ttotal: 1m 31s\tremaining: 1h 17m 43s\n",
      "580:\tlearn: 0.1175956\ttest: 0.2584391\tbest: 0.2560691 (156)\ttotal: 1m 32s\tremaining: 1h 17m 44s\n",
      "581:\tlearn: 0.1175503\ttest: 0.2584498\tbest: 0.2560691 (156)\ttotal: 1m 32s\tremaining: 1h 17m 45s\n",
      "582:\tlearn: 0.1174703\ttest: 0.2584548\tbest: 0.2560691 (156)\ttotal: 1m 32s\tremaining: 1h 17m 44s\n",
      "583:\tlearn: 0.1173308\ttest: 0.2584610\tbest: 0.2560691 (156)\ttotal: 1m 32s\tremaining: 1h 17m 45s\n",
      "584:\tlearn: 0.1171251\ttest: 0.2584871\tbest: 0.2560691 (156)\ttotal: 1m 32s\tremaining: 1h 17m 45s\n",
      "585:\tlearn: 0.1169781\ttest: 0.2584941\tbest: 0.2560691 (156)\ttotal: 1m 32s\tremaining: 1h 17m 44s\n",
      "586:\tlearn: 0.1166141\ttest: 0.2585429\tbest: 0.2560691 (156)\ttotal: 1m 33s\tremaining: 1h 17m 44s\n",
      "587:\tlearn: 0.1163111\ttest: 0.2585652\tbest: 0.2560691 (156)\ttotal: 1m 33s\tremaining: 1h 17m 42s\n",
      "588:\tlearn: 0.1160190\ttest: 0.2585522\tbest: 0.2560691 (156)\ttotal: 1m 33s\tremaining: 1h 17m 43s\n",
      "589:\tlearn: 0.1158473\ttest: 0.2585029\tbest: 0.2560691 (156)\ttotal: 1m 33s\tremaining: 1h 17m 44s\n",
      "590:\tlearn: 0.1157385\ttest: 0.2585140\tbest: 0.2560691 (156)\ttotal: 1m 33s\tremaining: 1h 17m 43s\n",
      "591:\tlearn: 0.1155207\ttest: 0.2584893\tbest: 0.2560691 (156)\ttotal: 1m 33s\tremaining: 1h 17m 44s\n",
      "592:\tlearn: 0.1152986\ttest: 0.2584953\tbest: 0.2560691 (156)\ttotal: 1m 34s\tremaining: 1h 17m 44s\n",
      "593:\tlearn: 0.1151799\ttest: 0.2584934\tbest: 0.2560691 (156)\ttotal: 1m 34s\tremaining: 1h 17m 44s\n",
      "594:\tlearn: 0.1150001\ttest: 0.2585036\tbest: 0.2560691 (156)\ttotal: 1m 34s\tremaining: 1h 17m 44s\n",
      "595:\tlearn: 0.1149979\ttest: 0.2585014\tbest: 0.2560691 (156)\ttotal: 1m 34s\tremaining: 1h 17m 44s\n",
      "596:\tlearn: 0.1148995\ttest: 0.2584813\tbest: 0.2560691 (156)\ttotal: 1m 34s\tremaining: 1h 17m 44s\n",
      "597:\tlearn: 0.1146891\ttest: 0.2585255\tbest: 0.2560691 (156)\ttotal: 1m 34s\tremaining: 1h 17m 44s\n",
      "598:\tlearn: 0.1145307\ttest: 0.2585470\tbest: 0.2560691 (156)\ttotal: 1m 35s\tremaining: 1h 17m 43s\n",
      "599:\tlearn: 0.1142616\ttest: 0.2585542\tbest: 0.2560691 (156)\ttotal: 1m 35s\tremaining: 1h 17m 44s\n",
      "600:\tlearn: 0.1141706\ttest: 0.2585675\tbest: 0.2560691 (156)\ttotal: 1m 35s\tremaining: 1h 17m 45s\n",
      "601:\tlearn: 0.1138742\ttest: 0.2585660\tbest: 0.2560691 (156)\ttotal: 1m 35s\tremaining: 1h 17m 46s\n",
      "602:\tlearn: 0.1137141\ttest: 0.2585843\tbest: 0.2560691 (156)\ttotal: 1m 35s\tremaining: 1h 17m 47s\n",
      "603:\tlearn: 0.1136514\ttest: 0.2585788\tbest: 0.2560691 (156)\ttotal: 1m 35s\tremaining: 1h 17m 48s\n",
      "604:\tlearn: 0.1134381\ttest: 0.2585575\tbest: 0.2560691 (156)\ttotal: 1m 36s\tremaining: 1h 17m 49s\n",
      "605:\tlearn: 0.1133445\ttest: 0.2585525\tbest: 0.2560691 (156)\ttotal: 1m 36s\tremaining: 1h 17m 50s\n",
      "606:\tlearn: 0.1132096\ttest: 0.2585576\tbest: 0.2560691 (156)\ttotal: 1m 36s\tremaining: 1h 17m 51s\n",
      "607:\tlearn: 0.1130996\ttest: 0.2585560\tbest: 0.2560691 (156)\ttotal: 1m 36s\tremaining: 1h 17m 52s\n",
      "608:\tlearn: 0.1129937\ttest: 0.2585565\tbest: 0.2560691 (156)\ttotal: 1m 36s\tremaining: 1h 17m 54s\n",
      "609:\tlearn: 0.1128323\ttest: 0.2585861\tbest: 0.2560691 (156)\ttotal: 1m 37s\tremaining: 1h 17m 55s\n",
      "610:\tlearn: 0.1126019\ttest: 0.2585983\tbest: 0.2560691 (156)\ttotal: 1m 37s\tremaining: 1h 17m 57s\n",
      "611:\tlearn: 0.1122564\ttest: 0.2586370\tbest: 0.2560691 (156)\ttotal: 1m 37s\tremaining: 1h 17m 58s\n",
      "612:\tlearn: 0.1120337\ttest: 0.2586631\tbest: 0.2560691 (156)\ttotal: 1m 37s\tremaining: 1h 18m\n",
      "613:\tlearn: 0.1119322\ttest: 0.2586576\tbest: 0.2560691 (156)\ttotal: 1m 37s\tremaining: 1h 18m 1s\n",
      "614:\tlearn: 0.1117848\ttest: 0.2586566\tbest: 0.2560691 (156)\ttotal: 1m 37s\tremaining: 1h 18m 1s\n"
     ]
    },
    {
     "name": "stdout",
     "output_type": "stream",
     "text": [
      "615:\tlearn: 0.1117360\ttest: 0.2586528\tbest: 0.2560691 (156)\ttotal: 1m 38s\tremaining: 1h 18m 2s\n",
      "616:\tlearn: 0.1115552\ttest: 0.2586851\tbest: 0.2560691 (156)\ttotal: 1m 38s\tremaining: 1h 18m 3s\n",
      "617:\tlearn: 0.1112797\ttest: 0.2587052\tbest: 0.2560691 (156)\ttotal: 1m 38s\tremaining: 1h 18m 3s\n",
      "618:\tlearn: 0.1111826\ttest: 0.2587094\tbest: 0.2560691 (156)\ttotal: 1m 38s\tremaining: 1h 18m 2s\n",
      "619:\tlearn: 0.1110587\ttest: 0.2587307\tbest: 0.2560691 (156)\ttotal: 1m 38s\tremaining: 1h 18m 2s\n",
      "620:\tlearn: 0.1107751\ttest: 0.2587314\tbest: 0.2560691 (156)\ttotal: 1m 38s\tremaining: 1h 18m 1s\n",
      "621:\tlearn: 0.1105954\ttest: 0.2587127\tbest: 0.2560691 (156)\ttotal: 1m 39s\tremaining: 1h 18m 1s\n",
      "622:\tlearn: 0.1104766\ttest: 0.2587255\tbest: 0.2560691 (156)\ttotal: 1m 39s\tremaining: 1h 18m\n",
      "623:\tlearn: 0.1103738\ttest: 0.2587408\tbest: 0.2560691 (156)\ttotal: 1m 39s\tremaining: 1h 18m 1s\n",
      "624:\tlearn: 0.1101058\ttest: 0.2587017\tbest: 0.2560691 (156)\ttotal: 1m 39s\tremaining: 1h 18m\n",
      "625:\tlearn: 0.1100449\ttest: 0.2587029\tbest: 0.2560691 (156)\ttotal: 1m 39s\tremaining: 1h 18m\n",
      "626:\tlearn: 0.1098415\ttest: 0.2587252\tbest: 0.2560691 (156)\ttotal: 1m 39s\tremaining: 1h 18m\n",
      "627:\tlearn: 0.1097398\ttest: 0.2587289\tbest: 0.2560691 (156)\ttotal: 1m 40s\tremaining: 1h 17m 59s\n",
      "628:\tlearn: 0.1096096\ttest: 0.2587802\tbest: 0.2560691 (156)\ttotal: 1m 40s\tremaining: 1h 17m 59s\n",
      "629:\tlearn: 0.1095062\ttest: 0.2587874\tbest: 0.2560691 (156)\ttotal: 1m 40s\tremaining: 1h 18m\n",
      "630:\tlearn: 0.1094708\ttest: 0.2587952\tbest: 0.2560691 (156)\ttotal: 1m 40s\tremaining: 1h 18m\n",
      "631:\tlearn: 0.1093658\ttest: 0.2588092\tbest: 0.2560691 (156)\ttotal: 1m 40s\tremaining: 1h 18m\n",
      "632:\tlearn: 0.1092895\ttest: 0.2588146\tbest: 0.2560691 (156)\ttotal: 1m 40s\tremaining: 1h 18m\n",
      "633:\tlearn: 0.1091539\ttest: 0.2588137\tbest: 0.2560691 (156)\ttotal: 1m 41s\tremaining: 1h 17m 59s\n",
      "634:\tlearn: 0.1090746\ttest: 0.2588227\tbest: 0.2560691 (156)\ttotal: 1m 41s\tremaining: 1h 17m 59s\n",
      "635:\tlearn: 0.1088842\ttest: 0.2588459\tbest: 0.2560691 (156)\ttotal: 1m 41s\tremaining: 1h 17m 58s\n",
      "636:\tlearn: 0.1086748\ttest: 0.2588359\tbest: 0.2560691 (156)\ttotal: 1m 41s\tremaining: 1h 17m 58s\n",
      "637:\tlearn: 0.1086207\ttest: 0.2588466\tbest: 0.2560691 (156)\ttotal: 1m 41s\tremaining: 1h 17m 57s\n",
      "638:\tlearn: 0.1084751\ttest: 0.2588424\tbest: 0.2560691 (156)\ttotal: 1m 41s\tremaining: 1h 17m 57s\n",
      "639:\tlearn: 0.1083507\ttest: 0.2588498\tbest: 0.2560691 (156)\ttotal: 1m 41s\tremaining: 1h 17m 56s\n",
      "640:\tlearn: 0.1083107\ttest: 0.2588581\tbest: 0.2560691 (156)\ttotal: 1m 42s\tremaining: 1h 17m 56s\n",
      "641:\tlearn: 0.1082134\ttest: 0.2588570\tbest: 0.2560691 (156)\ttotal: 1m 42s\tremaining: 1h 17m 56s\n",
      "642:\tlearn: 0.1081534\ttest: 0.2588619\tbest: 0.2560691 (156)\ttotal: 1m 42s\tremaining: 1h 17m 56s\n",
      "643:\tlearn: 0.1079829\ttest: 0.2588700\tbest: 0.2560691 (156)\ttotal: 1m 42s\tremaining: 1h 17m 56s\n",
      "644:\tlearn: 0.1077391\ttest: 0.2588950\tbest: 0.2560691 (156)\ttotal: 1m 42s\tremaining: 1h 17m 55s\n",
      "645:\tlearn: 0.1075633\ttest: 0.2589153\tbest: 0.2560691 (156)\ttotal: 1m 42s\tremaining: 1h 17m 54s\n",
      "646:\tlearn: 0.1074666\ttest: 0.2589366\tbest: 0.2560691 (156)\ttotal: 1m 43s\tremaining: 1h 17m 54s\n",
      "647:\tlearn: 0.1073208\ttest: 0.2589290\tbest: 0.2560691 (156)\ttotal: 1m 43s\tremaining: 1h 17m 53s\n",
      "648:\tlearn: 0.1072455\ttest: 0.2589364\tbest: 0.2560691 (156)\ttotal: 1m 43s\tremaining: 1h 17m 53s\n",
      "649:\tlearn: 0.1071059\ttest: 0.2589271\tbest: 0.2560691 (156)\ttotal: 1m 43s\tremaining: 1h 17m 52s\n",
      "650:\tlearn: 0.1069213\ttest: 0.2589233\tbest: 0.2560691 (156)\ttotal: 1m 43s\tremaining: 1h 17m 51s\n",
      "651:\tlearn: 0.1068326\ttest: 0.2589215\tbest: 0.2560691 (156)\ttotal: 1m 43s\tremaining: 1h 17m 50s\n",
      "652:\tlearn: 0.1066272\ttest: 0.2589529\tbest: 0.2560691 (156)\ttotal: 1m 43s\tremaining: 1h 17m 50s\n",
      "653:\tlearn: 0.1065946\ttest: 0.2589421\tbest: 0.2560691 (156)\ttotal: 1m 44s\tremaining: 1h 17m 50s\n",
      "654:\tlearn: 0.1065122\ttest: 0.2589493\tbest: 0.2560691 (156)\ttotal: 1m 44s\tremaining: 1h 17m 49s\n",
      "655:\tlearn: 0.1064171\ttest: 0.2589504\tbest: 0.2560691 (156)\ttotal: 1m 44s\tremaining: 1h 17m 48s\n",
      "656:\tlearn: 0.1062323\ttest: 0.2589479\tbest: 0.2560691 (156)\ttotal: 1m 44s\tremaining: 1h 17m 48s\n",
      "Stopped by overfitting detector  (500 iterations wait)\n",
      "\n",
      "bestTest = 0.256069061\n",
      "bestIteration = 156\n",
      "\n",
      "Shrink model to first 157 iterations.\n"
     ]
    },
    {
     "data": {
      "text/plain": [
       "<catboost.core.CatBoostRegressor at 0x1aa4b77d6a0>"
      ]
     },
     "execution_count": 718,
     "metadata": {},
     "output_type": "execute_result"
    }
   ],
   "source": [
    "cat_fit = cat.CatBoostRegressor(use_best_model = True,\n",
    "                                iterations = 30000, \n",
    "                                depth = 12, \n",
    "                                learning_rate = 0.1,\n",
    "                                od_type = \"Iter\", \n",
    "                                od_wait = 500)\n",
    "\n",
    "cat_fit.fit(X_train_t, y_train, cat_features=test_cat_vars, eval_set = (X_test_t, y_test))"
   ]
  },
  {
   "cell_type": "markdown",
   "id": "17c6334d",
   "metadata": {},
   "source": [
    "# Criando o DF de entrada para fazer as previsões"
   ]
  },
  {
   "cell_type": "code",
   "execution_count": 719,
   "id": "8d9c4832",
   "metadata": {
    "ExecuteTime": {
     "end_time": "2022-05-06T16:40:15.700486Z",
     "start_time": "2022-05-06T16:40:15.648589Z"
    }
   },
   "outputs": [],
   "source": [
    "mask_ontem = ecm_vendas['data'] == ontem\n",
    "df_ontem = ecm_vendas[mask_ontem]\n",
    "\n",
    "df_pred = df_ontem.groupby(by = ['data', 'MÉDIO_CANAL', 'Código'], as_index=False).agg(\n",
    "    R_segunda = pd.NamedAgg(column = 'Vr Unitário', aggfunc='mean'),\n",
    "    vendas_segunda = pd.NamedAgg(column = 'Volume / Mês', aggfunc='sum'))"
   ]
  },
  {
   "cell_type": "code",
   "execution_count": 720,
   "id": "54d3e1e8",
   "metadata": {
    "ExecuteTime": {
     "end_time": "2022-05-06T16:40:17.541049Z",
     "start_time": "2022-05-06T16:40:17.512128Z"
    }
   },
   "outputs": [],
   "source": [
    "df_pred = df_pred.rename(columns = {'R_segunda' : 'R$_segunda'})\n",
    "df_pred['R$_segunda'] = df_pred['R$_segunda'].round(2)\n",
    "#Criando a coluna mês\n",
    "df_pred['Mês'] = df_pred['data'].apply(lambda x: x.month)"
   ]
  },
  {
   "cell_type": "code",
   "execution_count": 721,
   "id": "d70f9974",
   "metadata": {
    "ExecuteTime": {
     "end_time": "2022-05-06T16:40:21.245593Z",
     "start_time": "2022-05-06T16:40:21.190744Z"
    }
   },
   "outputs": [],
   "source": [
    "# Criando coluna com a semana do ano\n",
    "df_pred['semana'] = df_pred['data'].apply(lambda x: x.strftime(\"%U\"))\n",
    "df_pred['semana'] = df_pred['semana'].map(int)\n",
    "# Criando coluna com o dia 1 do mês de cada pedido\n",
    "df_pred['dia1_do_mês'] = [(data - (timedelta(data.day - 1))) for data in df_pred['data']]\n",
    "# Criando coluna com a semana do ano dia 1 daquele mês\n",
    "df_pred['semana_ano_dia1'] = [x.strftime(\"%U\") for x in df_pred['dia1_do_mês']]\n",
    "df_pred['semana_ano_dia1'] = df_pred['semana_ano_dia1'].map(int)\n",
    "# Criando coluna com o dia da semana do mês\n",
    "df_pred['weekday_dia1'] = df_pred['dia1_do_mês'].apply(lambda x: x.weekday())\n",
    "\n",
    "\n",
    "# Considerar primeira semana do mês apenas quando o primeiro dia da semana for segunda ou terça\n",
    "# Caso não seja, desconsiderar a primeira semana e manter a semana 2 como a primeira semana útil de compras\n",
    "# Em resumo, estamos considerando que a primeira segunda ou terça de cada mês caracteriza a semana 1 do mês\n",
    "def func_semana_corrigida(col1, col2):\n",
    "    if col1 == 6:\n",
    "        return col2\n",
    "    elif col1 > 1:\n",
    "        return col2 - 1\n",
    "    else:\n",
    "        return col2\n",
    "\n",
    "df_pred['semana_ano_corrigida'] = df_pred.apply(lambda x: func_semana_corrigida(x.weekday_dia1, x.semana), axis = 1)\n",
    "\n",
    "# Agora vamos subtrair a semana_ano_corrigida, pela semana_no_dia1 e somar uma\n",
    "# Com essa fórmula chegaremos a semana do mês que as compras foram feitas.\n",
    "def func_semana(col1, col2):\n",
    "    return col1 - col2 + 1\n",
    "\n",
    "df_pred['semana_mês'] = df_pred.apply(lambda x: func_semana(x.semana_ano_corrigida, x.semana_ano_dia1), axis = 1)\n",
    "\n",
    "# Criar a coluna feriado\n",
    "df_pred['feriado'] = 0\n",
    "df_pred.loc[(df_f['Ano'] == hoje.year) & (df_f['semana'] == '09'), 'feriado'] = 1\n",
    "df_pred.loc[(df_f['Ano'] == hoje.year) & (df_f['semana'] == '46'), 'feriado'] = 1"
   ]
  },
  {
   "cell_type": "code",
   "execution_count": 722,
   "id": "332fdf5a",
   "metadata": {
    "ExecuteTime": {
     "end_time": "2022-05-06T16:40:24.953940Z",
     "start_time": "2022-05-06T16:40:24.934961Z"
    }
   },
   "outputs": [
    {
     "name": "stderr",
     "output_type": "stream",
     "text": [
      "<ipython-input-722-4e67885111fd>:2: SettingWithCopyWarning: \n",
      "A value is trying to be set on a copy of a slice from a DataFrame.\n",
      "Try using .loc[row_indexer,col_indexer] = value instead\n",
      "\n",
      "See the caveats in the documentation: https://pandas.pydata.org/pandas-docs/stable/user_guide/indexing.html#returning-a-view-versus-a-copy\n",
      "  df_pred_final['Mês'] = df_pred_final['Mês'].map(str)\n",
      "<ipython-input-722-4e67885111fd>:3: SettingWithCopyWarning: \n",
      "A value is trying to be set on a copy of a slice from a DataFrame.\n",
      "Try using .loc[row_indexer,col_indexer] = value instead\n",
      "\n",
      "See the caveats in the documentation: https://pandas.pydata.org/pandas-docs/stable/user_guide/indexing.html#returning-a-view-versus-a-copy\n",
      "  df_pred_final['feriado'] = df_pred_final['feriado'].map(str)\n",
      "<ipython-input-722-4e67885111fd>:4: SettingWithCopyWarning: \n",
      "A value is trying to be set on a copy of a slice from a DataFrame.\n",
      "Try using .loc[row_indexer,col_indexer] = value instead\n",
      "\n",
      "See the caveats in the documentation: https://pandas.pydata.org/pandas-docs/stable/user_guide/indexing.html#returning-a-view-versus-a-copy\n",
      "  df_pred_final['semana_mês'] = df_pred_final['semana_mês'].map(str)\n"
     ]
    }
   ],
   "source": [
    "df_pred_final = df_pred[[ 'Código', 'MÉDIO_CANAL', 'R$_segunda', 'vendas_segunda', 'Mês', 'feriado', 'semana_mês' ]]\n",
    "df_pred_final['Mês'] = df_pred_final['Mês'].map(str)\n",
    "df_pred_final['feriado'] = df_pred_final['feriado'].map(str)\n",
    "df_pred_final['semana_mês'] = df_pred_final['semana_mês'].map(str)"
   ]
  },
  {
   "cell_type": "code",
   "execution_count": 723,
   "id": "46451581",
   "metadata": {
    "ExecuteTime": {
     "end_time": "2022-05-06T16:40:28.748186Z",
     "start_time": "2022-05-06T16:40:28.713316Z"
    }
   },
   "outputs": [
    {
     "name": "stderr",
     "output_type": "stream",
     "text": [
      "<ipython-input-723-9e73b26f2c4b>:1: SettingWithCopyWarning: \n",
      "A value is trying to be set on a copy of a slice from a DataFrame.\n",
      "Try using .loc[row_indexer,col_indexer] = value instead\n",
      "\n",
      "See the caveats in the documentation: https://pandas.pydata.org/pandas-docs/stable/user_guide/indexing.html#returning-a-view-versus-a-copy\n",
      "  df_pred_final['prev_part_seg'] = cat_fit.predict(df_pred_final[cat_fit.feature_names_])\n"
     ]
    }
   ],
   "source": [
    "df_pred_final['prev_part_seg'] = cat_fit.predict(df_pred_final[cat_fit.feature_names_])"
   ]
  },
  {
   "cell_type": "code",
   "execution_count": 750,
   "id": "210b6e0e",
   "metadata": {
    "ExecuteTime": {
     "end_time": "2022-05-06T16:51:40.818989Z",
     "start_time": "2022-05-06T16:51:40.775153Z"
    }
   },
   "outputs": [
    {
     "data": {
      "text/html": [
       "<div>\n",
       "<style scoped>\n",
       "    .dataframe tbody tr th:only-of-type {\n",
       "        vertical-align: middle;\n",
       "    }\n",
       "\n",
       "    .dataframe tbody tr th {\n",
       "        vertical-align: top;\n",
       "    }\n",
       "\n",
       "    .dataframe thead th {\n",
       "        text-align: right;\n",
       "    }\n",
       "</style>\n",
       "<table border=\"1\" class=\"dataframe\">\n",
       "  <thead>\n",
       "    <tr style=\"text-align: right;\">\n",
       "      <th></th>\n",
       "      <th>Código</th>\n",
       "      <th>MÉDIO_CANAL</th>\n",
       "      <th>R$_segunda</th>\n",
       "      <th>vendas_segunda</th>\n",
       "      <th>Mês</th>\n",
       "      <th>feriado</th>\n",
       "      <th>semana_mês</th>\n",
       "      <th>previsão demanda</th>\n",
       "    </tr>\n",
       "  </thead>\n",
       "  <tbody>\n",
       "    <tr>\n",
       "      <th>0</th>\n",
       "      <td>100498</td>\n",
       "      <td>AMAZON</td>\n",
       "      <td>141.44</td>\n",
       "      <td>1.0</td>\n",
       "      <td>4</td>\n",
       "      <td>0</td>\n",
       "      <td>4</td>\n",
       "      <td>1.0</td>\n",
       "    </tr>\n",
       "    <tr>\n",
       "      <th>1</th>\n",
       "      <td>100499</td>\n",
       "      <td>AMAZON</td>\n",
       "      <td>144.73</td>\n",
       "      <td>1.0</td>\n",
       "      <td>4</td>\n",
       "      <td>0</td>\n",
       "      <td>4</td>\n",
       "      <td>2.0</td>\n",
       "    </tr>\n",
       "    <tr>\n",
       "      <th>2</th>\n",
       "      <td>100681</td>\n",
       "      <td>AMAZON</td>\n",
       "      <td>199.78</td>\n",
       "      <td>1.0</td>\n",
       "      <td>4</td>\n",
       "      <td>0</td>\n",
       "      <td>4</td>\n",
       "      <td>2.0</td>\n",
       "    </tr>\n",
       "    <tr>\n",
       "      <th>3</th>\n",
       "      <td>100840</td>\n",
       "      <td>AMAZON</td>\n",
       "      <td>195.83</td>\n",
       "      <td>1.0</td>\n",
       "      <td>4</td>\n",
       "      <td>0</td>\n",
       "      <td>4</td>\n",
       "      <td>2.0</td>\n",
       "    </tr>\n",
       "    <tr>\n",
       "      <th>4</th>\n",
       "      <td>100957</td>\n",
       "      <td>AMAZON</td>\n",
       "      <td>31.66</td>\n",
       "      <td>13.0</td>\n",
       "      <td>4</td>\n",
       "      <td>0</td>\n",
       "      <td>4</td>\n",
       "      <td>24.0</td>\n",
       "    </tr>\n",
       "    <tr>\n",
       "      <th>...</th>\n",
       "      <td>...</td>\n",
       "      <td>...</td>\n",
       "      <td>...</td>\n",
       "      <td>...</td>\n",
       "      <td>...</td>\n",
       "      <td>...</td>\n",
       "      <td>...</td>\n",
       "      <td>...</td>\n",
       "    </tr>\n",
       "    <tr>\n",
       "      <th>338</th>\n",
       "      <td>121122</td>\n",
       "      <td>SITE</td>\n",
       "      <td>727.39</td>\n",
       "      <td>1.0</td>\n",
       "      <td>4</td>\n",
       "      <td>0</td>\n",
       "      <td>4</td>\n",
       "      <td>1.0</td>\n",
       "    </tr>\n",
       "    <tr>\n",
       "      <th>339</th>\n",
       "      <td>121604</td>\n",
       "      <td>SITE</td>\n",
       "      <td>45.82</td>\n",
       "      <td>1.0</td>\n",
       "      <td>4</td>\n",
       "      <td>0</td>\n",
       "      <td>4</td>\n",
       "      <td>1.0</td>\n",
       "    </tr>\n",
       "    <tr>\n",
       "      <th>340</th>\n",
       "      <td>122655</td>\n",
       "      <td>SITE</td>\n",
       "      <td>155.31</td>\n",
       "      <td>1.0</td>\n",
       "      <td>4</td>\n",
       "      <td>0</td>\n",
       "      <td>4</td>\n",
       "      <td>1.0</td>\n",
       "    </tr>\n",
       "    <tr>\n",
       "      <th>341</th>\n",
       "      <td>124398</td>\n",
       "      <td>SITE</td>\n",
       "      <td>171.65</td>\n",
       "      <td>1.0</td>\n",
       "      <td>4</td>\n",
       "      <td>0</td>\n",
       "      <td>4</td>\n",
       "      <td>1.0</td>\n",
       "    </tr>\n",
       "    <tr>\n",
       "      <th>342</th>\n",
       "      <td>124401</td>\n",
       "      <td>SITE</td>\n",
       "      <td>730.33</td>\n",
       "      <td>1.0</td>\n",
       "      <td>4</td>\n",
       "      <td>0</td>\n",
       "      <td>4</td>\n",
       "      <td>1.0</td>\n",
       "    </tr>\n",
       "  </tbody>\n",
       "</table>\n",
       "<p>343 rows × 8 columns</p>\n",
       "</div>"
      ],
      "text/plain": [
       "     Código MÉDIO_CANAL  R$_segunda  vendas_segunda Mês feriado semana_mês  \\\n",
       "0    100498      AMAZON      141.44             1.0   4       0          4   \n",
       "1    100499      AMAZON      144.73             1.0   4       0          4   \n",
       "2    100681      AMAZON      199.78             1.0   4       0          4   \n",
       "3    100840      AMAZON      195.83             1.0   4       0          4   \n",
       "4    100957      AMAZON       31.66            13.0   4       0          4   \n",
       "..      ...         ...         ...             ...  ..     ...        ...   \n",
       "338  121122        SITE      727.39             1.0   4       0          4   \n",
       "339  121604        SITE       45.82             1.0   4       0          4   \n",
       "340  122655        SITE      155.31             1.0   4       0          4   \n",
       "341  124398        SITE      171.65             1.0   4       0          4   \n",
       "342  124401        SITE      730.33             1.0   4       0          4   \n",
       "\n",
       "     previsão demanda  \n",
       "0                 1.0  \n",
       "1                 2.0  \n",
       "2                 2.0  \n",
       "3                 2.0  \n",
       "4                24.0  \n",
       "..                ...  \n",
       "338               1.0  \n",
       "339               1.0  \n",
       "340               1.0  \n",
       "341               1.0  \n",
       "342               1.0  \n",
       "\n",
       "[343 rows x 8 columns]"
      ]
     },
     "execution_count": 750,
     "metadata": {},
     "output_type": "execute_result"
    }
   ],
   "source": [
    "df_pred_final"
   ]
  },
  {
   "cell_type": "code",
   "execution_count": 725,
   "id": "876cecc6",
   "metadata": {
    "ExecuteTime": {
     "end_time": "2022-05-06T16:40:37.564997Z",
     "start_time": "2022-05-06T16:40:37.542060Z"
    }
   },
   "outputs": [
    {
     "name": "stderr",
     "output_type": "stream",
     "text": [
      "<ipython-input-725-ea8fb819f6b4>:1: SettingWithCopyWarning: \n",
      "A value is trying to be set on a copy of a slice from a DataFrame.\n",
      "Try using .loc[row_indexer,col_indexer] = value instead\n",
      "\n",
      "See the caveats in the documentation: https://pandas.pydata.org/pandas-docs/stable/user_guide/indexing.html#returning-a-view-versus-a-copy\n",
      "  df_pred_final['previsão demanda'] = round((df_pred_final['vendas_segunda'] / df_pred_final['prev_part_seg']),0)\n"
     ]
    }
   ],
   "source": [
    "df_pred_final['previsão demanda'] = round((df_pred_final['vendas_segunda'] / df_pred_final['prev_part_seg']),0)"
   ]
  },
  {
   "cell_type": "code",
   "execution_count": 729,
   "id": "9ae18e2f",
   "metadata": {
    "ExecuteTime": {
     "end_time": "2022-05-06T16:41:51.972011Z",
     "start_time": "2022-05-06T16:41:51.965926Z"
    }
   },
   "outputs": [],
   "source": [
    "df_pred_final = df_pred_final.drop(columns = 'prev_part_seg')"
   ]
  },
  {
   "cell_type": "code",
   "execution_count": 749,
   "id": "331fe5ef",
   "metadata": {
    "ExecuteTime": {
     "end_time": "2022-05-06T16:51:35.404815Z",
     "start_time": "2022-05-06T16:51:35.390852Z"
    }
   },
   "outputs": [
    {
     "data": {
      "text/html": [
       "<div>\n",
       "<style scoped>\n",
       "    .dataframe tbody tr th:only-of-type {\n",
       "        vertical-align: middle;\n",
       "    }\n",
       "\n",
       "    .dataframe tbody tr th {\n",
       "        vertical-align: top;\n",
       "    }\n",
       "\n",
       "    .dataframe thead th {\n",
       "        text-align: right;\n",
       "    }\n",
       "</style>\n",
       "<table border=\"1\" class=\"dataframe\">\n",
       "  <thead>\n",
       "    <tr style=\"text-align: right;\">\n",
       "      <th></th>\n",
       "      <th>Código</th>\n",
       "      <th>MÉDIO_CANAL</th>\n",
       "      <th>R$_segunda</th>\n",
       "      <th>vendas_segunda</th>\n",
       "      <th>Mês</th>\n",
       "      <th>feriado</th>\n",
       "      <th>semana_mês</th>\n",
       "      <th>previsão demanda</th>\n",
       "    </tr>\n",
       "  </thead>\n",
       "  <tbody>\n",
       "    <tr>\n",
       "      <th>76</th>\n",
       "      <td>100097</td>\n",
       "      <td>MERCADO LIVRE</td>\n",
       "      <td>553.14</td>\n",
       "      <td>14.0</td>\n",
       "      <td>4</td>\n",
       "      <td>0</td>\n",
       "      <td>4</td>\n",
       "      <td>35.0</td>\n",
       "    </tr>\n",
       "    <tr>\n",
       "      <th>131</th>\n",
       "      <td>100097</td>\n",
       "      <td>MERCADO LIVRE FULL</td>\n",
       "      <td>654.14</td>\n",
       "      <td>18.0</td>\n",
       "      <td>4</td>\n",
       "      <td>0</td>\n",
       "      <td>4</td>\n",
       "      <td>47.0</td>\n",
       "    </tr>\n",
       "    <tr>\n",
       "      <th>237</th>\n",
       "      <td>100097</td>\n",
       "      <td>RMA</td>\n",
       "      <td>649.13</td>\n",
       "      <td>2.0</td>\n",
       "      <td>4</td>\n",
       "      <td>0</td>\n",
       "      <td>4</td>\n",
       "      <td>4.0</td>\n",
       "    </tr>\n",
       "    <tr>\n",
       "      <th>287</th>\n",
       "      <td>100097</td>\n",
       "      <td>SITE</td>\n",
       "      <td>180.00</td>\n",
       "      <td>1.0</td>\n",
       "      <td>4</td>\n",
       "      <td>0</td>\n",
       "      <td>4</td>\n",
       "      <td>3.0</td>\n",
       "    </tr>\n",
       "  </tbody>\n",
       "</table>\n",
       "</div>"
      ],
      "text/plain": [
       "     Código         MÉDIO_CANAL  R$_segunda  vendas_segunda Mês feriado  \\\n",
       "76   100097       MERCADO LIVRE      553.14            14.0   4       0   \n",
       "131  100097  MERCADO LIVRE FULL      654.14            18.0   4       0   \n",
       "237  100097                 RMA      649.13             2.0   4       0   \n",
       "287  100097                SITE      180.00             1.0   4       0   \n",
       "\n",
       "    semana_mês  previsão demanda  \n",
       "76           4              35.0  \n",
       "131          4              47.0  \n",
       "237          4               4.0  \n",
       "287          4               3.0  "
      ]
     },
     "execution_count": 749,
     "metadata": {},
     "output_type": "execute_result"
    }
   ],
   "source": [
    "df_pred_final[df_pred_final['Código'] == '100097']"
   ]
  },
  {
   "cell_type": "markdown",
   "id": "6e94af6e",
   "metadata": {},
   "source": [
    "# Comparando a previsão com os valores reais"
   ]
  },
  {
   "cell_type": "code",
   "execution_count": 736,
   "id": "187e53d1",
   "metadata": {
    "ExecuteTime": {
     "end_time": "2022-05-06T16:45:24.922813Z",
     "start_time": "2022-05-06T16:45:24.878931Z"
    }
   },
   "outputs": [],
   "source": [
    "mask_confirm = ecm_full['Data Emissão'] > '2022-04-24'\n",
    "df_c = ecm_full[mask_confirm]\n",
    "\n",
    "mask_confirm_1 = df_c['Data Emissão'] < '2022-04-30'\n",
    "df_c = df_c[mask_confirm_1]"
   ]
  },
  {
   "cell_type": "code",
   "execution_count": 742,
   "id": "3fd6880a",
   "metadata": {
    "ExecuteTime": {
     "end_time": "2022-05-06T16:47:52.939689Z",
     "start_time": "2022-05-06T16:47:52.904786Z"
    }
   },
   "outputs": [],
   "source": [
    "df_ve_re = df_c.groupby(by = ['Código', 'MÉDIO_CANAL'], as_index = False).agg( Vendas_reais = pd.NamedAgg(column = 'Volume / Mês', \n",
    "                                                                                               aggfunc = 'sum'))"
   ]
  },
  {
   "cell_type": "code",
   "execution_count": 744,
   "id": "75fb5b1d",
   "metadata": {
    "ExecuteTime": {
     "end_time": "2022-05-06T16:49:45.186670Z",
     "start_time": "2022-05-06T16:49:45.170715Z"
    }
   },
   "outputs": [],
   "source": [
    "df_wMAPE = df_pred_final.merge(df_ve_re, on = ['Código', 'MÉDIO_CANAL'], how = 'left')"
   ]
  },
  {
   "cell_type": "code",
   "execution_count": 751,
   "id": "68a2081b",
   "metadata": {
    "ExecuteTime": {
     "end_time": "2022-05-06T16:51:51.820565Z",
     "start_time": "2022-05-06T16:51:51.792604Z"
    }
   },
   "outputs": [
    {
     "data": {
      "text/html": [
       "<div>\n",
       "<style scoped>\n",
       "    .dataframe tbody tr th:only-of-type {\n",
       "        vertical-align: middle;\n",
       "    }\n",
       "\n",
       "    .dataframe tbody tr th {\n",
       "        vertical-align: top;\n",
       "    }\n",
       "\n",
       "    .dataframe thead th {\n",
       "        text-align: right;\n",
       "    }\n",
       "</style>\n",
       "<table border=\"1\" class=\"dataframe\">\n",
       "  <thead>\n",
       "    <tr style=\"text-align: right;\">\n",
       "      <th></th>\n",
       "      <th>Código</th>\n",
       "      <th>MÉDIO_CANAL</th>\n",
       "      <th>R$_segunda</th>\n",
       "      <th>vendas_segunda</th>\n",
       "      <th>Mês</th>\n",
       "      <th>feriado</th>\n",
       "      <th>semana_mês</th>\n",
       "      <th>previsão demanda</th>\n",
       "      <th>Vendas_reais</th>\n",
       "    </tr>\n",
       "  </thead>\n",
       "  <tbody>\n",
       "    <tr>\n",
       "      <th>76</th>\n",
       "      <td>100097</td>\n",
       "      <td>MERCADO LIVRE</td>\n",
       "      <td>553.14</td>\n",
       "      <td>14.0</td>\n",
       "      <td>4</td>\n",
       "      <td>0</td>\n",
       "      <td>4</td>\n",
       "      <td>35.0</td>\n",
       "      <td>14.0</td>\n",
       "    </tr>\n",
       "    <tr>\n",
       "      <th>131</th>\n",
       "      <td>100097</td>\n",
       "      <td>MERCADO LIVRE FULL</td>\n",
       "      <td>654.14</td>\n",
       "      <td>18.0</td>\n",
       "      <td>4</td>\n",
       "      <td>0</td>\n",
       "      <td>4</td>\n",
       "      <td>47.0</td>\n",
       "      <td>57.0</td>\n",
       "    </tr>\n",
       "    <tr>\n",
       "      <th>237</th>\n",
       "      <td>100097</td>\n",
       "      <td>RMA</td>\n",
       "      <td>649.13</td>\n",
       "      <td>2.0</td>\n",
       "      <td>4</td>\n",
       "      <td>0</td>\n",
       "      <td>4</td>\n",
       "      <td>4.0</td>\n",
       "      <td>2.0</td>\n",
       "    </tr>\n",
       "    <tr>\n",
       "      <th>287</th>\n",
       "      <td>100097</td>\n",
       "      <td>SITE</td>\n",
       "      <td>180.00</td>\n",
       "      <td>1.0</td>\n",
       "      <td>4</td>\n",
       "      <td>0</td>\n",
       "      <td>4</td>\n",
       "      <td>3.0</td>\n",
       "      <td>1.0</td>\n",
       "    </tr>\n",
       "  </tbody>\n",
       "</table>\n",
       "</div>"
      ],
      "text/plain": [
       "     Código         MÉDIO_CANAL  R$_segunda  vendas_segunda Mês feriado  \\\n",
       "76   100097       MERCADO LIVRE      553.14            14.0   4       0   \n",
       "131  100097  MERCADO LIVRE FULL      654.14            18.0   4       0   \n",
       "237  100097                 RMA      649.13             2.0   4       0   \n",
       "287  100097                SITE      180.00             1.0   4       0   \n",
       "\n",
       "    semana_mês  previsão demanda  Vendas_reais  \n",
       "76           4              35.0          14.0  \n",
       "131          4              47.0          57.0  \n",
       "237          4               4.0           2.0  \n",
       "287          4               3.0           1.0  "
      ]
     },
     "execution_count": 751,
     "metadata": {},
     "output_type": "execute_result"
    }
   ],
   "source": [
    "df_wMAPE[df_wMAPE['Código'] == '100097']"
   ]
  },
  {
   "cell_type": "markdown",
   "id": "340405f9",
   "metadata": {},
   "source": [
    "# Calculando o wMAPE para ver a assertividade real do modelo"
   ]
  },
  {
   "cell_type": "code",
   "execution_count": 752,
   "id": "eb26c85a",
   "metadata": {
    "ExecuteTime": {
     "end_time": "2022-05-06T16:54:53.736292Z",
     "start_time": "2022-05-06T16:54:53.722297Z"
    }
   },
   "outputs": [],
   "source": [
    "df_wMAPE['erro_absoluto'] = df_wMAPE['Vendas_reais'] - df_wMAPE['previsão demanda']"
   ]
  },
  {
   "cell_type": "code",
   "execution_count": 753,
   "id": "68c53ac4",
   "metadata": {
    "ExecuteTime": {
     "end_time": "2022-05-06T16:54:56.764819Z",
     "start_time": "2022-05-06T16:54:56.733907Z"
    }
   },
   "outputs": [
    {
     "data": {
      "text/html": [
       "<div>\n",
       "<style scoped>\n",
       "    .dataframe tbody tr th:only-of-type {\n",
       "        vertical-align: middle;\n",
       "    }\n",
       "\n",
       "    .dataframe tbody tr th {\n",
       "        vertical-align: top;\n",
       "    }\n",
       "\n",
       "    .dataframe thead th {\n",
       "        text-align: right;\n",
       "    }\n",
       "</style>\n",
       "<table border=\"1\" class=\"dataframe\">\n",
       "  <thead>\n",
       "    <tr style=\"text-align: right;\">\n",
       "      <th></th>\n",
       "      <th>Código</th>\n",
       "      <th>MÉDIO_CANAL</th>\n",
       "      <th>R$_segunda</th>\n",
       "      <th>vendas_segunda</th>\n",
       "      <th>Mês</th>\n",
       "      <th>feriado</th>\n",
       "      <th>semana_mês</th>\n",
       "      <th>previsão demanda</th>\n",
       "      <th>Vendas_reais</th>\n",
       "      <th>erro_absoluto</th>\n",
       "    </tr>\n",
       "  </thead>\n",
       "  <tbody>\n",
       "    <tr>\n",
       "      <th>0</th>\n",
       "      <td>100498</td>\n",
       "      <td>AMAZON</td>\n",
       "      <td>141.44</td>\n",
       "      <td>1.0</td>\n",
       "      <td>4</td>\n",
       "      <td>0</td>\n",
       "      <td>4</td>\n",
       "      <td>1.0</td>\n",
       "      <td>2.0</td>\n",
       "      <td>1.0</td>\n",
       "    </tr>\n",
       "    <tr>\n",
       "      <th>1</th>\n",
       "      <td>100499</td>\n",
       "      <td>AMAZON</td>\n",
       "      <td>144.73</td>\n",
       "      <td>1.0</td>\n",
       "      <td>4</td>\n",
       "      <td>0</td>\n",
       "      <td>4</td>\n",
       "      <td>2.0</td>\n",
       "      <td>2.0</td>\n",
       "      <td>0.0</td>\n",
       "    </tr>\n",
       "    <tr>\n",
       "      <th>2</th>\n",
       "      <td>100681</td>\n",
       "      <td>AMAZON</td>\n",
       "      <td>199.78</td>\n",
       "      <td>1.0</td>\n",
       "      <td>4</td>\n",
       "      <td>0</td>\n",
       "      <td>4</td>\n",
       "      <td>2.0</td>\n",
       "      <td>7.0</td>\n",
       "      <td>5.0</td>\n",
       "    </tr>\n",
       "    <tr>\n",
       "      <th>3</th>\n",
       "      <td>100840</td>\n",
       "      <td>AMAZON</td>\n",
       "      <td>195.83</td>\n",
       "      <td>1.0</td>\n",
       "      <td>4</td>\n",
       "      <td>0</td>\n",
       "      <td>4</td>\n",
       "      <td>2.0</td>\n",
       "      <td>2.0</td>\n",
       "      <td>0.0</td>\n",
       "    </tr>\n",
       "    <tr>\n",
       "      <th>4</th>\n",
       "      <td>100957</td>\n",
       "      <td>AMAZON</td>\n",
       "      <td>31.66</td>\n",
       "      <td>13.0</td>\n",
       "      <td>4</td>\n",
       "      <td>0</td>\n",
       "      <td>4</td>\n",
       "      <td>24.0</td>\n",
       "      <td>13.0</td>\n",
       "      <td>-11.0</td>\n",
       "    </tr>\n",
       "    <tr>\n",
       "      <th>...</th>\n",
       "      <td>...</td>\n",
       "      <td>...</td>\n",
       "      <td>...</td>\n",
       "      <td>...</td>\n",
       "      <td>...</td>\n",
       "      <td>...</td>\n",
       "      <td>...</td>\n",
       "      <td>...</td>\n",
       "      <td>...</td>\n",
       "      <td>...</td>\n",
       "    </tr>\n",
       "    <tr>\n",
       "      <th>338</th>\n",
       "      <td>121122</td>\n",
       "      <td>SITE</td>\n",
       "      <td>727.39</td>\n",
       "      <td>1.0</td>\n",
       "      <td>4</td>\n",
       "      <td>0</td>\n",
       "      <td>4</td>\n",
       "      <td>1.0</td>\n",
       "      <td>1.0</td>\n",
       "      <td>0.0</td>\n",
       "    </tr>\n",
       "    <tr>\n",
       "      <th>339</th>\n",
       "      <td>121604</td>\n",
       "      <td>SITE</td>\n",
       "      <td>45.82</td>\n",
       "      <td>1.0</td>\n",
       "      <td>4</td>\n",
       "      <td>0</td>\n",
       "      <td>4</td>\n",
       "      <td>1.0</td>\n",
       "      <td>1.0</td>\n",
       "      <td>0.0</td>\n",
       "    </tr>\n",
       "    <tr>\n",
       "      <th>340</th>\n",
       "      <td>122655</td>\n",
       "      <td>SITE</td>\n",
       "      <td>155.31</td>\n",
       "      <td>1.0</td>\n",
       "      <td>4</td>\n",
       "      <td>0</td>\n",
       "      <td>4</td>\n",
       "      <td>1.0</td>\n",
       "      <td>1.0</td>\n",
       "      <td>0.0</td>\n",
       "    </tr>\n",
       "    <tr>\n",
       "      <th>341</th>\n",
       "      <td>124398</td>\n",
       "      <td>SITE</td>\n",
       "      <td>171.65</td>\n",
       "      <td>1.0</td>\n",
       "      <td>4</td>\n",
       "      <td>0</td>\n",
       "      <td>4</td>\n",
       "      <td>1.0</td>\n",
       "      <td>1.0</td>\n",
       "      <td>0.0</td>\n",
       "    </tr>\n",
       "    <tr>\n",
       "      <th>342</th>\n",
       "      <td>124401</td>\n",
       "      <td>SITE</td>\n",
       "      <td>730.33</td>\n",
       "      <td>1.0</td>\n",
       "      <td>4</td>\n",
       "      <td>0</td>\n",
       "      <td>4</td>\n",
       "      <td>1.0</td>\n",
       "      <td>2.0</td>\n",
       "      <td>1.0</td>\n",
       "    </tr>\n",
       "  </tbody>\n",
       "</table>\n",
       "<p>343 rows × 10 columns</p>\n",
       "</div>"
      ],
      "text/plain": [
       "     Código MÉDIO_CANAL  R$_segunda  vendas_segunda Mês feriado semana_mês  \\\n",
       "0    100498      AMAZON      141.44             1.0   4       0          4   \n",
       "1    100499      AMAZON      144.73             1.0   4       0          4   \n",
       "2    100681      AMAZON      199.78             1.0   4       0          4   \n",
       "3    100840      AMAZON      195.83             1.0   4       0          4   \n",
       "4    100957      AMAZON       31.66            13.0   4       0          4   \n",
       "..      ...         ...         ...             ...  ..     ...        ...   \n",
       "338  121122        SITE      727.39             1.0   4       0          4   \n",
       "339  121604        SITE       45.82             1.0   4       0          4   \n",
       "340  122655        SITE      155.31             1.0   4       0          4   \n",
       "341  124398        SITE      171.65             1.0   4       0          4   \n",
       "342  124401        SITE      730.33             1.0   4       0          4   \n",
       "\n",
       "     previsão demanda  Vendas_reais  erro_absoluto  \n",
       "0                 1.0           2.0            1.0  \n",
       "1                 2.0           2.0            0.0  \n",
       "2                 2.0           7.0            5.0  \n",
       "3                 2.0           2.0            0.0  \n",
       "4                24.0          13.0          -11.0  \n",
       "..                ...           ...            ...  \n",
       "338               1.0           1.0            0.0  \n",
       "339               1.0           1.0            0.0  \n",
       "340               1.0           1.0            0.0  \n",
       "341               1.0           1.0            0.0  \n",
       "342               1.0           2.0            1.0  \n",
       "\n",
       "[343 rows x 10 columns]"
      ]
     },
     "execution_count": 753,
     "metadata": {},
     "output_type": "execute_result"
    }
   ],
   "source": [
    "df_wMAPE"
   ]
  },
  {
   "cell_type": "code",
   "execution_count": 758,
   "id": "1de042f4",
   "metadata": {
    "ExecuteTime": {
     "end_time": "2022-05-06T18:17:14.239638Z",
     "start_time": "2022-05-06T18:17:14.219690Z"
    }
   },
   "outputs": [],
   "source": [
    "Erro = df_wMAPE['erro_absoluto'].sum() / df_wMAPE['Vendas_reais'].sum()"
   ]
  },
  {
   "cell_type": "code",
   "execution_count": 762,
   "id": "7d246136",
   "metadata": {
    "ExecuteTime": {
     "end_time": "2022-05-06T18:18:33.401252Z",
     "start_time": "2022-05-06T18:18:33.374325Z"
    }
   },
   "outputs": [
    {
     "name": "stdout",
     "output_type": "stream",
     "text": [
      "Erro Percentual Absoluto Médio Ponderado: 0.35\n",
      "Assertividade wMAPE do modelo foi de: 0.65\n",
      "erro calculado na semana de 25/04 à 29/04\n"
     ]
    }
   ],
   "source": [
    "print(f'''Erro Percentual Absoluto Médio Ponderado: {(Erro).round(2)}\n",
    "Assertividade wMAPE do modelo foi de: {(1 - Erro).round(2)}\n",
    "erro calculado na semana de 25/04 à 29/04''')"
   ]
  },
  {
   "cell_type": "markdown",
   "id": "c07c0625",
   "metadata": {},
   "source": [
    "# Juntando a previsão ao DF principal"
   ]
  },
  {
   "cell_type": "code",
   "execution_count": 770,
   "id": "28500ca3",
   "metadata": {
    "ExecuteTime": {
     "end_time": "2022-05-06T18:25:32.826914Z",
     "start_time": "2022-05-06T18:25:32.810951Z"
    }
   },
   "outputs": [],
   "source": [
    "df_merge = df_wMAPE[[ 'Código', 'MÉDIO_CANAL', 'previsão demanda']]\n",
    "df_merge = df_merge.rename(columns = {'MÉDIO_CANAL' : 'Canal'})"
   ]
  },
  {
   "cell_type": "code",
   "execution_count": 774,
   "id": "5d2cc4ec",
   "metadata": {
    "ExecuteTime": {
     "end_time": "2022-05-06T18:26:51.938515Z",
     "start_time": "2022-05-06T18:26:51.922593Z"
    }
   },
   "outputs": [],
   "source": [
    "relatorio_segunda = relatorio_segunda.merge(df_merge, on = ['Código', 'Canal'], how = 'left')"
   ]
  },
  {
   "cell_type": "code",
   "execution_count": 775,
   "id": "06815c2a",
   "metadata": {
    "ExecuteTime": {
     "end_time": "2022-05-06T18:26:55.808227Z",
     "start_time": "2022-05-06T18:26:55.780277Z"
    }
   },
   "outputs": [
    {
     "data": {
      "text/html": [
       "<div>\n",
       "<style scoped>\n",
       "    .dataframe tbody tr th:only-of-type {\n",
       "        vertical-align: middle;\n",
       "    }\n",
       "\n",
       "    .dataframe tbody tr th {\n",
       "        vertical-align: top;\n",
       "    }\n",
       "\n",
       "    .dataframe thead th {\n",
       "        text-align: right;\n",
       "    }\n",
       "</style>\n",
       "<table border=\"1\" class=\"dataframe\">\n",
       "  <thead>\n",
       "    <tr style=\"text-align: right;\">\n",
       "      <th></th>\n",
       "      <th>Canal</th>\n",
       "      <th>Código</th>\n",
       "      <th>Vendas Ontem</th>\n",
       "      <th>Vendas 1seg</th>\n",
       "      <th>Vendas 2seg</th>\n",
       "      <th>Vendas 3seg</th>\n",
       "      <th>Preço Ontem</th>\n",
       "      <th>Preço 1seg</th>\n",
       "      <th>Preço 2seg</th>\n",
       "      <th>Preço 3seg</th>\n",
       "      <th>MC Ontem</th>\n",
       "      <th>MC 1seg</th>\n",
       "      <th>MC 2seg</th>\n",
       "      <th>MC 3seg</th>\n",
       "      <th>Diferença MC (Ontem / 1seg)</th>\n",
       "      <th>previsão demanda</th>\n",
       "    </tr>\n",
       "  </thead>\n",
       "  <tbody>\n",
       "    <tr>\n",
       "      <th>0</th>\n",
       "      <td>MERCADO LIVRE FULL</td>\n",
       "      <td>121465</td>\n",
       "      <td>2</td>\n",
       "      <td>12</td>\n",
       "      <td>9</td>\n",
       "      <td>8</td>\n",
       "      <td>703.14</td>\n",
       "      <td>742.72</td>\n",
       "      <td>742.72</td>\n",
       "      <td>738.71</td>\n",
       "      <td>290.84</td>\n",
       "      <td>2156.88</td>\n",
       "      <td>1777.28</td>\n",
       "      <td>1459.98</td>\n",
       "      <td>-1866.04</td>\n",
       "      <td>5.0</td>\n",
       "    </tr>\n",
       "    <tr>\n",
       "      <th>1</th>\n",
       "      <td>SITE</td>\n",
       "      <td>100763</td>\n",
       "      <td>1</td>\n",
       "      <td>9</td>\n",
       "      <td>3</td>\n",
       "      <td>5</td>\n",
       "      <td>258.95</td>\n",
       "      <td>258.95</td>\n",
       "      <td>258.95</td>\n",
       "      <td>258.95</td>\n",
       "      <td>92.67</td>\n",
       "      <td>900.58</td>\n",
       "      <td>256.33</td>\n",
       "      <td>478.89</td>\n",
       "      <td>-807.91</td>\n",
       "      <td>3.0</td>\n",
       "    </tr>\n",
       "    <tr>\n",
       "      <th>2</th>\n",
       "      <td>B2W</td>\n",
       "      <td>100763</td>\n",
       "      <td>3</td>\n",
       "      <td>12</td>\n",
       "      <td>11</td>\n",
       "      <td>9</td>\n",
       "      <td>289.48</td>\n",
       "      <td>278.20</td>\n",
       "      <td>278.20</td>\n",
       "      <td>278.20</td>\n",
       "      <td>237.74</td>\n",
       "      <td>800.32</td>\n",
       "      <td>749.45</td>\n",
       "      <td>546.37</td>\n",
       "      <td>-562.58</td>\n",
       "      <td>7.0</td>\n",
       "    </tr>\n",
       "    <tr>\n",
       "      <th>3</th>\n",
       "      <td>MERCADO LIVRE FULL</td>\n",
       "      <td>101000</td>\n",
       "      <td>10</td>\n",
       "      <td>23</td>\n",
       "      <td>15</td>\n",
       "      <td>7</td>\n",
       "      <td>78.57</td>\n",
       "      <td>78.57</td>\n",
       "      <td>78.57</td>\n",
       "      <td>78.57</td>\n",
       "      <td>176.31</td>\n",
       "      <td>556.41</td>\n",
       "      <td>278.31</td>\n",
       "      <td>130.01</td>\n",
       "      <td>-380.10</td>\n",
       "      <td>24.0</td>\n",
       "    </tr>\n",
       "    <tr>\n",
       "      <th>4</th>\n",
       "      <td>MERCADO LIVRE</td>\n",
       "      <td>100588</td>\n",
       "      <td>3</td>\n",
       "      <td>23</td>\n",
       "      <td>9</td>\n",
       "      <td>8</td>\n",
       "      <td>184.29</td>\n",
       "      <td>159.40</td>\n",
       "      <td>159.40</td>\n",
       "      <td>184.29</td>\n",
       "      <td>112.74</td>\n",
       "      <td>475.83</td>\n",
       "      <td>178.09</td>\n",
       "      <td>141.87</td>\n",
       "      <td>-363.09</td>\n",
       "      <td>8.0</td>\n",
       "    </tr>\n",
       "    <tr>\n",
       "      <th>...</th>\n",
       "      <td>...</td>\n",
       "      <td>...</td>\n",
       "      <td>...</td>\n",
       "      <td>...</td>\n",
       "      <td>...</td>\n",
       "      <td>...</td>\n",
       "      <td>...</td>\n",
       "      <td>...</td>\n",
       "      <td>...</td>\n",
       "      <td>...</td>\n",
       "      <td>...</td>\n",
       "      <td>...</td>\n",
       "      <td>...</td>\n",
       "      <td>...</td>\n",
       "      <td>...</td>\n",
       "      <td>...</td>\n",
       "    </tr>\n",
       "    <tr>\n",
       "      <th>338</th>\n",
       "      <td>MERCADO LIVRE</td>\n",
       "      <td>100059</td>\n",
       "      <td>1</td>\n",
       "      <td>19</td>\n",
       "      <td>2</td>\n",
       "      <td>1</td>\n",
       "      <td>447.17</td>\n",
       "      <td>471.40</td>\n",
       "      <td>471.40</td>\n",
       "      <td>677.36</td>\n",
       "      <td>8.21</td>\n",
       "      <td>-366.80</td>\n",
       "      <td>221.09</td>\n",
       "      <td>109.43</td>\n",
       "      <td>375.01</td>\n",
       "      <td>2.0</td>\n",
       "    </tr>\n",
       "    <tr>\n",
       "      <th>339</th>\n",
       "      <td>RMA</td>\n",
       "      <td>100097</td>\n",
       "      <td>2</td>\n",
       "      <td>0</td>\n",
       "      <td>0</td>\n",
       "      <td>1</td>\n",
       "      <td>649.13</td>\n",
       "      <td>0.00</td>\n",
       "      <td>0.00</td>\n",
       "      <td>754.29</td>\n",
       "      <td>430.48</td>\n",
       "      <td>0.00</td>\n",
       "      <td>0.00</td>\n",
       "      <td>320.21</td>\n",
       "      <td>430.48</td>\n",
       "      <td>4.0</td>\n",
       "    </tr>\n",
       "    <tr>\n",
       "      <th>340</th>\n",
       "      <td>MERCADO LIVRE FULL</td>\n",
       "      <td>100059</td>\n",
       "      <td>7</td>\n",
       "      <td>8</td>\n",
       "      <td>2</td>\n",
       "      <td>7</td>\n",
       "      <td>544.82</td>\n",
       "      <td>447.17</td>\n",
       "      <td>447.17</td>\n",
       "      <td>609.12</td>\n",
       "      <td>223.83</td>\n",
       "      <td>-224.42</td>\n",
       "      <td>252.72</td>\n",
       "      <td>466.40</td>\n",
       "      <td>448.25</td>\n",
       "      <td>18.0</td>\n",
       "    </tr>\n",
       "    <tr>\n",
       "      <th>341</th>\n",
       "      <td>REVENDA</td>\n",
       "      <td>100215</td>\n",
       "      <td>3</td>\n",
       "      <td>0</td>\n",
       "      <td>1</td>\n",
       "      <td>10</td>\n",
       "      <td>682.15</td>\n",
       "      <td>0.00</td>\n",
       "      <td>0.00</td>\n",
       "      <td>716.09</td>\n",
       "      <td>526.67</td>\n",
       "      <td>0.00</td>\n",
       "      <td>186.79</td>\n",
       "      <td>1482.01</td>\n",
       "      <td>526.67</td>\n",
       "      <td>6.0</td>\n",
       "    </tr>\n",
       "    <tr>\n",
       "      <th>342</th>\n",
       "      <td>REVENDA</td>\n",
       "      <td>101262</td>\n",
       "      <td>12</td>\n",
       "      <td>4</td>\n",
       "      <td>13</td>\n",
       "      <td>2</td>\n",
       "      <td>414.26</td>\n",
       "      <td>414.27</td>\n",
       "      <td>414.27</td>\n",
       "      <td>398.92</td>\n",
       "      <td>2163.18</td>\n",
       "      <td>702.23</td>\n",
       "      <td>2697.75</td>\n",
       "      <td>406.87</td>\n",
       "      <td>1460.95</td>\n",
       "      <td>24.0</td>\n",
       "    </tr>\n",
       "  </tbody>\n",
       "</table>\n",
       "<p>343 rows × 16 columns</p>\n",
       "</div>"
      ],
      "text/plain": [
       "                  Canal  Código  Vendas Ontem  Vendas 1seg  Vendas 2seg  \\\n",
       "0    MERCADO LIVRE FULL  121465             2           12            9   \n",
       "1                  SITE  100763             1            9            3   \n",
       "2                   B2W  100763             3           12           11   \n",
       "3    MERCADO LIVRE FULL  101000            10           23           15   \n",
       "4         MERCADO LIVRE  100588             3           23            9   \n",
       "..                  ...     ...           ...          ...          ...   \n",
       "338       MERCADO LIVRE  100059             1           19            2   \n",
       "339                 RMA  100097             2            0            0   \n",
       "340  MERCADO LIVRE FULL  100059             7            8            2   \n",
       "341             REVENDA  100215             3            0            1   \n",
       "342             REVENDA  101262            12            4           13   \n",
       "\n",
       "     Vendas 3seg  Preço Ontem  Preço 1seg  Preço 2seg  Preço 3seg  MC Ontem  \\\n",
       "0              8       703.14      742.72      742.72      738.71    290.84   \n",
       "1              5       258.95      258.95      258.95      258.95     92.67   \n",
       "2              9       289.48      278.20      278.20      278.20    237.74   \n",
       "3              7        78.57       78.57       78.57       78.57    176.31   \n",
       "4              8       184.29      159.40      159.40      184.29    112.74   \n",
       "..           ...          ...         ...         ...         ...       ...   \n",
       "338            1       447.17      471.40      471.40      677.36      8.21   \n",
       "339            1       649.13        0.00        0.00      754.29    430.48   \n",
       "340            7       544.82      447.17      447.17      609.12    223.83   \n",
       "341           10       682.15        0.00        0.00      716.09    526.67   \n",
       "342            2       414.26      414.27      414.27      398.92   2163.18   \n",
       "\n",
       "     MC 1seg  MC 2seg  MC 3seg  Diferença MC (Ontem / 1seg)  previsão demanda  \n",
       "0    2156.88  1777.28  1459.98                     -1866.04               5.0  \n",
       "1     900.58   256.33   478.89                      -807.91               3.0  \n",
       "2     800.32   749.45   546.37                      -562.58               7.0  \n",
       "3     556.41   278.31   130.01                      -380.10              24.0  \n",
       "4     475.83   178.09   141.87                      -363.09               8.0  \n",
       "..       ...      ...      ...                          ...               ...  \n",
       "338  -366.80   221.09   109.43                       375.01               2.0  \n",
       "339     0.00     0.00   320.21                       430.48               4.0  \n",
       "340  -224.42   252.72   466.40                       448.25              18.0  \n",
       "341     0.00   186.79  1482.01                       526.67               6.0  \n",
       "342   702.23  2697.75   406.87                      1460.95              24.0  \n",
       "\n",
       "[343 rows x 16 columns]"
      ]
     },
     "execution_count": 775,
     "metadata": {},
     "output_type": "execute_result"
    }
   ],
   "source": [
    "relatorio_segunda"
   ]
  },
  {
   "cell_type": "code",
   "execution_count": null,
   "id": "bce3b25a",
   "metadata": {},
   "outputs": [],
   "source": []
  }
 ],
 "metadata": {
  "hide_input": false,
  "kernelspec": {
   "display_name": "Python 3",
   "language": "python",
   "name": "python3"
  },
  "language_info": {
   "codemirror_mode": {
    "name": "ipython",
    "version": 3
   },
   "file_extension": ".py",
   "mimetype": "text/x-python",
   "name": "python",
   "nbconvert_exporter": "python",
   "pygments_lexer": "ipython3",
   "version": "3.8.8"
  },
  "toc": {
   "base_numbering": 1,
   "nav_menu": {},
   "number_sections": true,
   "sideBar": true,
   "skip_h1_title": false,
   "title_cell": "Table of Contents",
   "title_sidebar": "Contents",
   "toc_cell": false,
   "toc_position": {},
   "toc_section_display": true,
   "toc_window_display": false
  }
 },
 "nbformat": 4,
 "nbformat_minor": 5
}
