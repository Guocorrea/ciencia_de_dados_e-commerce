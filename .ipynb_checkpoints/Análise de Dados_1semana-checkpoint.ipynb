{
 "cells": [
  {
   "cell_type": "code",
   "execution_count": 2,
   "id": "51a61533",
   "metadata": {
    "ExecuteTime": {
     "end_time": "2022-05-02T13:26:56.775232Z",
     "start_time": "2022-05-02T13:26:56.769299Z"
    }
   },
   "outputs": [
    {
     "data": {
      "text/html": [
       "<style>.container { width:80% !important; }</style>"
      ],
      "text/plain": [
       "<IPython.core.display.HTML object>"
      ]
     },
     "metadata": {},
     "output_type": "display_data"
    }
   ],
   "source": [
    "import pandas as pd\n",
    "import numpy as np\n",
    "import seaborn as sns\n",
    "import matplotlib.pyplot as plt\n",
    "import statsmodels.api as sm\n",
    "from datetime import datetime\n",
    "from datetime import timedelta\n",
    "import regex as re\n",
    "from IPython.core.display import display, HTML\n",
    "display(HTML(\"<style>.container { width:80% !important; }</style>\"))\n",
    "import pyodbc\n",
    "from sqlalchemy import create_engine"
   ]
  },
  {
   "cell_type": "markdown",
   "id": "44aac59d",
   "metadata": {},
   "source": [
    "# Os dados do"
   ]
  },
  {
   "cell_type": "markdown",
   "id": "757d92bb",
   "metadata": {},
   "source": [
    "# Integração Python / SQL"
   ]
  },
  {
   "cell_type": "code",
   "execution_count": 3,
   "id": "7c71eba0",
   "metadata": {
    "ExecuteTime": {
     "end_time": "2022-05-02T13:26:56.791100Z",
     "start_time": "2022-05-02T13:26:56.777227Z"
    }
   },
   "outputs": [],
   "source": [
    "\n",
    "server = '10.20.4.67' \n",
    "database = 'ELG_BI' \n",
    "username = 'sa' \n",
    "password = '$Ocssup$' "
   ]
  },
  {
   "cell_type": "code",
   "execution_count": 4,
   "id": "6f8b439a",
   "metadata": {
    "ExecuteTime": {
     "end_time": "2022-05-02T13:26:57.472073Z",
     "start_time": "2022-05-02T13:26:56.793095Z"
    }
   },
   "outputs": [],
   "source": [
    "cnxn = pyodbc.connect('DRIVER={SQL Server Native Client 11.0};SERVER='+server+';DATABASE='+database+';UID='+username+';PWD='+ password)"
   ]
  },
  {
   "cell_type": "code",
   "execution_count": 5,
   "id": "9f005178",
   "metadata": {
    "ExecuteTime": {
     "end_time": "2022-05-02T13:26:57.564321Z",
     "start_time": "2022-05-02T13:26:57.482226Z"
    }
   },
   "outputs": [
    {
     "name": "stdout",
     "output_type": "stream",
     "text": [
      "Microsoft SQL Server 2019 (RTM) - 15.0.2000.5 (X64) \n",
      "\tSep 24 2019 13:48:23 \n",
      "\tCopyright (C) 2019 Microsoft Corporation\n",
      "\tExpress Edition (64-bit) on Windows Server 2016 Standard 10.0 <X64> (Build 14393: ) (Hypervisor)\n",
      "\n"
     ]
    }
   ],
   "source": [
    "cursor = cnxn.cursor()\n",
    "# Sample select query \n",
    "cursor.execute(\"SELECT @@version;\") \n",
    "row = cursor.fetchone() \n",
    "while row: \n",
    "    print(row[0]) \n",
    "    row = cursor.fetchone()"
   ]
  },
  {
   "cell_type": "code",
   "execution_count": 6,
   "id": "41f79d39",
   "metadata": {
    "ExecuteTime": {
     "end_time": "2022-05-02T13:28:39.948349Z",
     "start_time": "2022-05-02T13:26:57.565729Z"
    }
   },
   "outputs": [],
   "source": [
    "query_elg_full = '''\n",
    "select *,\n",
    "\n",
    "CASE\n",
    "WHEN Vendedor = 'AMERICANAS' THEN 'B2W'\n",
    "WHEN Vendedor = 'SHOPTIME' THEN 'B2W'\n",
    "WHEN Vendedor = 'SUBMARINO' THEN 'B2W'\n",
    "WHEN Vendedor = 'AMAZON' THEN 'AMAZON'\n",
    "WHEN Vendedor = 'CARREFOUR' THEN 'MKTPLACE'\n",
    "WHEN Vendedor = 'CONECTA_LA' THEN 'CONECTA LA'\n",
    "WHEN Vendedor = 'KABUM' THEN 'KABUM'\n",
    "WHEN Vendedor = 'LOJA_VIVO' THEN 'MKTPLACE'\n",
    "WHEN Vendedor = 'MADEIRA MADEIRA' THEN 'MKTPLACE'\n",
    "WHEN Vendedor = 'NOVO MUNDO' THEN 'MKTPLACE'\n",
    "WHEN Vendedor = 'OLIST' THEN 'OLIST'\n",
    "WHEN Vendedor = 'RAPPI' THEN 'MKTPLACE'\n",
    "WHEN Vendedor = 'SHOPEE' THEN 'SHOPEE'\n",
    "WHEN Vendedor = 'VIA VAREJO (CNOVA)' THEN 'VIA VAREJO (CNOVA)'\n",
    "WHEN Vendedor = 'ELG EMPRESAS' THEN 'ELG EMPRESAS'\n",
    "WHEN Vendedor = 'KAZUK' THEN 'KAZUK'\n",
    "WHEN Vendedor = 'KZK ML' THEN 'KAZUK'\n",
    "WHEN Vendedor = 'MAGAZINE LUIZA' THEN 'MAGALU'\n",
    "WHEN Vendedor = 'MERCADO LIVRE' THEN 'MERCADO LIVRE'\n",
    "WHEN Vendedor = 'ML FULL' THEN 'MERCADO LIVRE FULL'\n",
    "WHEN Vendedor = 'BACKUP' THEN 'OUTROS'\n",
    "WHEN Vendedor = 'CD PRESENCIAL' THEN 'ESPACO ELGSCREEN'\n",
    "WHEN Vendedor = 'INDICAÇÃO' THEN 'OUTROS'\n",
    "WHEN Vendedor = 'ALICE LEAL' THEN 'REVENDA'\n",
    "WHEN Vendedor = 'ALINE DIAS' THEN 'REVENDA'\n",
    "WHEN Vendedor = 'BRUNO T' THEN 'REVENDA'\n",
    "WHEN Vendedor = 'FERNANDO M' THEN 'REVENDA'\n",
    "WHEN Vendedor = 'FLAVIO' THEN 'REVENDA'\n",
    "WHEN Vendedor = 'JOSIANE' THEN 'REVENDA'\n",
    "WHEN Vendedor = 'LEANDRO' THEN 'REVENDA'\n",
    "WHEN Vendedor = 'WESLEY' THEN 'REVENDA'\n",
    "WHEN Vendedor = 'REENVIO' THEN 'RMA'\n",
    "WHEN Vendedor = 'RMA' THEN 'RMA'\n",
    "WHEN Vendedor = 'MAGENTO' THEN 'MAGENTO'\n",
    "WHEN Vendedor = 'PJ SITE' THEN 'SITE'\n",
    "WHEN Vendedor = 'REVENDA SITE' THEN 'SITE'\n",
    "WHEN Vendedor = 'SITE' THEN 'SITE'\n",
    "END as 'MÉDIO_CANAL'\n",
    "\n",
    "\n",
    "from base_hist_custo_fixo where [Data Emissão] between '20220103 00:00:00' and '20220502 23:59:59'\n",
    "\n",
    "'''\n",
    "elg_full = pd.read_sql_query(query_elg_full, cnxn)"
   ]
  },
  {
   "cell_type": "markdown",
   "id": "d1e88bbc",
   "metadata": {},
   "source": [
    "# Limpezaz de dados"
   ]
  },
  {
   "cell_type": "code",
   "execution_count": 7,
   "id": "8e0f2cc0",
   "metadata": {
    "ExecuteTime": {
     "end_time": "2022-05-02T13:28:40.492113Z",
     "start_time": "2022-05-02T13:28:39.950353Z"
    }
   },
   "outputs": [],
   "source": [
    "# Na query não vem o TIPO_VENDA e nem a SEMANA\n",
    "# Colocar apenas as linhas em que 'Devolução' == 0\n",
    "# Criar e adicionar a coluna Semana\n",
    "mask_dev = elg_full['Devolução'] == 0\n",
    "elg_full = elg_full[mask_dev]\n",
    "elg_full['SEMANA'] = elg_full['Data Emissão'].apply(lambda x: x.strftime(\"%U\"))"
   ]
  },
  {
   "cell_type": "code",
   "execution_count": 8,
   "id": "834e2bbd",
   "metadata": {
    "ExecuteTime": {
     "end_time": "2022-05-02T13:28:40.677625Z",
     "start_time": "2022-05-02T13:28:40.493426Z"
    }
   },
   "outputs": [],
   "source": [
    "#elg_full['Data Emissão'] = pd.to_datetime(elg_full['Data Emissão'], format=\"%d/%m/%Y\")\n",
    "\n",
    "# Selecionado as colunas úteis\n",
    "elg_vendas = elg_full[['Tipo', 'Data Emissão',\n",
    "                       'MÉDIO_CANAL', 'Código', 'Volume / Mês', 'Vr Unitário', 'SEMANA', 'Margem Contribuição Sem Imposto (R$)']]\n",
    "\n",
    "mask_tipo = elg_full['Tipo'] == 'Real'\n",
    "elg_vendas = elg_vendas[mask_tipo]\n",
    "\n",
    "#elg_vendas['Vr Unitário'] = elg_vendas['Vr Unitário'].str.replace(',', '.')\n",
    "elg_vendas['Vr Unitário'] = elg_vendas['Vr Unitário'].map(float)\n",
    "\n",
    "elg_vendas = elg_vendas.rename(columns={'Data Emissão' : 'data'})\n",
    "\n",
    "elg_vendas = elg_vendas.drop(columns = ['Tipo'])"
   ]
  },
  {
   "cell_type": "markdown",
   "id": "1b1f72ea",
   "metadata": {},
   "source": [
    "# Analisando o histórico de vendas nos últimos 90 dias\n",
    "        - 'elg_delta_calc' = Todos os pedidos dentro do período\n",
    "        - '_df_base' = baselines e preço médio de cada produto no período"
   ]
  },
  {
   "cell_type": "code",
   "execution_count": 11,
   "id": "2b42ff11",
   "metadata": {
    "ExecuteTime": {
     "end_time": "2022-05-02T13:28:42.612530Z",
     "start_time": "2022-05-02T13:28:40.727567Z"
    }
   },
   "outputs": [],
   "source": [
    "# Gerando o DF do período de 90 dias\n",
    "hoje = datetime.today()\n",
    "delta_0 = timedelta(days = 8)\n",
    "semana_antes = hoje - delta_0\n",
    "periodo = 90\n",
    "delta_1 = timedelta(days = periodo)\n",
    "min_periodo = semana_antes - delta_1\n",
    "\n",
    "mask_periodo = elg_vendas['data'] > min_periodo\n",
    "elg_delta_calc = elg_vendas[mask_periodo]\n",
    "mask_periodo_semana = elg_delta_calc['data'] < semana_antes\n",
    "elg_delta_calc = elg_delta_calc[mask_periodo_semana]\n",
    "\n",
    "elg_ref = elg_delta_calc.groupby(by = ['Código', 'SEMANA'], as_index=False).agg(\n",
    "    vendas_sum = pd.NamedAgg(column = 'Volume / Mês', aggfunc = 'sum'),\n",
    "    vlr_mean = pd.NamedAgg(column = 'Vr Unitário', aggfunc = 'mean'))\n",
    "\n",
    "lt_codigos = list()\n",
    "lt_media_vendas_semana = list()\n",
    "lt_preco_med_periodo = list()\n",
    "lt_baseline_min = list()\n",
    "lt_baseline_max = list()\n",
    "\n",
    "for cod in elg_ref['Código'].unique():\n",
    "    med_vend = elg_ref[elg_ref['Código'] == cod]['vendas_sum'].mean()\n",
    "    if elg_ref[elg_ref['Código'] == cod]['vendas_sum'].std() > 0:\n",
    "        baseline_max = (elg_ref[elg_ref['Código'] == cod]['vendas_sum'].mean() + \n",
    "                        elg_ref[elg_ref['Código'] == cod]['vendas_sum'].std())\n",
    "    else:\n",
    "        baseline_max = (elg_ref[elg_ref['Código'] == cod]['vendas_sum'].mean())\n",
    "    med_pc = elg_ref[elg_ref['Código'] == cod]['vlr_mean'].mean()\n",
    "    lt_codigos.append(cod)\n",
    "    lt_baseline_max.append(baseline_max)\n",
    "    lt_media_vendas_semana.append(med_vend)\n",
    "    lt_preco_med_periodo.append(med_pc)\n",
    "    \n",
    "df_base = pd.DataFrame({'código': lt_codigos, 'base_alvo': lt_media_vendas_semana, \n",
    "                        'base_max': lt_baseline_max, 'preço_médio_90dias': lt_preco_med_periodo})\n",
    "\n",
    "df_base['preço_médio_90dias'] = df_base['preço_médio_90dias'].round(2)\n",
    "df_base['base_max'] = df_base['base_max'].round(0)\n",
    "df_base['base_alvo'] = df_base['base_alvo'].round(0)\n",
    "df_base = df_base.sort_values(by = 'base_alvo', ascending = False)"
   ]
  },
  {
   "cell_type": "markdown",
   "id": "ee270894",
   "metadata": {},
   "source": [
    "# Histórico de Vendas da Semana Passada"
   ]
  },
  {
   "cell_type": "code",
   "execution_count": 12,
   "id": "279d6a45",
   "metadata": {
    "ExecuteTime": {
     "end_time": "2022-05-02T13:28:42.659448Z",
     "start_time": "2022-05-02T13:28:42.616519Z"
    }
   },
   "outputs": [],
   "source": [
    "# Selecionando as data da semana passada \n",
    "delta_semana = timedelta(days = 8)\n",
    "semana = hoje - delta_semana\n",
    "\n",
    "mask_semana = (elg_vendas['data'] > semana)\n",
    "elg_semana = elg_vendas[mask_semana]\n",
    "time_fds = timedelta(days = 2)\n",
    "fds = hoje - time_fds\n",
    "mask_fds = elg_semana['data'] < fds\n",
    "elg_semana = elg_semana[mask_fds]\n",
    "elg_semana = elg_semana.reset_index()\n",
    "\n",
    "# Criando um DF com as vendas da semana passada e classificando pelo baseline do período\n",
    "vendas_semana_passada = elg_semana.groupby(by = ['Código'], as_index=False).agg(\n",
    "    vendas_semana_passada = pd.NamedAgg(column = 'Volume / Mês', aggfunc = 'sum'),\n",
    "    minimo_preco_semana = pd.NamedAgg(column = 'Vr Unitário', aggfunc = 'min'),\n",
    "    maximo_preco_semana = pd.NamedAgg(column = 'Vr Unitário', aggfunc = 'max'))\n",
    "\n",
    "vendas_semana_passada = vendas_semana_passada.rename(columns={'Código' : 'código'})\n",
    "\n",
    "relatorio = vendas_semana_passada.merge(df_base, how = 'outer', on = 'código')\n",
    "\n",
    "relatorio['RESULTADO'] = np.where(relatorio['vendas_semana_passada'] >= relatorio['base_max'], \n",
    "                                       'ACIMA', np.where(\n",
    "                                       relatorio['vendas_semana_passada'] <= relatorio['base_alvo'],\n",
    "                                       'ABAIXO', np.where(\n",
    "                                           ((relatorio['vendas_semana_passada'] < relatorio['base_max'])\n",
    "                                            &\n",
    "                                           (relatorio['vendas_semana_passada'] > relatorio['base_alvo'])),\n",
    "                                           'ESPERADO', 'N/A')))"
   ]
  },
  {
   "cell_type": "code",
   "execution_count": 14,
   "id": "42fa43ba",
   "metadata": {
    "ExecuteTime": {
     "end_time": "2022-05-02T13:28:42.818098Z",
     "start_time": "2022-05-02T13:28:42.707420Z"
    }
   },
   "outputs": [
    {
     "name": "stderr",
     "output_type": "stream",
     "text": [
      "<ipython-input-14-04aa7188ad3e>:69: SettingWithCopyWarning: \n",
      "A value is trying to be set on a copy of a slice from a DataFrame.\n",
      "Try using .loc[row_indexer,col_indexer] = value instead\n",
      "\n",
      "See the caveats in the documentation: https://pandas.pydata.org/pandas-docs/stable/user_guide/indexing.html#returning-a-view-versus-a-copy\n",
      "  relatorio_final['RESULTADO (MC/unid)'] = np.where(relatorio_final['Dif_MC/unid'] > 0, 'POSITIVO',\n",
      "<ipython-input-14-04aa7188ad3e>:73: SettingWithCopyWarning: \n",
      "A value is trying to be set on a copy of a slice from a DataFrame.\n",
      "Try using .loc[row_indexer,col_indexer] = value instead\n",
      "\n",
      "See the caveats in the documentation: https://pandas.pydata.org/pandas-docs/stable/user_guide/indexing.html#returning-a-view-versus-a-copy\n",
      "  relatorio_final['RESULTADO (MC_total/semana)'] = np.where(relatorio_final['Dif. MC/semana'] > 0, 'POSITIVO', np.where(\n"
     ]
    }
   ],
   "source": [
    "#Gerando o relatório final\n",
    "teste = elg_semana.groupby(by = ['Código'], as_index=False).agg(\n",
    "    vendas_semana_passada = pd.NamedAgg(column = 'Volume / Mês', aggfunc = 'sum'),\n",
    "    média_preço_semana = pd.NamedAgg(column = 'Vr Unitário', aggfunc = 'mean'),\n",
    "    MC_total = pd.NamedAgg(column = 'Margem Contribuição Sem Imposto (R$)', aggfunc = 'sum'))\n",
    "\n",
    "teste = teste.rename(columns = {'vendas_semana_passada' : 'vendas_s' + elg_semana['SEMANA'][0],\n",
    "                                'média_preço_semana' : 'R$_médio_s' + elg_semana['SEMANA'][0],\n",
    "                                'MC_total' : 'MC_total_s' + elg_semana['SEMANA'][0]})\n",
    "\n",
    "teste = teste.rename(columns={'Código' : 'código'})\n",
    "relatorio_t = teste.merge(df_base, how = 'outer', on = 'código')\n",
    "\n",
    "relatorio_t['RESULTADO (vendas)'] = np.where(relatorio_t[relatorio_t.columns[1]] >= relatorio['base_max'], \n",
    "                                       'ACIMA', np.where(\n",
    "                                       relatorio_t[relatorio_t.columns[1]] <= relatorio['base_alvo'],\n",
    "                                       'ABAIXO', np.where(\n",
    "                                           ((relatorio_t[relatorio_t.columns[1]] < relatorio['base_max'])\n",
    "                                            &\n",
    "                                           (relatorio_t[relatorio_t.columns[1]] > relatorio['base_alvo'])),\n",
    "                                           'ESPERADO', 'N/A')))\n",
    "\n",
    "relatorio_t[relatorio_t.columns[2]] = relatorio_t[relatorio_t.columns[2]].round(2)\n",
    "relatorio_t['Dif. % R$_médio'] = ((relatorio_t[relatorio_t.columns[2]] / relatorio_t['preço_médio_90dias']) - 1).round(2)\n",
    "\n",
    "relatorio_t['MC_unidade'] = relatorio_t[relatorio_t.columns[3]] / relatorio_t[relatorio_t.columns[1]]\n",
    "relatorio_t = relatorio_t.rename(columns = {'MC_unidade' : 'MC/unidade_s' + elg_semana['SEMANA'][0]}).round(2)\n",
    "\n",
    "# Calculando MC do período\n",
    "MC_unid_periodo = elg_delta_calc.groupby(by = 'Código', as_index=False).agg(\n",
    "    total_vendas_periodo = pd.NamedAgg(column = 'Volume / Mês', aggfunc = 'sum'),\n",
    "    total_mc = pd.NamedAgg(column = 'Margem Contribuição Sem Imposto (R$)', aggfunc = 'sum'))\n",
    "\n",
    "MC_unid_periodo['MC_unitária'] = (MC_unid_periodo['total_mc'] / MC_unid_periodo['total_vendas_periodo']).round(2)\n",
    "mc_sku_unid = MC_unid_periodo[[ 'Código', 'MC_unitária']]\n",
    "mc_sku_unid = mc_sku_unid.rename(columns={'Código' : 'código'})\n",
    "relatorio_t = relatorio_t.merge(mc_sku_unid, how = 'outer', on = 'código')\n",
    "relatorio_t = relatorio_t.rename(columns = {'MC_unitária' : 'MC/unidade_período'})\n",
    "\n",
    "relatorio_t['Dif_MC/unid'] = relatorio_t[relatorio_t.columns[9]] - relatorio_t['MC/unidade_período']\n",
    "\n",
    "# Calculando a média da MC por semana no período\n",
    "mc_semana = elg_delta_calc.groupby(by = ['Código', 'SEMANA'], as_index=False).agg(\n",
    "    MC_semana = pd.NamedAgg(column = 'Margem Contribuição Sem Imposto (R$)', aggfunc = 'sum'))\n",
    "\n",
    "mc_semana_periodo = mc_semana.groupby(by = 'Código', as_index = False).agg(\n",
    "    qnt_semanas = pd.NamedAgg(column = 'SEMANA', aggfunc = 'count'),\n",
    "    mc_total_per = pd.NamedAgg(column = 'MC_semana', aggfunc = 'sum'))\n",
    "\n",
    "mc_semana_periodo['média_mc/semana'] = (mc_semana_periodo['mc_total_per'] / mc_semana_periodo['qnt_semanas']).round(2)\n",
    "media_mc_periodo = mc_semana_periodo[[ 'Código', 'média_mc/semana']]\n",
    "\n",
    "media_mc_periodo = media_mc_periodo.rename(columns = {'Código' : 'código'})\n",
    "relatorio_t = relatorio_t.merge(media_mc_periodo, how = 'outer', on = 'código')\n",
    "relatorio_t = relatorio_t.rename(columns = {'média_mc/semana' : 'MC/semana_período'})\n",
    "\n",
    "relatorio_t['Dif. MC/semana'] = relatorio_t[relatorio_t.columns[3]] - relatorio_t['MC/semana_período']\n",
    "\n",
    "# Gerando 'relatorio_final'\n",
    "relatorio_t = relatorio_t.rename(columns={'preço_médio_90dias' : 'R$_médio_periodo'})\n",
    "\n",
    "relatorio_final = relatorio_t [[ 'código',  'base_alvo', 'base_max', relatorio_t.columns[1], \n",
    "                                'R$_médio_periodo', relatorio_t.columns[2], \n",
    "                               'MC/unidade_período', relatorio_t.columns[9],\n",
    "                               'MC/semana_período', relatorio_t.columns[3],\n",
    "                               'Dif. % R$_médio', 'Dif_MC/unid', 'Dif. MC/semana', 'RESULTADO (vendas)']]\n",
    "\n",
    "relatorio_final['RESULTADO (MC/unid)'] = np.where(relatorio_final['Dif_MC/unid'] > 0, 'POSITIVO',\n",
    "                                                  np.where(\n",
    "                                        relatorio_final['Dif_MC/unid'] <= 0, 'NEGATIVO', 'N/A'))\n",
    "\n",
    "relatorio_final['RESULTADO (MC_total/semana)'] = np.where(relatorio_final['Dif. MC/semana'] > 0, 'POSITIVO', np.where(\n",
    "                                        relatorio_final['Dif. MC/semana'] <= 0, 'NEGATIVO', 'N/A'))"
   ]
  },
  {
   "cell_type": "code",
   "execution_count": 15,
   "id": "5f9bf3ad",
   "metadata": {
    "ExecuteTime": {
     "end_time": "2022-05-02T13:28:42.834022Z",
     "start_time": "2022-05-02T13:28:42.819496Z"
    }
   },
   "outputs": [],
   "source": [
    "relatorio_final = relatorio_final.sort_values(by = 'Dif. MC/semana')"
   ]
  },
  {
   "cell_type": "code",
   "execution_count": 16,
   "id": "24469dcc",
   "metadata": {
    "ExecuteTime": {
     "end_time": "2022-05-02T13:28:42.865289Z",
     "start_time": "2022-05-02T13:28:42.835358Z"
    }
   },
   "outputs": [
    {
     "data": {
      "text/html": [
       "<div>\n",
       "<style scoped>\n",
       "    .dataframe tbody tr th:only-of-type {\n",
       "        vertical-align: middle;\n",
       "    }\n",
       "\n",
       "    .dataframe tbody tr th {\n",
       "        vertical-align: top;\n",
       "    }\n",
       "\n",
       "    .dataframe thead th {\n",
       "        text-align: right;\n",
       "    }\n",
       "</style>\n",
       "<table border=\"1\" class=\"dataframe\">\n",
       "  <thead>\n",
       "    <tr style=\"text-align: right;\">\n",
       "      <th></th>\n",
       "      <th>código</th>\n",
       "      <th>base_alvo</th>\n",
       "      <th>base_max</th>\n",
       "      <th>vendas_s17</th>\n",
       "      <th>R$_médio_periodo</th>\n",
       "      <th>R$_médio_s17</th>\n",
       "      <th>MC/unidade_período</th>\n",
       "      <th>MC/unidade_s17</th>\n",
       "      <th>MC/semana_período</th>\n",
       "      <th>MC_total_s17</th>\n",
       "      <th>Dif. % R$_médio</th>\n",
       "      <th>Dif_MC/unid</th>\n",
       "      <th>Dif. MC/semana</th>\n",
       "      <th>RESULTADO (vendas)</th>\n",
       "      <th>RESULTADO (MC/unid)</th>\n",
       "      <th>RESULTADO (MC_total/semana)</th>\n",
       "    </tr>\n",
       "  </thead>\n",
       "  <tbody>\n",
       "    <tr>\n",
       "      <th>4</th>\n",
       "      <td>100097</td>\n",
       "      <td>159.0</td>\n",
       "      <td>220.0</td>\n",
       "      <td>79.0</td>\n",
       "      <td>635.61</td>\n",
       "      <td>630.02</td>\n",
       "      <td>144.73</td>\n",
       "      <td>120.50</td>\n",
       "      <td>23045.30</td>\n",
       "      <td>9519.80</td>\n",
       "      <td>-0.01</td>\n",
       "      <td>-24.23</td>\n",
       "      <td>-13525.50</td>\n",
       "      <td>ABAIXO</td>\n",
       "      <td>NEGATIVO</td>\n",
       "      <td>NEGATIVO</td>\n",
       "    </tr>\n",
       "    <tr>\n",
       "      <th>1</th>\n",
       "      <td>100059</td>\n",
       "      <td>80.0</td>\n",
       "      <td>112.0</td>\n",
       "      <td>15.0</td>\n",
       "      <td>577.29</td>\n",
       "      <td>546.28</td>\n",
       "      <td>76.60</td>\n",
       "      <td>51.32</td>\n",
       "      <td>6104.33</td>\n",
       "      <td>769.78</td>\n",
       "      <td>-0.05</td>\n",
       "      <td>-25.28</td>\n",
       "      <td>-5334.55</td>\n",
       "      <td>ABAIXO</td>\n",
       "      <td>NEGATIVO</td>\n",
       "      <td>NEGATIVO</td>\n",
       "    </tr>\n",
       "    <tr>\n",
       "      <th>2</th>\n",
       "      <td>100063</td>\n",
       "      <td>57.0</td>\n",
       "      <td>80.0</td>\n",
       "      <td>9.0</td>\n",
       "      <td>340.87</td>\n",
       "      <td>369.32</td>\n",
       "      <td>87.30</td>\n",
       "      <td>101.39</td>\n",
       "      <td>4935.66</td>\n",
       "      <td>912.55</td>\n",
       "      <td>0.08</td>\n",
       "      <td>14.09</td>\n",
       "      <td>-4023.11</td>\n",
       "      <td>ABAIXO</td>\n",
       "      <td>POSITIVO</td>\n",
       "      <td>NEGATIVO</td>\n",
       "    </tr>\n",
       "    <tr>\n",
       "      <th>183</th>\n",
       "      <td>101262</td>\n",
       "      <td>78.0</td>\n",
       "      <td>123.0</td>\n",
       "      <td>52.0</td>\n",
       "      <td>419.44</td>\n",
       "      <td>413.81</td>\n",
       "      <td>157.75</td>\n",
       "      <td>168.01</td>\n",
       "      <td>12365.35</td>\n",
       "      <td>8736.64</td>\n",
       "      <td>-0.01</td>\n",
       "      <td>10.26</td>\n",
       "      <td>-3628.71</td>\n",
       "      <td>ABAIXO</td>\n",
       "      <td>POSITIVO</td>\n",
       "      <td>NEGATIVO</td>\n",
       "    </tr>\n",
       "    <tr>\n",
       "      <th>106</th>\n",
       "      <td>100763</td>\n",
       "      <td>107.0</td>\n",
       "      <td>135.0</td>\n",
       "      <td>53.0</td>\n",
       "      <td>265.81</td>\n",
       "      <td>274.79</td>\n",
       "      <td>71.90</td>\n",
       "      <td>76.91</td>\n",
       "      <td>7687.36</td>\n",
       "      <td>4076.37</td>\n",
       "      <td>0.03</td>\n",
       "      <td>5.01</td>\n",
       "      <td>-3610.99</td>\n",
       "      <td>ABAIXO</td>\n",
       "      <td>POSITIVO</td>\n",
       "      <td>NEGATIVO</td>\n",
       "    </tr>\n",
       "    <tr>\n",
       "      <th>...</th>\n",
       "      <td>...</td>\n",
       "      <td>...</td>\n",
       "      <td>...</td>\n",
       "      <td>...</td>\n",
       "      <td>...</td>\n",
       "      <td>...</td>\n",
       "      <td>...</td>\n",
       "      <td>...</td>\n",
       "      <td>...</td>\n",
       "      <td>...</td>\n",
       "      <td>...</td>\n",
       "      <td>...</td>\n",
       "      <td>...</td>\n",
       "      <td>...</td>\n",
       "      <td>...</td>\n",
       "      <td>...</td>\n",
       "    </tr>\n",
       "    <tr>\n",
       "      <th>624</th>\n",
       "      <td>120473</td>\n",
       "      <td>1.0</td>\n",
       "      <td>1.0</td>\n",
       "      <td>NaN</td>\n",
       "      <td>78.00</td>\n",
       "      <td>NaN</td>\n",
       "      <td>-0.59</td>\n",
       "      <td>NaN</td>\n",
       "      <td>-0.59</td>\n",
       "      <td>NaN</td>\n",
       "      <td>NaN</td>\n",
       "      <td>NaN</td>\n",
       "      <td>NaN</td>\n",
       "      <td>N/A</td>\n",
       "      <td>N/A</td>\n",
       "      <td>N/A</td>\n",
       "    </tr>\n",
       "    <tr>\n",
       "      <th>625</th>\n",
       "      <td>120476</td>\n",
       "      <td>1.0</td>\n",
       "      <td>2.0</td>\n",
       "      <td>NaN</td>\n",
       "      <td>35.41</td>\n",
       "      <td>NaN</td>\n",
       "      <td>0.37</td>\n",
       "      <td>NaN</td>\n",
       "      <td>0.50</td>\n",
       "      <td>NaN</td>\n",
       "      <td>NaN</td>\n",
       "      <td>NaN</td>\n",
       "      <td>NaN</td>\n",
       "      <td>N/A</td>\n",
       "      <td>N/A</td>\n",
       "      <td>N/A</td>\n",
       "    </tr>\n",
       "    <tr>\n",
       "      <th>626</th>\n",
       "      <td>120478</td>\n",
       "      <td>1.0</td>\n",
       "      <td>1.0</td>\n",
       "      <td>NaN</td>\n",
       "      <td>28.96</td>\n",
       "      <td>NaN</td>\n",
       "      <td>2.19</td>\n",
       "      <td>NaN</td>\n",
       "      <td>2.19</td>\n",
       "      <td>NaN</td>\n",
       "      <td>NaN</td>\n",
       "      <td>NaN</td>\n",
       "      <td>NaN</td>\n",
       "      <td>N/A</td>\n",
       "      <td>N/A</td>\n",
       "      <td>N/A</td>\n",
       "    </tr>\n",
       "    <tr>\n",
       "      <th>627</th>\n",
       "      <td>100867</td>\n",
       "      <td>1.0</td>\n",
       "      <td>2.0</td>\n",
       "      <td>NaN</td>\n",
       "      <td>35.59</td>\n",
       "      <td>NaN</td>\n",
       "      <td>2.65</td>\n",
       "      <td>NaN</td>\n",
       "      <td>3.53</td>\n",
       "      <td>NaN</td>\n",
       "      <td>NaN</td>\n",
       "      <td>NaN</td>\n",
       "      <td>NaN</td>\n",
       "      <td>N/A</td>\n",
       "      <td>N/A</td>\n",
       "      <td>N/A</td>\n",
       "    </tr>\n",
       "    <tr>\n",
       "      <th>628</th>\n",
       "      <td>100002</td>\n",
       "      <td>1.0</td>\n",
       "      <td>2.0</td>\n",
       "      <td>NaN</td>\n",
       "      <td>236.92</td>\n",
       "      <td>NaN</td>\n",
       "      <td>32.35</td>\n",
       "      <td>NaN</td>\n",
       "      <td>43.14</td>\n",
       "      <td>NaN</td>\n",
       "      <td>NaN</td>\n",
       "      <td>NaN</td>\n",
       "      <td>NaN</td>\n",
       "      <td>N/A</td>\n",
       "      <td>N/A</td>\n",
       "      <td>N/A</td>\n",
       "    </tr>\n",
       "  </tbody>\n",
       "</table>\n",
       "<p>629 rows × 16 columns</p>\n",
       "</div>"
      ],
      "text/plain": [
       "     código  base_alvo  base_max  vendas_s17  R$_médio_periodo  R$_médio_s17  \\\n",
       "4    100097      159.0     220.0        79.0            635.61        630.02   \n",
       "1    100059       80.0     112.0        15.0            577.29        546.28   \n",
       "2    100063       57.0      80.0         9.0            340.87        369.32   \n",
       "183  101262       78.0     123.0        52.0            419.44        413.81   \n",
       "106  100763      107.0     135.0        53.0            265.81        274.79   \n",
       "..      ...        ...       ...         ...               ...           ...   \n",
       "624  120473        1.0       1.0         NaN             78.00           NaN   \n",
       "625  120476        1.0       2.0         NaN             35.41           NaN   \n",
       "626  120478        1.0       1.0         NaN             28.96           NaN   \n",
       "627  100867        1.0       2.0         NaN             35.59           NaN   \n",
       "628  100002        1.0       2.0         NaN            236.92           NaN   \n",
       "\n",
       "     MC/unidade_período  MC/unidade_s17  MC/semana_período  MC_total_s17  \\\n",
       "4                144.73          120.50           23045.30       9519.80   \n",
       "1                 76.60           51.32            6104.33        769.78   \n",
       "2                 87.30          101.39            4935.66        912.55   \n",
       "183              157.75          168.01           12365.35       8736.64   \n",
       "106               71.90           76.91            7687.36       4076.37   \n",
       "..                  ...             ...                ...           ...   \n",
       "624               -0.59             NaN              -0.59           NaN   \n",
       "625                0.37             NaN               0.50           NaN   \n",
       "626                2.19             NaN               2.19           NaN   \n",
       "627                2.65             NaN               3.53           NaN   \n",
       "628               32.35             NaN              43.14           NaN   \n",
       "\n",
       "     Dif. % R$_médio  Dif_MC/unid  Dif. MC/semana RESULTADO (vendas)  \\\n",
       "4              -0.01       -24.23       -13525.50             ABAIXO   \n",
       "1              -0.05       -25.28        -5334.55             ABAIXO   \n",
       "2               0.08        14.09        -4023.11             ABAIXO   \n",
       "183            -0.01        10.26        -3628.71             ABAIXO   \n",
       "106             0.03         5.01        -3610.99             ABAIXO   \n",
       "..               ...          ...             ...                ...   \n",
       "624              NaN          NaN             NaN                N/A   \n",
       "625              NaN          NaN             NaN                N/A   \n",
       "626              NaN          NaN             NaN                N/A   \n",
       "627              NaN          NaN             NaN                N/A   \n",
       "628              NaN          NaN             NaN                N/A   \n",
       "\n",
       "    RESULTADO (MC/unid) RESULTADO (MC_total/semana)  \n",
       "4              NEGATIVO                    NEGATIVO  \n",
       "1              NEGATIVO                    NEGATIVO  \n",
       "2              POSITIVO                    NEGATIVO  \n",
       "183            POSITIVO                    NEGATIVO  \n",
       "106            POSITIVO                    NEGATIVO  \n",
       "..                  ...                         ...  \n",
       "624                 N/A                         N/A  \n",
       "625                 N/A                         N/A  \n",
       "626                 N/A                         N/A  \n",
       "627                 N/A                         N/A  \n",
       "628                 N/A                         N/A  \n",
       "\n",
       "[629 rows x 16 columns]"
      ]
     },
     "execution_count": 16,
     "metadata": {},
     "output_type": "execute_result"
    }
   ],
   "source": [
    "relatorio_final"
   ]
  },
  {
   "cell_type": "code",
   "execution_count": 17,
   "id": "3caed277",
   "metadata": {
    "ExecuteTime": {
     "end_time": "2022-05-02T13:28:43.179729Z",
     "start_time": "2022-05-02T13:28:42.865936Z"
    }
   },
   "outputs": [],
   "source": [
    "relatorio_final.to_excel(r'relatorio_S17.xlsx', index = False)"
   ]
  },
  {
   "cell_type": "markdown",
   "id": "6261f140",
   "metadata": {
    "ExecuteTime": {
     "end_time": "2022-04-18T16:06:57.059030Z",
     "start_time": "2022-04-18T16:06:57.021504Z"
    }
   },
   "source": [
    "# Relatório por canal"
   ]
  },
  {
   "cell_type": "code",
   "execution_count": 18,
   "id": "b84a5f6c",
   "metadata": {
    "ExecuteTime": {
     "end_time": "2022-05-02T13:28:43.242222Z",
     "start_time": "2022-05-02T13:28:43.181637Z"
    }
   },
   "outputs": [],
   "source": [
    "# Agrupando o 'elg_delta_calc' por canal\n",
    "elg_ref_canal = elg_delta_calc.groupby(by = ['Código', 'SEMANA', 'MÉDIO_CANAL'], as_index = False).agg(\n",
    "    vendas_sum = pd.NamedAgg(column = 'Volume / Mês', aggfunc = 'sum'),\n",
    "    vlr_mean = pd.NamedAgg(column = 'Vr Unitário', aggfunc = 'mean'))"
   ]
  },
  {
   "cell_type": "code",
   "execution_count": 19,
   "id": "b46f3535",
   "metadata": {
    "ExecuteTime": {
     "end_time": "2022-05-02T13:28:49.191118Z",
     "start_time": "2022-05-02T13:28:43.244265Z"
    }
   },
   "outputs": [],
   "source": [
    "#Gerando as listas para criar o DF\n",
    "lt_codigos = list()\n",
    "lt_canal = list()\n",
    "lt_media_vendas_semana = list()\n",
    "lt_preco_med_periodo = list()\n",
    "lt_baseline_min = list()\n",
    "lt_baseline_max = list()\n",
    "\n",
    "for cod in elg_ref_canal['Código'].unique():\n",
    "    tab_cod = elg_ref_canal[elg_ref_canal['Código'] == cod]\n",
    "    for canal in tab_cod['MÉDIO_CANAL'].unique():\n",
    "        med_vend = tab_cod[tab_cod['MÉDIO_CANAL'] == canal]['vendas_sum'].mean()\n",
    "        if tab_cod[tab_cod['MÉDIO_CANAL'] == canal]['vendas_sum'].std() > 0:\n",
    "            baseline_max = (tab_cod[tab_cod['MÉDIO_CANAL'] == canal]['vendas_sum'].mean() + \n",
    "                        tab_cod[tab_cod['MÉDIO_CANAL'] == canal]['vendas_sum'].std())\n",
    "        else:\n",
    "            baseline_max = (tab_cod[tab_cod['MÉDIO_CANAL'] == canal]['vendas_sum'].mean())\n",
    "        med_pc = tab_cod[tab_cod['MÉDIO_CANAL'] == canal]['vlr_mean'].mean()\n",
    "        lt_codigos.append(cod)\n",
    "        lt_canal.append(canal)\n",
    "        lt_baseline_max.append(baseline_max)\n",
    "        lt_media_vendas_semana.append(med_vend)\n",
    "        lt_preco_med_periodo.append(med_pc)\n",
    "        \n",
    "\n",
    "# Juntando as listas para criar um DF com as informações de vendas do periodo\n",
    "df_base_canal = pd.DataFrame({'código': lt_codigos, 'canal' : lt_canal, 'base_alvo': lt_media_vendas_semana, \n",
    "                        'base_max': lt_baseline_max, 'preço_médio_90dias': lt_preco_med_periodo})\n",
    "\n",
    "df_base_canal['preço_médio_90dias'] = df_base_canal['preço_médio_90dias'].round(2)\n",
    "df_base_canal['base_max'] = df_base_canal['base_max'].round(0)\n",
    "df_base_canal['base_alvo'] = df_base_canal['base_alvo'].round(0)\n",
    "df_base_canal = df_base_canal.sort_values(by = 'base_alvo', ascending = False)"
   ]
  },
  {
   "cell_type": "markdown",
   "id": "daca88ab",
   "metadata": {
    "ExecuteTime": {
     "end_time": "2022-04-18T18:05:19.213688Z",
     "start_time": "2022-04-18T18:05:19.186524Z"
    }
   },
   "source": [
    "## DF por canal na semana passada"
   ]
  },
  {
   "cell_type": "code",
   "execution_count": 20,
   "id": "52570f9c",
   "metadata": {
    "ExecuteTime": {
     "end_time": "2022-05-02T13:28:49.237325Z",
     "start_time": "2022-05-02T13:28:49.192117Z"
    }
   },
   "outputs": [],
   "source": [
    "# Substituir novo relatório, daqui para baixo!!!!!!!!!!!\n",
    "# Criando um DF com as vendas da semana passada e classificando pelo baseline do período\n",
    "vendas_semana_passada_canal = elg_semana.groupby(by = ['Código', 'MÉDIO_CANAL'], as_index=False).agg(\n",
    "    vendas_semana_passada = pd.NamedAgg(column = 'Volume / Mês', aggfunc = 'sum'),\n",
    "    minimo_preco_semana = pd.NamedAgg(column = 'Vr Unitário', aggfunc = 'min'),\n",
    "    maximo_preco_semana = pd.NamedAgg(column = 'Vr Unitário', aggfunc = 'max'))\n",
    "\n",
    "vendas_semana_passada_canal = vendas_semana_passada_canal.rename(columns={'Código' : 'código', 'MÉDIO_CANAL' : 'canal'})\n",
    "\n",
    "relatorio_canal = vendas_semana_passada_canal.merge(df_base_canal, how = 'outer', on = ['código', 'canal'])\n",
    "\n",
    "relatorio_canal['RESULTADO'] = np.where(relatorio_canal['vendas_semana_passada'] >= relatorio_canal['base_max'], \n",
    "                                       'ACIMA', np.where(\n",
    "                                       relatorio_canal['vendas_semana_passada'] <= relatorio_canal['base_alvo'],\n",
    "                                       'ABAIXO', np.where(\n",
    "                                           ((relatorio_canal['vendas_semana_passada'] < relatorio_canal['base_max'])\n",
    "                                            &\n",
    "                                           (relatorio_canal['vendas_semana_passada'] > relatorio_canal['base_alvo'])),\n",
    "                                           'ESPERADO', 'N/A')))"
   ]
  },
  {
   "cell_type": "code",
   "execution_count": 21,
   "id": "bc66288c",
   "metadata": {
    "ExecuteTime": {
     "end_time": "2022-05-02T13:28:49.269098Z",
     "start_time": "2022-05-02T13:28:49.239319Z"
    }
   },
   "outputs": [],
   "source": [
    "#Gerando o relatório final por canal\n",
    "teste_canal = elg_semana.groupby(by = ['Código', 'MÉDIO_CANAL'], as_index=False).agg(\n",
    "    vendas_semana_passada = pd.NamedAgg(column = 'Volume / Mês', aggfunc = 'sum'),\n",
    "    média_preço_semana = pd.NamedAgg(column = 'Vr Unitário', aggfunc = 'mean'),\n",
    "    MC_total = pd.NamedAgg(column = 'Margem Contribuição Sem Imposto (R$)', aggfunc = 'sum'))\n",
    "\n",
    "teste_canal = teste_canal.rename(columns = {'vendas_semana_passada' : 'vendas_s' + elg_semana['SEMANA'][0],\n",
    "                                'média_preço_semana' : 'R$_médio_s' + elg_semana['SEMANA'][0],\n",
    "                                'MC_total' : 'MC_total_s' + elg_semana['SEMANA'][0], 'MÉDIO_CANAL' : 'canal', 'Código' : 'código'})"
   ]
  },
  {
   "cell_type": "code",
   "execution_count": 22,
   "id": "8ba99f41",
   "metadata": {
    "ExecuteTime": {
     "end_time": "2022-05-02T13:28:49.300015Z",
     "start_time": "2022-05-02T13:28:49.271093Z"
    }
   },
   "outputs": [],
   "source": [
    "relatorio_t_canal = teste_canal.merge(df_base_canal, how = 'outer', on = ['código', 'canal'])\n",
    "\n",
    "relatorio_t_canal['RESULTADO (vendas)'] = np.where(relatorio_t_canal[relatorio_t_canal.columns[2]] >= relatorio_canal['base_max'], \n",
    "                                       'ACIMA', np.where(\n",
    "                                       relatorio_t_canal[relatorio_t_canal.columns[2]] <= relatorio_canal['base_alvo'],\n",
    "                                       'ABAIXO', np.where(\n",
    "                                           ((relatorio_t_canal[relatorio_t_canal.columns[2]] < relatorio_canal['base_max'])\n",
    "                                            &\n",
    "                                           (relatorio_t_canal[relatorio_t_canal.columns[2]] > relatorio_canal['base_alvo'])),\n",
    "                                           'ESPERADO', 'N/A')))\n",
    "\n",
    "relatorio_t_canal[relatorio_t_canal.columns[3]] = relatorio_t_canal[relatorio_t_canal.columns[3]].round(2)\n",
    "\n",
    "relatorio_t_canal['Dif. % R$_médio'] = ((relatorio_t_canal[relatorio_t_canal.columns[3]] / \n",
    "                                         relatorio_t_canal['preço_médio_90dias']) - 1).round(2)\n",
    "\n",
    "relatorio_t_canal['MC_unidade'] = relatorio_t_canal[relatorio_t_canal.columns[4]] / relatorio_t_canal[relatorio_t_canal.columns[2]]\n",
    "relatorio_t_canal = relatorio_t_canal.rename(columns = {'MC_unidade' : 'MC/unidade_s' + elg_semana['SEMANA'][0]}).round(2)"
   ]
  },
  {
   "cell_type": "code",
   "execution_count": 23,
   "id": "e7ede284",
   "metadata": {
    "ExecuteTime": {
     "end_time": "2022-05-02T13:28:49.360473Z",
     "start_time": "2022-05-02T13:28:49.302012Z"
    }
   },
   "outputs": [],
   "source": [
    "#ESTOU AQUI\n",
    "# Calculando MC por unidade no período por canal\n",
    "MC_unid_canal_periodo = elg_delta_calc.groupby(by = ['Código', 'MÉDIO_CANAL'], as_index=False).agg(\n",
    "    total_vendas_periodo = pd.NamedAgg(column = 'Volume / Mês', aggfunc = 'sum'),\n",
    "    total_mc = pd.NamedAgg(column = 'Margem Contribuição Sem Imposto (R$)', aggfunc = 'sum'))\n",
    "\n",
    "MC_unid_canal_periodo['MC_unitária'] = (MC_unid_canal_periodo['total_mc'] / MC_unid_canal_periodo['total_vendas_periodo']).round(2)\n",
    "MC_unid_canal_periodo = MC_unid_canal_periodo.rename(columns = {'MÉDIO_CANAL' : 'canal'})\n",
    "mc_sku_unid_canal = MC_unid_canal_periodo[[ 'Código', 'canal', 'MC_unitária']]\n",
    "mc_sku_unid_canal = mc_sku_unid_canal.rename(columns={'Código' : 'código'})\n",
    "relatorio_t_canal = relatorio_t_canal.merge(mc_sku_unid_canal, how = 'outer', on = ['código', 'canal'])\n",
    "relatorio_t_canal = relatorio_t_canal.rename(columns = {'MC_unitária' : 'MC/unidade_período'})\n",
    "\n",
    "relatorio_t_canal['Dif_MC/unid'] = relatorio_t_canal[relatorio_t_canal.columns[10]] - relatorio_t_canal['MC/unidade_período']"
   ]
  },
  {
   "cell_type": "code",
   "execution_count": 24,
   "id": "8b59ef68",
   "metadata": {
    "ExecuteTime": {
     "end_time": "2022-05-02T13:28:49.452286Z",
     "start_time": "2022-05-02T13:28:49.363467Z"
    }
   },
   "outputs": [],
   "source": [
    "# Calculando a média da MC total por semana no período por canal\n",
    "mc_semana_canal = elg_delta_calc.groupby(by = ['Código', 'SEMANA', 'MÉDIO_CANAL'], as_index=False).agg(\n",
    "    MC_semana = pd.NamedAgg(column = 'Margem Contribuição Sem Imposto (R$)', aggfunc = 'sum'))\n",
    "\n",
    "mc_semana_periodo_canal = mc_semana_canal.groupby(by = ['Código', 'MÉDIO_CANAL'], as_index = False).agg(\n",
    "    qnt_semanas = pd.NamedAgg(column = 'SEMANA', aggfunc = 'count'),\n",
    "    mc_total_per = pd.NamedAgg(column = 'MC_semana', aggfunc = 'sum'))\n",
    "\n",
    "mc_semana_periodo_canal['média_mc/semana'] = (mc_semana_periodo_canal['mc_total_per'] / \n",
    "                                              mc_semana_periodo_canal['qnt_semanas']).round(2)\n",
    "media_mc_periodo_canal = mc_semana_periodo_canal[[ 'Código', 'MÉDIO_CANAL', 'média_mc/semana']]\n",
    "\n",
    "media_mc_periodo_canal = media_mc_periodo_canal.rename(columns = {'Código' : 'código', 'MÉDIO_CANAL' : 'canal'})\n",
    "relatorio_t_canal = relatorio_t_canal.merge(media_mc_periodo_canal, how = 'outer', on = ['código', 'canal'])\n",
    "relatorio_t_canal = relatorio_t_canal.rename(columns = {'média_mc/semana' : 'MC/semana_período'})\n",
    "\n",
    "relatorio_t_canal['Dif. MC/semana'] = relatorio_t_canal[relatorio_t_canal.columns[4]] - relatorio_t_canal['MC/semana_período']"
   ]
  },
  {
   "cell_type": "code",
   "execution_count": 25,
   "id": "6a1bafc2",
   "metadata": {
    "ExecuteTime": {
     "end_time": "2022-05-02T13:28:49.484143Z",
     "start_time": "2022-05-02T13:28:49.454224Z"
    }
   },
   "outputs": [
    {
     "name": "stderr",
     "output_type": "stream",
     "text": [
      "<ipython-input-25-db3fe9d36e1c>:10: SettingWithCopyWarning: \n",
      "A value is trying to be set on a copy of a slice from a DataFrame.\n",
      "Try using .loc[row_indexer,col_indexer] = value instead\n",
      "\n",
      "See the caveats in the documentation: https://pandas.pydata.org/pandas-docs/stable/user_guide/indexing.html#returning-a-view-versus-a-copy\n",
      "  relatorio_final_canal['RESULTADO (MC/unid)'] = np.where(relatorio_final_canal['Dif_MC/unid'] > 0, 'POSITIVO', np.where(\n",
      "<ipython-input-25-db3fe9d36e1c>:13: SettingWithCopyWarning: \n",
      "A value is trying to be set on a copy of a slice from a DataFrame.\n",
      "Try using .loc[row_indexer,col_indexer] = value instead\n",
      "\n",
      "See the caveats in the documentation: https://pandas.pydata.org/pandas-docs/stable/user_guide/indexing.html#returning-a-view-versus-a-copy\n",
      "  relatorio_final_canal['RESULTADO (MC_total/semana)'] = np.where(relatorio_final_canal['Dif. MC/semana'] > 0, 'POSITIVO', np.where(\n"
     ]
    }
   ],
   "source": [
    "# Gerando 'relatorio_final'\n",
    "relatorio_t_canal = relatorio_t_canal.rename(columns={'preço_médio_90dias' : 'R$_médio_periodo'})\n",
    "\n",
    "relatorio_final_canal = relatorio_t_canal [[ 'código', 'canal',  'base_alvo', 'base_max', relatorio_t_canal.columns[2], \n",
    "                                'R$_médio_periodo', relatorio_t_canal.columns[3], \n",
    "                               'MC/unidade_período', relatorio_t_canal.columns[10],\n",
    "                               'MC/semana_período', relatorio_t_canal.columns[4],\n",
    "                               'Dif. % R$_médio', 'Dif_MC/unid', 'Dif. MC/semana', 'RESULTADO (vendas)']]\n",
    "\n",
    "relatorio_final_canal['RESULTADO (MC/unid)'] = np.where(relatorio_final_canal['Dif_MC/unid'] > 0, 'POSITIVO', np.where(\n",
    "                                        relatorio_final_canal['Dif_MC/unid'] <= 0, 'NEGATIVO', 'N/A'))\n",
    "\n",
    "relatorio_final_canal['RESULTADO (MC_total/semana)'] = np.where(relatorio_final_canal['Dif. MC/semana'] > 0, 'POSITIVO', np.where(\n",
    "                                        relatorio_final_canal['Dif. MC/semana'] <= 0, 'NEGATIVO', 'N/A'))\n",
    "\n",
    "relatorio_final_canal = relatorio_final_canal.sort_values(by = 'Dif. MC/semana')"
   ]
  },
  {
   "cell_type": "code",
   "execution_count": 26,
   "id": "b0c22d34",
   "metadata": {
    "ExecuteTime": {
     "end_time": "2022-05-02T13:28:50.273904Z",
     "start_time": "2022-05-02T13:28:49.486488Z"
    }
   },
   "outputs": [],
   "source": [
    "relatorio_final_canal.to_excel(r'relatorio_canal_S17.xlsx', index = False)"
   ]
  },
  {
   "cell_type": "code",
   "execution_count": null,
   "id": "4e1c213b",
   "metadata": {},
   "outputs": [],
   "source": []
  }
 ],
 "metadata": {
  "hide_input": false,
  "kernelspec": {
   "display_name": "Python 3",
   "language": "python",
   "name": "python3"
  },
  "language_info": {
   "codemirror_mode": {
    "name": "ipython",
    "version": 3
   },
   "file_extension": ".py",
   "mimetype": "text/x-python",
   "name": "python",
   "nbconvert_exporter": "python",
   "pygments_lexer": "ipython3",
   "version": "3.8.8"
  },
  "toc": {
   "base_numbering": 1,
   "nav_menu": {},
   "number_sections": true,
   "sideBar": true,
   "skip_h1_title": false,
   "title_cell": "Table of Contents",
   "title_sidebar": "Contents",
   "toc_cell": false,
   "toc_position": {},
   "toc_section_display": true,
   "toc_window_display": false
  }
 },
 "nbformat": 4,
 "nbformat_minor": 5
}
